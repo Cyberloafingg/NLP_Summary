{
 "cells": [
  {
   "cell_type": "code",
   "execution_count": 2,
   "metadata": {},
   "outputs": [],
   "source": [
    "import matplotlib.pyplot as plt\n",
    "import numpy as np\n",
    "import pandas as pd\n",
    "import sklearn\n",
    "import paddle"
   ]
  },
  {
   "cell_type": "markdown",
   "metadata": {},
   "source": [
    "# 1 数据读入"
   ]
  },
  {
   "cell_type": "markdown",
   "metadata": {},
   "source": [
    "## 1.1 数据整理"
   ]
  },
  {
   "cell_type": "code",
   "execution_count": 4,
   "metadata": {},
   "outputs": [
    {
     "data": {
      "text/plain": "      id                                            content\n0  25001  【坐席】您好，实习话务员为您服务，【客户】，唉，你好那个，我刚收到咱们那个话费通知的短信了，...\n1  25002  【坐席】您好，很高兴为您服务，【客户】，嗯，你好，那个先说一下那个不太好意思，因为今天不是我...\n2  25003  【坐席】您好，很高兴为您服务，您好，【客户】，那个我这个套餐到期了也没人通知我呀，我原来是1...\n3  25004  【坐席】很高兴为您服务，您好？【客户】，唉，你好，我想问一下我那个话费现在欠了多少了？【坐席...\n4  25005  【坐席】您好，很高兴为您服务，【客户】，唉，你好，你帮我查一下，我有一个业务是返返钱的业务，...",
      "text/html": "<div>\n<style scoped>\n    .dataframe tbody tr th:only-of-type {\n        vertical-align: middle;\n    }\n\n    .dataframe tbody tr th {\n        vertical-align: top;\n    }\n\n    .dataframe thead th {\n        text-align: right;\n    }\n</style>\n<table border=\"1\" class=\"dataframe\">\n  <thead>\n    <tr style=\"text-align: right;\">\n      <th></th>\n      <th>id</th>\n      <th>content</th>\n    </tr>\n  </thead>\n  <tbody>\n    <tr>\n      <th>0</th>\n      <td>25001</td>\n      <td>【坐席】您好，实习话务员为您服务，【客户】，唉，你好那个，我刚收到咱们那个话费通知的短信了，...</td>\n    </tr>\n    <tr>\n      <th>1</th>\n      <td>25002</td>\n      <td>【坐席】您好，很高兴为您服务，【客户】，嗯，你好，那个先说一下那个不太好意思，因为今天不是我...</td>\n    </tr>\n    <tr>\n      <th>2</th>\n      <td>25003</td>\n      <td>【坐席】您好，很高兴为您服务，您好，【客户】，那个我这个套餐到期了也没人通知我呀，我原来是1...</td>\n    </tr>\n    <tr>\n      <th>3</th>\n      <td>25004</td>\n      <td>【坐席】很高兴为您服务，您好？【客户】，唉，你好，我想问一下我那个话费现在欠了多少了？【坐席...</td>\n    </tr>\n    <tr>\n      <th>4</th>\n      <td>25005</td>\n      <td>【坐席】您好，很高兴为您服务，【客户】，唉，你好，你帮我查一下，我有一个业务是返返钱的业务，...</td>\n    </tr>\n  </tbody>\n</table>\n</div>"
     },
     "execution_count": 4,
     "metadata": {},
     "output_type": "execute_result"
    }
   ],
   "source": [
    "#读取训练文件数据\n",
    "txt_path='./data/train_dataset.csv'\n",
    "#读取训练数据文件\n",
    "data=pd.read_csv(txt_path,encoding='utf-8',sep='|')\n",
    "#打印查看数据样例\n",
    "data.head(5)"
   ]
  },
  {
   "cell_type": "markdown",
   "metadata": {},
   "source": [
    "### 1.1.1 大体分析"
   ]
  },
  {
   "cell_type": "code",
   "execution_count": 5,
   "metadata": {},
   "outputs": [],
   "source": [
    "#计算最大的内容和摘要长度\n",
    "def max_text_len(self):\n",
    "    for i, col in enumerate(self):\n",
    "        data[col] = data[col].astype(str)\n",
    "        n_max = data[col].str.len().max()\n",
    "        print(i, col, n_max)"
   ]
  },
  {
   "cell_type": "code",
   "execution_count": 6,
   "metadata": {},
   "outputs": [],
   "source": [
    "#计算平均的内容和摘要长度\n",
    "def avg_text_len(self):\n",
    "    for i, col in enumerate(self):\n",
    "        data[col] = data[col].astype(str)\n",
    "        n_mean = data[col].str.len().mean()\n",
    "        print(i, col, n_mean)"
   ]
  },
  {
   "cell_type": "code",
   "execution_count": 7,
   "metadata": {},
   "outputs": [],
   "source": [
    "content_np = np.array(data['content'].astype(str).str.len())\n",
    "content_np.shape\n",
    "content_np = np.sort(content_np)"
   ]
  },
  {
   "cell_type": "code",
   "execution_count": 8,
   "metadata": {},
   "outputs": [
    {
     "data": {
      "text/plain": "[<matplotlib.lines.Line2D at 0x23abdd31910>]"
     },
     "execution_count": 8,
     "metadata": {},
     "output_type": "execute_result"
    },
    {
     "data": {
      "text/plain": "<Figure size 640x480 with 1 Axes>",
      "image/png": "[encoded data removed]"
     },
     "metadata": {},
     "output_type": "display_data"
    }
   ],
   "source": [
    "plt.plot(content_np[0:25000])"
   ]
  },
  {
   "cell_type": "code",
   "execution_count": 9,
   "metadata": {},
   "outputs": [
    {
     "ename": "KeyError",
     "evalue": "'abstract'",
     "output_type": "error",
     "traceback": [
      "\u001B[1;31m---------------------------------------------------------------------------\u001B[0m",
      "\u001B[1;31mKeyError\u001B[0m                                  Traceback (most recent call last)",
      "File \u001B[1;32mD:\\Program\\Anaconda\\envs\\paddle\\lib\\site-packages\\pandas\\core\\indexes\\base.py:3652\u001B[0m, in \u001B[0;36mIndex.get_loc\u001B[1;34m(self, key)\u001B[0m\n\u001B[0;32m   3651\u001B[0m \u001B[38;5;28;01mtry\u001B[39;00m:\n\u001B[1;32m-> 3652\u001B[0m     \u001B[38;5;28;01mreturn\u001B[39;00m \u001B[38;5;28;43mself\u001B[39;49m\u001B[38;5;241;43m.\u001B[39;49m\u001B[43m_engine\u001B[49m\u001B[38;5;241;43m.\u001B[39;49m\u001B[43mget_loc\u001B[49m\u001B[43m(\u001B[49m\u001B[43mcasted_key\u001B[49m\u001B[43m)\u001B[49m\n\u001B[0;32m   3653\u001B[0m \u001B[38;5;28;01mexcept\u001B[39;00m \u001B[38;5;167;01mKeyError\u001B[39;00m \u001B[38;5;28;01mas\u001B[39;00m err:\n",
      "File \u001B[1;32mD:\\Program\\Anaconda\\envs\\paddle\\lib\\site-packages\\pandas\\_libs\\index.pyx:147\u001B[0m, in \u001B[0;36mpandas._libs.index.IndexEngine.get_loc\u001B[1;34m()\u001B[0m\n",
      "File \u001B[1;32mD:\\Program\\Anaconda\\envs\\paddle\\lib\\site-packages\\pandas\\_libs\\index.pyx:176\u001B[0m, in \u001B[0;36mpandas._libs.index.IndexEngine.get_loc\u001B[1;34m()\u001B[0m\n",
      "File \u001B[1;32mpandas\\_libs\\hashtable_class_helper.pxi:7080\u001B[0m, in \u001B[0;36mpandas._libs.hashtable.PyObjectHashTable.get_item\u001B[1;34m()\u001B[0m\n",
      "File \u001B[1;32mpandas\\_libs\\hashtable_class_helper.pxi:7088\u001B[0m, in \u001B[0;36mpandas._libs.hashtable.PyObjectHashTable.get_item\u001B[1;34m()\u001B[0m\n",
      "\u001B[1;31mKeyError\u001B[0m: 'abstract'",
      "\nThe above exception was the direct cause of the following exception:\n",
      "\u001B[1;31mKeyError\u001B[0m                                  Traceback (most recent call last)",
      "Cell \u001B[1;32mIn[9], line 1\u001B[0m\n\u001B[1;32m----> 1\u001B[0m abstract_np \u001B[38;5;241m=\u001B[39m np\u001B[38;5;241m.\u001B[39marray(\u001B[43mdata\u001B[49m\u001B[43m[\u001B[49m\u001B[38;5;124;43m'\u001B[39;49m\u001B[38;5;124;43mabstract\u001B[39;49m\u001B[38;5;124;43m'\u001B[39;49m\u001B[43m]\u001B[49m\u001B[38;5;241m.\u001B[39mastype(\u001B[38;5;28mstr\u001B[39m)\u001B[38;5;241m.\u001B[39mstr\u001B[38;5;241m.\u001B[39mlen())\n\u001B[0;32m      2\u001B[0m abstract_np\u001B[38;5;241m.\u001B[39mshape\n\u001B[0;32m      3\u001B[0m abstract_np \u001B[38;5;241m=\u001B[39m np\u001B[38;5;241m.\u001B[39msort(abstract_np)\n",
      "File \u001B[1;32mD:\\Program\\Anaconda\\envs\\paddle\\lib\\site-packages\\pandas\\core\\frame.py:3761\u001B[0m, in \u001B[0;36mDataFrame.__getitem__\u001B[1;34m(self, key)\u001B[0m\n\u001B[0;32m   3759\u001B[0m \u001B[38;5;28;01mif\u001B[39;00m \u001B[38;5;28mself\u001B[39m\u001B[38;5;241m.\u001B[39mcolumns\u001B[38;5;241m.\u001B[39mnlevels \u001B[38;5;241m>\u001B[39m \u001B[38;5;241m1\u001B[39m:\n\u001B[0;32m   3760\u001B[0m     \u001B[38;5;28;01mreturn\u001B[39;00m \u001B[38;5;28mself\u001B[39m\u001B[38;5;241m.\u001B[39m_getitem_multilevel(key)\n\u001B[1;32m-> 3761\u001B[0m indexer \u001B[38;5;241m=\u001B[39m \u001B[38;5;28;43mself\u001B[39;49m\u001B[38;5;241;43m.\u001B[39;49m\u001B[43mcolumns\u001B[49m\u001B[38;5;241;43m.\u001B[39;49m\u001B[43mget_loc\u001B[49m\u001B[43m(\u001B[49m\u001B[43mkey\u001B[49m\u001B[43m)\u001B[49m\n\u001B[0;32m   3762\u001B[0m \u001B[38;5;28;01mif\u001B[39;00m is_integer(indexer):\n\u001B[0;32m   3763\u001B[0m     indexer \u001B[38;5;241m=\u001B[39m [indexer]\n",
      "File \u001B[1;32mD:\\Program\\Anaconda\\envs\\paddle\\lib\\site-packages\\pandas\\core\\indexes\\base.py:3654\u001B[0m, in \u001B[0;36mIndex.get_loc\u001B[1;34m(self, key)\u001B[0m\n\u001B[0;32m   3652\u001B[0m     \u001B[38;5;28;01mreturn\u001B[39;00m \u001B[38;5;28mself\u001B[39m\u001B[38;5;241m.\u001B[39m_engine\u001B[38;5;241m.\u001B[39mget_loc(casted_key)\n\u001B[0;32m   3653\u001B[0m \u001B[38;5;28;01mexcept\u001B[39;00m \u001B[38;5;167;01mKeyError\u001B[39;00m \u001B[38;5;28;01mas\u001B[39;00m err:\n\u001B[1;32m-> 3654\u001B[0m     \u001B[38;5;28;01mraise\u001B[39;00m \u001B[38;5;167;01mKeyError\u001B[39;00m(key) \u001B[38;5;28;01mfrom\u001B[39;00m \u001B[38;5;21;01merr\u001B[39;00m\n\u001B[0;32m   3655\u001B[0m \u001B[38;5;28;01mexcept\u001B[39;00m \u001B[38;5;167;01mTypeError\u001B[39;00m:\n\u001B[0;32m   3656\u001B[0m     \u001B[38;5;66;03m# If we have a listlike key, _check_indexing_error will raise\u001B[39;00m\n\u001B[0;32m   3657\u001B[0m     \u001B[38;5;66;03m#  InvalidIndexError. Otherwise we fall through and re-raise\u001B[39;00m\n\u001B[0;32m   3658\u001B[0m     \u001B[38;5;66;03m#  the TypeError.\u001B[39;00m\n\u001B[0;32m   3659\u001B[0m     \u001B[38;5;28mself\u001B[39m\u001B[38;5;241m.\u001B[39m_check_indexing_error(key)\n",
      "\u001B[1;31mKeyError\u001B[0m: 'abstract'"
     ]
    }
   ],
   "source": [
    "abstract_np = np.array(data['abstract'].astype(str).str.len())\n",
    "abstract_np.shape\n",
    "abstract_np = np.sort(abstract_np)"
   ]
  },
  {
   "cell_type": "code",
   "execution_count": null,
   "metadata": {},
   "outputs": [],
   "source": [
    "plt.plot(abstract_np[0:25000])"
   ]
  },
  {
   "cell_type": "code",
   "execution_count": 10,
   "metadata": {},
   "outputs": [
    {
     "name": "stdout",
     "output_type": "stream",
     "text": [
      "0 id 5\n",
      "1 content 29723\n",
      "None\n"
     ]
    }
   ],
   "source": [
    "#查看最大的内容和文本长度\n",
    "print(max_text_len(data.columns.tolist()))"
   ]
  },
  {
   "cell_type": "code",
   "execution_count": 11,
   "metadata": {},
   "outputs": [
    {
     "name": "stdout",
     "output_type": "stream",
     "text": [
      "0 id 5.0\n",
      "1 content 1236.5745415891577\n",
      "None\n"
     ]
    }
   ],
   "source": [
    "print(avg_text_len(data.columns.tolist()))"
   ]
  },
  {
   "cell_type": "markdown",
   "metadata": {},
   "source": [
    "1. 可以观察到输入的均值达到了1215，而输出的摘要的均值达到了105左右，估计实际上排除一些极端情况，输出摘要设置为100即可，但是受限于模型，输入长度必须为小于512。\n",
    "2. 考虑手工的去分析一下数据输入输出。"
   ]
  },
  {
   "cell_type": "markdown",
   "metadata": {},
   "source": [
    "### 1.1.2 手工分析"
   ]
  },
  {
   "cell_type": "code",
   "execution_count": null,
   "outputs": [],
   "source": [],
   "metadata": {
    "collapsed": false
   }
  },
  {
   "cell_type": "markdown",
   "metadata": {},
   "source": [
    "1. 基于分词的分析：在其他地方做了，跑一遍太慢因此这里就直接看看结果\n",
    "Top 50 Words： \n",
    "[('，', 2538404), ('【', 868249), ('】', 868137), \n",
    "('我', 793305), ('的', 717029), ('您', 666833), ('坐席', 442013), ('客户', 427701), ('是', 354202), ('这个', 344599), ('了', 315043), ('嗯', 294789), \n",
    "('？', 276643), ('给', 233060), ('那', 213093), ('就', 171916), ('那个', 169981), ('你', 166167), ('一下', 153895), ('就是', 153297), ('说', 139719), \n",
    "('这', 136215), ('话', 133796), ('啊', 123020), ('这边', 121748), ('对', 114818), ('吧', 113453), ('有', 108422), ('然后', 105621), ('现在', 99306),\n",
    " ('吗', 98498), ('一个', 86197), ('流量', 83435), ('没有', 83111), ('呢', 81668), ('帮', 81326), ('*', 80929), ('它', 77542), ('都', 75986), \n",
    " ('可以', 69961), ('在', 67182), ('他', 66476), ('好', 65854), ('先生', 65332), ('问题', 65299), ('你们', 64301), ('也', 57603), ('用', 57591), ('看', 56235),\n",
    "  ('电话', 53469)]\n",
    "2. 比如如下操作\n",
    "    - 可以看一看具体数据，首先有些词语需要进行替换，比如“坐席”，“客户”，可以考虑换成一个特殊词语或者换成特殊字符\n",
    "    - 对于具体数据中的第一句话大多为“您好...为您服务”之类的，这种句子完全无用，因此可以考虑全部去除掉\n",
    "    - 一些语气词比如“啊”，“唉”，“哦”，“噢”等\n",
    "    - 一些发语句子，比如“我想问一下”，“然后...”，“您好”，“你好”等\n",
    "    - 最为重要的是要限制句子长度小于512，因此会有几个方法，比如考虑头尾，忽略中间。等方式"
   ]
  },
  {
   "cell_type": "code",
   "execution_count": 12,
   "metadata": {},
   "outputs": [
    {
     "data": {
      "text/plain": "      id                                            content\n0  25001  【坐席】您好，实习话务员为您服务，【客户】，唉，你好那个，我刚收到咱们那个话费通知的短信了，...\n1  25002  【坐席】您好，很高兴为您服务，【客户】，嗯，你好，那个先说一下那个不太好意思，因为今天不是我...\n2  25003  【坐席】您好，很高兴为您服务，您好，【客户】，那个我这个套餐到期了也没人通知我呀，我原来是1...\n3  25004  【坐席】很高兴为您服务，您好？【客户】，唉，你好，我想问一下我那个话费现在欠了多少了？【坐席...\n4  25005  【坐席】您好，很高兴为您服务，【客户】，唉，你好，你帮我查一下，我有一个业务是返返钱的业务，...\n5  25006  【客户】喂，【坐席】，您好，有什么可以帮您【客户】你好，我想投诉一下，就是我们这个楼信号特别...\n6  25007  【坐席】您好，很高兴为您，【客户】喂，唉，你好是这样，就是我那个手机的流量封顶了嘛，他就说开...\n7  25008  【坐席】您好很高兴为您服务【客户】那个请帮我查一下我的话费和流量我这个流量上个月流转五个G怎...\n8  25009  【坐席】您好，很高兴为您服务【客户】，你好，嗯，那个不需要？【坐席】帮到您的吗？【客户】就是...\n9  25010  【坐席】很高兴服务，您好，唉，您好？【客户】，唉，你好，我这个要我这手机号是那个冰激凌套餐，...",
      "text/html": "<div>\n<style scoped>\n    .dataframe tbody tr th:only-of-type {\n        vertical-align: middle;\n    }\n\n    .dataframe tbody tr th {\n        vertical-align: top;\n    }\n\n    .dataframe thead th {\n        text-align: right;\n    }\n</style>\n<table border=\"1\" class=\"dataframe\">\n  <thead>\n    <tr style=\"text-align: right;\">\n      <th></th>\n      <th>id</th>\n      <th>content</th>\n    </tr>\n  </thead>\n  <tbody>\n    <tr>\n      <th>0</th>\n      <td>25001</td>\n      <td>【坐席】您好，实习话务员为您服务，【客户】，唉，你好那个，我刚收到咱们那个话费通知的短信了，...</td>\n    </tr>\n    <tr>\n      <th>1</th>\n      <td>25002</td>\n      <td>【坐席】您好，很高兴为您服务，【客户】，嗯，你好，那个先说一下那个不太好意思，因为今天不是我...</td>\n    </tr>\n    <tr>\n      <th>2</th>\n      <td>25003</td>\n      <td>【坐席】您好，很高兴为您服务，您好，【客户】，那个我这个套餐到期了也没人通知我呀，我原来是1...</td>\n    </tr>\n    <tr>\n      <th>3</th>\n      <td>25004</td>\n      <td>【坐席】很高兴为您服务，您好？【客户】，唉，你好，我想问一下我那个话费现在欠了多少了？【坐席...</td>\n    </tr>\n    <tr>\n      <th>4</th>\n      <td>25005</td>\n      <td>【坐席】您好，很高兴为您服务，【客户】，唉，你好，你帮我查一下，我有一个业务是返返钱的业务，...</td>\n    </tr>\n    <tr>\n      <th>5</th>\n      <td>25006</td>\n      <td>【客户】喂，【坐席】，您好，有什么可以帮您【客户】你好，我想投诉一下，就是我们这个楼信号特别...</td>\n    </tr>\n    <tr>\n      <th>6</th>\n      <td>25007</td>\n      <td>【坐席】您好，很高兴为您，【客户】喂，唉，你好是这样，就是我那个手机的流量封顶了嘛，他就说开...</td>\n    </tr>\n    <tr>\n      <th>7</th>\n      <td>25008</td>\n      <td>【坐席】您好很高兴为您服务【客户】那个请帮我查一下我的话费和流量我这个流量上个月流转五个G怎...</td>\n    </tr>\n    <tr>\n      <th>8</th>\n      <td>25009</td>\n      <td>【坐席】您好，很高兴为您服务【客户】，你好，嗯，那个不需要？【坐席】帮到您的吗？【客户】就是...</td>\n    </tr>\n    <tr>\n      <th>9</th>\n      <td>25010</td>\n      <td>【坐席】很高兴服务，您好，唉，您好？【客户】，唉，你好，我这个要我这手机号是那个冰激凌套餐，...</td>\n    </tr>\n  </tbody>\n</table>\n</div>"
     },
     "execution_count": 12,
     "metadata": {},
     "output_type": "execute_result"
    }
   ],
   "source": [
    "data.head(10)"
   ]
  },
  {
   "cell_type": "markdown",
   "metadata": {},
   "source": [
    "## 1.2 数据清理"
   ]
  },
  {
   "cell_type": "markdown",
   "metadata": {},
   "source": [
    "### 1. 首先清理第一句话"
   ]
  },
  {
   "cell_type": "markdown",
   "metadata": {},
   "source": [
    "$\\qquad$根据观察，第一句话大多是来自【坐席】的问候语句，没有实质的意义。但也有小部分的情况，第一句话来自【客户】，故首先统计一下第一句话是【客户】的情况并观察其内容，排除影响。"
   ]
  },
  {
   "cell_type": "code",
   "execution_count": 13,
   "metadata": {},
   "outputs": [],
   "source": [
    "all_conts = []"
   ]
  },
  {
   "cell_type": "code",
   "execution_count": 14,
   "metadata": {},
   "outputs": [],
   "source": [
    "cont = data['content']\n",
    "cont = cont.str.replace('【','\\【')\n",
    "client_front_conts = []\n",
    "for sen in cont:\n",
    "    cut = sen.split(\"\\\\\")[1:]\n",
    "    all_conts.append(cut)\n",
    "    if cut[0][1:3] == \"客户\":\n",
    "        client_front_conts.append(cut[0] + cut[1])"
   ]
  },
  {
   "cell_type": "code",
   "execution_count": 15,
   "metadata": {},
   "outputs": [
    {
     "data": {
      "text/plain": "['【坐席】您好，实习话务员为您服务，',\n '【客户】，唉，你好那个，我刚收到咱们那个话费通知的短信了，我看了一下说我上个月消费了二十一块多吧，然后有五元是我的包月费，然后剩下有16块多的那个其他的消费，我这个没有进行过任何的，就是上网啊，通话的，我想查查那个什么费用啊，',\n '【坐席】嗯，稍等我看一下1月啊，二十一块8，上网流量费，15块9毛3，国内通话费0.15元，到达电话打了一分钟流量的话，应该是超出了一部分，用了15块9毛3的流量费，',\n '【客户】对，我这个肯定没有用流量，因为我这个是退休在家，我家里有WIFI，我也不出去玩，一星之前我刚激活，根本连买菜都不用，我出去就是这个，这个流量是怎么出来的钱啊，你们这肯定有积分问题，',\n '【坐席】用了五十五十九兆流量，然后扣了19块15块9毛7的费用',\n '【客户】59兆流量六块钱，',\n '【坐席】电话那您对流量超出不认可的话可以给您进行上报反馈，后期会有专人给您回电处理，',\n '【客户】嗯，他最后给我回电，怎么处理呀？我要求这返就是返费，因为我肯定没消费这个，比如说电话电话有过吗？你使过我电话吗？电话我也没打过呀，我家里人也没用，我电话打过，我们每个人都有手续啊，',\n '【坐席】现在这边无法给您进行核实，只能看到您使用的超出，嗯，您是没有使用的话，我这边给您记录上报，后期会有专人给您',\n '【客户】你你给我上报余额，实际话费，反正就这15块几吧，我肯定没花点钱，我肯定要交的，但是这个我我绝对没用过，因为我就没出过门激活，',\n '【坐席】好，那我这边给您记录上报，后期会有专人给您回复，保持电话畅通啊，',\n '【客户】嗯，他什么时候联系我呀？还是直接就给我发短信，',\n '【坐席】嗯，24小时，你回复电话，',\n '【客户】噢噢，行好了行，谢谢唉，',\n '【坐席】嗯，那感谢您来电，稍后按两个一，谢谢',\n '【客户】嗯']"
     },
     "execution_count": 15,
     "metadata": {},
     "output_type": "execute_result"
    }
   ],
   "source": [
    "all_conts[0]"
   ]
  },
  {
   "cell_type": "code",
   "execution_count": 16,
   "metadata": {},
   "outputs": [
    {
     "data": {
      "text/plain": "['【客户】喂，【坐席】，您好，有什么可以帮您',\n '【客户】您好高兴服务，我答你们这电话达多少次了？投诉了多少？就是跟你们反映了多少次，就这个附近这个基站，为什么这个网络为什么老是还不好呀【坐席】？嗯，就是信号打的网络是吗？这个位置嗯，对，好的，我查一下？',\n '【客户】喂你好，【坐席】，高兴服务，唉，你好？',\n '【客户】喂你好？【坐席】，您好，嗯，您好，我是北京联通回访员，就您在4月2号的时候对永泰中路营业厅评价的差评，请问您认为我公司还有哪些方面需要改进的呢，',\n '【客户】嗯，【坐席】，您好，很高兴为您服务？',\n '【客户】看到那个网上，然后呢，【坐席】您好，',\n '【客户】反映过【坐席】，为您服务，',\n '【客户】您好，【坐席】，您好，很高兴为您服务，',\n '【客户】您好，很高兴为您服务。【坐席】唉，你好，我想装一下宽带。',\n '【客户】你好，【坐席】，您好，很高兴为您服务，您好？',\n '【客户】好，【坐席】，好',\n '【客户】嗯，【坐席】，您好，实习话务员为您服务',\n '【客户】高兴服务您好，【坐席】，嗯，您好，这里是北京移动客服中心，请问，',\n '【客户】唉，我这个申请了一个免提啊，嗯，喂？【坐席】，嗯，您好女士，有什么可以帮您的，',\n '【客户】你好问一下，我这某某人卡是在那个山东青岛平陆办的，为什么会是一某某人北京卡，山东省，然后平度市不是不是，当时是工作人员给我上门办的，嗯，对什么？那当时你们给我打电话，我就是在平陆申请的，当时给我打电话的时候，我还问过我说是当地的吗？我不是的话我就不要了，他告诉我是，然后我今天开始用了，我发现她是北京的，然后我现在这个卡也没返微信，也不能用这某某人卡已经被注册过了这个号码，【坐席】对',\n '【客户】喂你好我问一下这个大兴这边网络是怎么回事啊【坐席】包含手机',\n '【客户】嗯【坐席】，很高兴为您服务，',\n '【客户】嗯，【坐席】，您好，很高兴为您服务',\n '【客户】您好实习话务员，【坐席】为您服务',\n '【客户】喂你好？【坐席】，唉，您好，打扰您了，北京联通的这边看到您有通过我们在线客服来访反映要退订流量包是吗，',\n '【客户】喂你好，【坐席】，您好，我是北京联通客服中心的，工号31692，',\n '【客户】您好，很高兴为您，【坐席】您服务',\n '【客户】还有【坐席】为您服务，请讲，',\n '【客户】您好很高兴为您服务你好我想问一下就是我这从十一月份到今年十月份话费怎么用的这么高【坐席】去年十一月份二零二零年十一月份到现在啊',\n '【客户】嗯【坐席】，您好，很高兴服务，您好，那个您帮我查一下，我这个手机通话异常啊，有我查，我今天那个手机话费没钱了，然后我看了有一个记录显示是我2月9号从四点多开始到第二天，嗯，上午10点钟六点，一直在打同一个电话，打了15个小时',\n '【客户】感谢来电，【坐席】，您好，实习话务员为您服务，',\n '【客户】我这个手机，【坐席】您服务，',\n '【客户】嗯。【坐席】您好，很高兴为您服务。',\n '【客户】那个我问一下我，我我那什么，刚才我还有欠费多少钱了，【坐席】？您目前是有这个1月份未结清的，16块2毛4，再加上本月2月份的话费，交了就行？',\n '【客户】稍等我这里，我这有个问题啊，我刚才那个在那个APP上办理了一个套餐的一个变更，从这个109变成1129完了，不是下个月生效吗？但是我变更完了以后，我的手机这个信号突然间就没了，然后有了以后就变成一格，到现在一直都是一格手机关机，重启了好多次了，也一直都这样【坐席】，您这目前操作的话就收到短信吧现在',\n '【客户】您好。【坐席】就是话务员。',\n '【客户】你好，【坐席】，您好，我是北京联通的回访员，您好，1月份办理了5G升级包业务，会给您提供优质服务，占用您一点时间再办理情况，做个回访好吧，',\n '【客户】喂你好，【坐席】，嗯，实习话务员为您服务',\n '【客户】喂？【坐席】，唉，您好，我这边的话是北京联通，您现在方便接听吗，',\n '【客户】喂，你大点声行吗？【坐席】？请问可以听到吗，',\n '【客户】喂你好，那个，我想我想问你一下，我这个我这个怎么没去过，我就去过这个北京跟河北交界的，但还是北京地区，它有个修理厂，我就答了一回信，然后我这健康嘛就就就变了，新城嘛就变了，这这怎么弄啊，【坐席】？您好，中国联通，',\n '【客户】你好，我想问一下我这个手机怎么从昨天，嗯，就就从今天某某人的时候突然没4G网了，对上不了网了现在【坐席】手机上面有信号吗？先生，',\n '【客户】嗯，【坐席】，您好，很高兴为您服务，',\n '【客户】喂【坐席】您好嗯',\n '【客户】很高兴为您，【坐席】服务',\n '【客户】嗯，【坐席】，高兴为您服务？',\n '【客户】你好，帮我查一下我这个，我这我这手机号码，现在，唉，我这个手机号码昨天就被禁用了，什么情况？【坐席】？嗯，好给您看一下，稍等，您是近期用这个打了很多电话吗，',\n '【客户】嗯，【坐席】，您好，很高兴为您服务',\n '【客户】您好，【坐席】，您好，实习话务员为您服务，您好',\n '【客户】嗯，【坐席】，您好，很高兴为您服务，您好',\n '【客户】那个，【坐席】实习话务员为您服务，',\n '【客户】您好，请问什么可以帮您？唉，你好我这个手机号呀，现在他说我欠费停机了，打不了电话了，我是包年的那种，我交过费了呀，【坐席】，嗯，稍等我看一下就突然给您发短信提示是吧嗯',\n '【客户】喂【坐席】很高兴为您服务',\n '【客户】您好，【坐席】，唉，您好，很高兴服务您好，',\n '【客户】喂您好，【坐席】，您好，很高兴为您服务',\n '【客户】嗯，【坐席】，您好，很高兴为您服务',\n '【客户】嗯，【坐席】，您好，很高兴为您服务，您好，',\n '【客户】您好，【坐席】，高兴服务您好，',\n '【客户】喂你好。【坐席】很高兴为您服务。嗯，您好。',\n '【客户】喂你好，【坐席】，您好，高兴为您服务，',\n '【客户】喂你好，【坐席】，工作员为您服务，您好？',\n '【客户】嗯，【坐席】，您好高兴服务，',\n '【客户】嗯，【坐席】，您好，很高兴为您服务？',\n '【客户】嗯【坐席】您好很高兴为您服务',\n '【客户】您好，很高兴为您服务，喂，你好，那个我现在收不到，咱们那个就是联通的这个短信呢，【坐席】，是的先生，',\n '【客户】你好，【坐席】，您好',\n '【客户】嗯，【坐席】，您好，高兴为您服务，',\n '【客户】高兴为您服务，您好，一会再说，【坐席】，您好？',\n '【客户】您好，【坐席】，很高兴为您服务',\n '【客户】嗯，好，哎呀，没事的时候你们给我打电话那么多，有事给你们打电话跟男友，【坐席】，您有什么问题先生，',\n '【客户】您好，很高兴为您服务，你们有这么忙吗，【坐席】？嗯，先生，您这边就是说让您久等了，非常抱歉，您看这边有什么问题可以帮到您，',\n '【客户】你好喂你好，【坐席】服务，',\n '【客户】噢你好你好，【坐席】，您好？',\n '【客户】喂，【坐席】，高兴为您服务，唉，您好？',\n '【客户】嗯【坐席】您好很高兴为您服务您好',\n '【客户】您好，【坐席】，很高兴为您服务，',\n '【客户】嗯，【坐席】，您好，很高兴为您服务，您好这里，',\n '【客户】嗯，【坐席】，您好，很高兴为您服务，您好，',\n '【客户】喂你好【坐席】，喂，您好，嗯',\n '【客户】嗯，【坐席】，话务员为您服务',\n '【客户】喂你好，【坐席】，你好，',\n '【客户】您好很高兴，【坐席】服务？',\n '【客户】您好，【坐席】，您好，很高兴为您服务，',\n '【客户】喂你好，【坐席】，您好，可以听到讲话吗',\n '【客户】还有，【坐席】，很高兴为您服务，',\n '【客户】嗯，投诉你们这个联通的，有的业务太恶心人，【坐席】，嗯，这个您，嗯，这个您可以跟我说，然后我这边可以帮您记录反馈上去了，女士',\n '【客户】喂你好，【坐席】，高兴为您服务，您好，',\n '【客户】喂你好，【坐席】，您好，很高兴为您服务',\n '【客户】你好，【坐席】，您好，很高兴为您服务？',\n '【客户】您好，【坐席】，喂，您好，喂，您好？',\n '【客户】你好，我这个手机报为什么收不到信息唉，【坐席】，嗯156多少，',\n '【客户】喂你好，那个，我刚才看一下发一短信给我，看看我那个什么话费超了是什么流量超了什么嗯对对，不是怎么超的那么多，唉，你说我这个，嗯，有时你看在这个就是使的，叫什么呀就WIFI，你说有时候走到这个这个这个就是楼道，那就它就没有了，后来它就使自个流量了，这样的不收费，【坐席】，嗯，上WIFI的，嗯，换到4月份，说您连宽带的时候发，',\n '【客户】我后天回家，回老家着急，好可以，所以就着急喂，【坐席】，唉，您好，',\n '【客户】喂你好，【坐席】，为您服务，您好，',\n '【客户】您好，高兴为您服务，唉，你好那个，我昨天打了个电话，然后是，嗯，是5409这个工号小姑娘做的，然后那个我先跟您说一下情况，嗯，我这个我新办了一个联通号，是这本月23号办的，然后当时办之前咨询过说，嗯，我即时生效，就是本月我23号办完之后及时生效的话，那么是扣半月才对吧？套餐办一个38的，它应该是扣半月才，【坐席】噢，这个得看您当时开户选的哪种方式，',\n '【客户】您好，【坐席】，很高兴为您服务，',\n '【客户】你好【坐席】唉您好这边北京联通客服中心的工号三七五八方便接电话吗',\n '【客户】您好【坐席】，您好北京联通，',\n '【客户】您好，很高兴为您服务，喂你好，唉，那个我想问一下，就是我这个卡在这个办公楼，这就是没有信号，您帮我看一下吗？【坐席】？只是在这一个地方没有信号是吗，',\n '【客户】嗯，【坐席】，您好，很高兴为您服务，您好，',\n '【客户】您好。【坐席】兴为您服务，您好。',\n '【客户】你好，我咨询一下，我这手机怎么老是不能上网了，怎么回事【坐席】？就是说经常性的上不去网是吗？就您本机来电这个号，',\n '【客户】您好，很高兴为您服务。喂你好，那个，我想咨询一下，咱们昌平东关附近这块就是联通的，网络信号都特别弱是吗？【坐席】是手机的移动数据上网吗？',\n '【客户】喂你好，【坐席】，很高兴为您服务，唉，您好，',\n '【客户】喂，【坐席】，您好，很高兴为您服务，',\n '【客户】嗯，【坐席】，您好，很高兴为您服务',\n '【客户】你好，【坐席】，您好，很高兴为您服务，您好，',\n '【客户】很高兴为您服务，喂，你好，【坐席】，您好，什么可以帮您，',\n '【客户】您好，很高兴为您服务，这个形成卡，我为什么显示我在临沂，我的手机【坐席】，您是去过那边吗？请问一下，',\n '【客户】喂你好，【坐席】，您好，实习话务员为您服务，唉，您好',\n '【客户】嗯，【坐席】，高兴为您服务，您好，',\n '【客户】喂你好。【坐席】您好，很高兴为您服务，您好。',\n '【客户】您好，【坐席】，很高兴为您服务，嗯您好，',\n '【客户】唉，你好，我那个手机之前办了一个什么什么套餐，之前有两个套餐，一个是那个预存存话费送手机那个，还有一个什么390多的一个套餐，然后打七折的一个活动，【坐席】，您查一下，稍等一下就来电话，手机号是吧，看到这个号码之前有个70的活动，就当时办的是您的折扣到期是在这个月，您是提前解除这个',\n '【客户】你可以查到吧，【坐席】，您好，实习话务员为您服务，',\n '【客户】你好，【坐席】，唉，您好您好，很高兴为您服务，您好，',\n '【客户】嗯，【坐席】，您好，实习话务员为您服务？',\n '【客户】嗯，【坐席】，您好，实习话务员为您服务？',\n '【客户】嗯，【坐席】，您好，很高兴为您服务？',\n '【客户】这那我用叠加，【坐席】，嗯，春节好，很高兴为您服务？',\n '【客户】你好，我想让你帮我查一下我这个卡每个月消费多少钱，【坐席】，一个月消费多少钱是吧您这个套餐的话是一个五块钱的套餐，避免的话是没有分钟数也没有流量的，如果是打流量或者是用流量或者打电话的话，都是另收费的，',\n '【客户】您好实习生为您服务唉你好唉你好帮我改一下这个那个行程码上面有这个境外啊有这个境外的那个嗯提示帮您改我没有铃声吗对对行程码上面有显示越南有显示越南的行程但我没有去越南我去的是河口是云南河口【坐席】云南河口是不是和云南交界',\n '【客户】喂你好。【坐席】唉，先生您好，不好意思打扰到您了，我是北京联通的工号23670，嗯，我们接到您在市政府反馈过一个关于宽带费用问题有得到联系沟通解决吗？',\n '【客户】高兴为您服务，您好，喂你好，你帮我看看我，我这个这个号怎么刚才给我发了个微信，它怎么欠欠欠费了，您稍等，我这边给您看一下啊，【坐席】，先生，咱们这边帮您看了一下，目前显示您的这个确实显示欠了两毛二，然后咱们这边也给您看了一下账单，没有显示有相关其余的一个消费，然后针对于您欠费的这个情况，您这样您保持您来电号码通话畅通，让咱们这个相关话费的专业人员给您查询一下，您的这个相关话费构成好吧，您注意接听一下电话先生，',\n '【客户】喂【坐席】，您好，高兴为您服务，可以听到吗？先生？',\n '【客户】嗯，【坐席】，您好，很高兴为您服务，',\n '【客户】嗯，【坐席】，您好，实习话务员为您服务，你好，你帮我查一下，我这本机号码为什么老欠费啊，我都没使过，',\n '【客户】喂你好，【坐席】，您好，很高兴为您服务，您好，',\n '【客户】没有大的，就是说我要取消取消那个，我想问一下，我这流量都快到期了嘛，这流量快没了吗，【坐席】？套餐内的这个流量的话呢，只剩下225兆了，快用完了，',\n '【客户】帮我查一下我这某某人卡还有什么增值业务还有什么那个活动【坐席】嗯行好的我帮您看了一下您这个套餐是一个十九块钱套餐然后您这里面还包含了一个就是尊享权益包但是这个我帮您看了一下这个是到一月三十一号已经取消了您开一个五',\n '【客户】您好，【坐席】，实习话务员为您服务，',\n '【客户】好，【坐席】，喂您好？',\n '【客户】喂。【坐席】高兴为您服务。',\n '【客户】喂你好，您好，我这个从28号我就开始打电话了，问我这个手机是怎么扣的费，昨天24小时给我回复，现在我跟你说了也没给我回复，我打电话过去说给我解决不了了，是怎么回事呀【坐席】？稍等一下，反馈的是您来电的这个号问题是吗？',\n '【客户】您好，很高兴为您服务，唉，你好，我是这样，我想投诉那个因为什么？我那个就是我们这个套餐，这个就是打这个号的，这个原先是单位给办的那种冰淇淋套餐套餐呢，上个月我们就等于跟她解除了，这个转到个人名下，转到个人名下，完了以后呢，我呢，嗯，时间我就想给连的我绑定的我们家的那个叫嗯，宽带上宽带上，我跟他说的是上个上个礼拜我跟他说，我说如果绑定那个宽带就行了，嗯，它实际有49的套餐，按道理应该给我那个办一个49的那个套餐，他说你，你要是那个嗯，她说你要绑宽带，你就不用，你就直接去营业厅办理绑定就行了，结果我去营业厅办绑定，就说我欠费，单位交的支票以后没流量，还是欠费，在账期内说让我2月1号来办，完了我2月1号，我这不今天我就去办那个绑定绑定还是欠费欠费呢，它就实际上那那个另外一个地的营业员就告诉我说得这个，你这个实际上，嗯，下月你继续绑定，也要下月生效，这月还要交200块钱，199块【坐席】，嗯嗯嗯，我那个，',\n '【客户】您好这边【坐席】不好意思女士打扰您了，我们是北京联通的工号2846，就是关于您之前反映，是说在这个环球贸易中心这个',\n '【客户】您好感谢您来电，唉，是这样的，上周五我向你们反映我这个业务，然后你们这东周上周四反映的，然后都都断账，上周五反映的兜兜转转，这都几天了，我同心卡还没交，还还不可以，唉，中间给我打了电话，说给我恢复数据了，到现在什么事情都没有解决，然后我现在新大门都不让进？【坐席】，是说那个行程数据查不到是吗，',\n '【客户】您好，很高兴为您服务，唉，请问是北京联通吗？【坐席】？唉，是的，有什么可以帮助您的，',\n '【客户】您好，【坐席】，高兴服务，',\n '【客户】嗯，你好，就是我，我咨询一下就是我这个手机。它就是因为我要就是弄一个大数据新春卡，这手机老显示就是，嗯，不成功是什么原因呀？【坐席】噢，就是说您点开那个信用卡就是说没有信息是吗？',\n '【客户】好，【坐席】，高兴为您服务，您好，',\n '【客户】喂你好？【坐席】，您好，实习话务员，为您服务，您好，有什么帮到您？',\n '【客户】很高兴为您服务，您好，我问一下那个我上次投诉的事情处理到哪里了，【坐席】？您稍等，我看一下来电号码反馈的是吧',\n '【客户】嗯，【坐席】，很高兴为您服务',\n '【客户】噢我想那个问一下我这个现在电话月租多少【坐席】稍等一下正在为您查询一下嗯套餐显示是幺九八的套餐旧套餐月费是一百',\n '【客户】嗯，【坐席】，高兴为您服务，',\n '【客户】嗯，【坐席】，您好，实习生为您服务，',\n '【客户】嗯，【坐席】，您好，很高兴为您服务，',\n '【客户】喂【坐席】，您好，嗯，您好女士，我是北京联通的回访员，您好，嗯，通过大数据系统识别到机主，通过一个证件办理了多某某人号卡，为防止实名电话卡被他人不法利用，需要跟您核对一下入网信息，我这边显示这个尾号6239628，噢，抱歉，6389机主是位先生，您稍等一下这个不是，',\n '【客户】嗯，【坐席】，您好，实习话务员为您服务，',\n '【客户】接听的，【坐席】您好，很高兴为您服务，',\n '【客户】唉，你好，我的那个健康宝洁是北京健康宝宝然后，【坐席】好，',\n '【客户】喂你好，【坐席】，您好，北京联通客服中心的工号四四，抱歉打扰您了，就是之前您来电反馈过那个12月份都收取40元费用的问题，我后台去给您核实了一下，其实账单里边12月份最终是没有收您这个费用的，它是给您做赠费，给您减免掉，已经给您处理减免掉了，',\n '【客户】嗯【坐席】，喂您好您好？',\n '【客户】喂你好，我想请问一下那个我这大王卡现在能注销吗【坐席】，校园套餐是一个校园套餐费呢，要这个号码，',\n '【客户】喂你好，【坐席】，很高兴为您服务？',\n '【客户】您好，很高兴为您服务，唉，你好，你给我看一下，我这个卡是为什么停机啊？【坐席】？您现在来电这号是吗',\n '【客户】喂，【坐席】，高兴服务您好？',\n '【客户】嗯，【坐席】，您好，很高兴为您服务，',\n '【客户】喂，【坐席】，嗯，您好，打扰您，联通客服2908号，嗯，今天有来电反映，关于您这个号码不能正常上网的那个问题，昨天有跟您沟通过这个情况，然后您的这个问题的话呢，我们也再次反馈了，嗯，因为后台查询您的这个号码上网功能，还有数据这块确实是属于正常的，您这个有上网记录，所以您说的那个，嗯，就是赔偿的那个需求的话，我们确实没有办法给您做这个处理，',\n '【客户】为您服务，喂，你好，我现在位置在清河这边，嗯，就是这边有个急救中心嘛，附近这边，为什么我一到这边我的手机号就变成一个个了，【坐席】，行好，您看使用当中是在',\n '【客户】有时接电话。【坐席】您好，很高兴为您服务。',\n '【客户】嗯，【坐席】，很高兴为您服务？',\n '【客户】您好，实习话务员为您服务，你好，我想问一下，就是说12月11号到17号那个送的那20G流量怎么用啊？我怎么今天就没发现能用啊？我领完了【坐席】，噢，我这边看到您是已经用完了，然后您已经使用过了女士',\n '【客户】嗯，【坐席】，您好，很高兴为您服务，您好？',\n '【客户】唉？【坐席】，您好，您好，我是北京联通的回访员，您3月14号对五棵松营业厅服务评价为九分及格，请问您认为服务中哪方面需要改进呢，',\n '【客户】为您服务，你好，我问一下，就昨天我流量还超了，然后我就是，嗯，看我余额余额剩五块钱，然后就买了十个G流量短信说已到账了，然后我确定要是要早上起来给我扣了30块钱咋回事？直接欠费，【坐席】好的，这边查到的话是有购买了一个流量包，现在显示已经生效，可以使用了，是在您这个流量包生效之前，有消耗一点流量，所以产生额外的扣费，',\n '【客户】唉，你好，我是那个北京联通，我为什么我怎么欠费欠费欠了200多，我充了还充，现在现在充了一百块钱，一百块钱话费，还欠200块钱，我们这个我这个话费怎么欠欠欠这么多钱呢？我每每个月都交费的，还是每个月就只要交49块钱，怎么会超这么多钱呢【坐席】？查一下这个月的账单，您稍，您是39的月租，然后您办了一个49的流量包，就是改成一个月88块钱，',\n '【客户】喂，你好，我请问一下，【坐席】，您好，很高兴服务您好？',\n '【客户】唉为什么我是那个五星的，然后我答10018，就是那个什么专属客服，他说我不是那个五星的【坐席】，目前您来电，',\n '【客户】您好，很高兴为您服务，唉，你好，我有好久都没有去过北京了，但是行程还显示北京，你帮我看一下吗？【坐席】？就近14天没有来过北京，但是它还显示您在北京呢，对吧，',\n '【客户】嗯，【坐席】，您好，实习话务员为您服务，',\n '【客户】5月份您好您好，唉，你好是这样，唉，我这个现在这个手机号的套餐，是我原来单位办的那个合约套餐，然后这个月底就到期了，我因为换了单位，然后那个合约套餐肯定没法去了，我想换一个套餐的结果，那个，嗯，APP里显示说还有合约没到期，没法操作，那我现在应该怎么操作这个？【坐席】？嗯，这边我看一下您的号码的话，您是说想办用这个手机号去办一个宽带套餐，是这意思吗，',\n '【客户】您好，很高兴为您服务，【坐席】，你好，你给我查一下，我这欠多少费好，那我看了一下，目前欠费情况，对查询，嗯，目前是欠费金额是207块7毛5？',\n '【客户】嗯，【坐席】，您好，很高兴为您服务',\n '【客户】嗯，【坐席】，您好，实习话务员为您服务？',\n '【客户】那个，【坐席】，很高兴为您服务，您好，',\n '【客户】您好，很高兴为您服务，唉，你好那个，我这手机上面有网，怎么还扣了联通的话费了？1月份的，【坐席】稍等一下，女士，这个属于是您上网流量费，',\n '【客户】唉，你好，我想问一下，就是我收到那个短信说我这个本月的话，那个固定的费用是五块，然后有一个其他的费用是35块，我就是查一下这个是其他的费用是，嗯是什么费用，【坐席】？其他费用这个流量费用，先生上个月是有35块3毛71个流量费，这边显示，',\n '【客户】嗯好的，【坐席】，为您服务？',\n '【客户】嗯，你好，我怎么超出了这个，我产生套餐外流量？【坐席】，嗯，还有一号流量是吗，',\n '【客户】现在【坐席】，您好，很高兴为您服务',\n '【客户】嗯，【坐席】，您好，打扰您了，北京联通的这边看到您有通过我们腾讯客服来访，要求电话回复是吧，',\n '【客户】高兴为您服务，您好，我跟您咨询个问题，就是咱们那个通讯大树锯形成卡，为什么手机扫不出来呀，【坐席】？腾讯当地学生卡，',\n '【客户】您好，【坐席】，很高兴为您服务',\n '【客户】嗯【坐席】，您好，实习话务员为您，',\n '【客户】喂你好。喂你好。【坐席】您好，很高兴为您服务。',\n '【客户】喂你好，【坐席】，您好，很高兴为您服务，',\n '【客户】您好，实习话务员为您服务，喂你好，我想让你帮我查一下这我这个手机号码是不是跑流量？【坐席】？嗯，您说什么先生？您说什么意思？先生，您说流量超出了吗，',\n '【客户】嗯，【坐席】，您好，很高兴为您服务，唉，您好？',\n '【客户】嗯你好，我我名下应该还有一个联通的这个手机号，然后是，嗯，我想改成附卡，改成我这个手机的副卡，【坐席】，这个想把这个号？',\n '【客户】嗯，【坐席】，您好，很高兴为您服务',\n '【客户】对【坐席】，您好，实习话务员为您？',\n '【客户】您好，很高兴为您服务，请问什么可以帮您可以的，稍等一下，帮您临时开机了，【坐席】，您稍后看一下能否使用，往里面交一下话费就可以了，最少需要缴纳67块零1，就能保证给您开机，',\n '【客户】嗯好的，【坐席】，很高兴为您服务，您好？',\n '【客户】嗯【坐席】，您好，很高兴为您服务？',\n '【客户】嗯，【坐席】，您好，实习话务员为您服务，',\n '【客户】嗯，【坐席】，很高兴为您服务，',\n '【客户】嗯，【坐席】，您好，很高兴为您服务，',\n '【客户】唉你好我就是想查一下我那个刚才收到短信我那个流量超了三百多兆我每个月那个月的那个什么砖包了呀怎么还会超尤其是这两天不是有那个免费村节的二十个G的吗【坐席】二十个G的流量包是二月十一',\n '【客户】唉你好【坐席】，您好，很高兴为您服务，',\n '【客户】您好，很高兴为您服务，唉，你好，早晨你们客服给我答电话，说我这网不是卡吗？给我数据同步下来，不管是你给我备一下子吧，好长时间了，停卡了，行，您在一个位置还是在所有位置都这样，都所有的都这样，【坐席】，您现在的话是因为江苏才这样先生',\n '【客户】喂你好，我手机不知道咋回事，怎么没有任何网络信号了呢，【坐席】？是您本机来电的这个号，您稍等这边给您看一下，这边的话，显示您的号卡状态是正常的，您把手机手机关机重启5到10分钟左右再试，',\n '【客户】唉，你好，我想请问一下，就是这个北京丰台区还乐佳苑，这个联通网什么时候能通啊？不是啊，新小区？【坐席】没有覆盖是吗，',\n '【客户】喂，【坐席】，唉，您好先生，北京联通客服中心的工号287，不好意思，打扰您了，',\n '【客户】您好，【坐席】，您好，实习话务员为您服务',\n '【客户】嗯，【坐席】，您好，实习话务员为您服务，',\n '【客户】喂喂你好【坐席】，唉，您好，',\n '【客户】啊，【坐席】，您好，实习话务员为您服务，',\n '【客户】喂，【坐席】，您好，很高兴为您服务，您好，',\n '【客户】嗯，【坐席】，高兴服务您好，您好，我想问一下，',\n '【客户】你好，【坐席】，您好，实习话务员为您服务？',\n '【客户】喂，你好啊，我想问一下那个，现在这个就是这月就是到期了这套餐我问一下自己时间停12的，就说我好像是有个48块钱，是什么情况？我也不太清楚，你给我说一下，【坐席】，稍等，我帮您查一下，您来电这个号码，然后取消这个费用是吧，稍等一下，嗯，给您看了一下女士一个问题，您这边宽带到期时间的话是到2021年的2月底就到这个月，然后月底最后一天就可以用到，如果您这边想办理续约的话，建议您提前办，然后您这边里面未结清费用话，您稍等，我查一下，你好女士，感谢耐心，等待这边给您查询了一下，然后您这边，嗯，您这边的话就是说，嗯，看一下产生，总共是18块8毛5的一个费用，然后这边给您查询了一下，显示到您这边的话是有那个，嗯，2020年您这边呢？2021年您这边的话那个，嗯，2月份，然后有一个流量包，然后是扣了费用的，另外的话呢，是您这边通话',\n '【客户】唉，我问问你们这里，你们这超出的套餐流量是多少钱？一一个G，【坐席】，发到您来电这个号码里面，您说啊，先生，',\n '【客户】先生，【坐席】您好，很高兴为您服务？',\n '【客户】唉呀，我这个我这的一个健身房，这没信号，这这个，【坐席】，嗯，',\n '【客户】啊喂你好，唉，我想咨询一下，就是我的话费套餐到底是什么样的套餐了？当初我办的时候那个，嗯，那个咱们的营业厅的客服人员营业厅的服务服务人员跟我说我办的这个事呢，对那个家庭宽带的套餐就是每个月赠送给我，20G啊，是30G的流量，嗯，是嗯，就是就是说用完之后是限速，但是还能用完了，是一千分钟的长途市话，完了还得的宽带，但是昨天昨天给我发过短信来，什么冰激凌什么又给我发过短信，那什么冰激凌卡什么话是什么什么什么长途话费用了，用了多少分钟还剩多少分钟？什么家庭亲情号还有一千分钟，这是啥意思了，【坐席】？嗯，您稍等，我这边通过系统帮您看一下，就是说我这边帮您看了一下，就是说您这个分钟数，的确是一个一千分钟，但是它这个是分着的，就是您这个套餐里面是包含一个300分钟，然后您的宽带里面就说您这个号不是跟宽带绑在一起的吗？这个宽带里面包含是一个700分钟在一块，一共是一千分钟，然后它只是提示您快用完的情况下，是因为就是说您这个手机套餐里面这个300分钟，您用的是250，十分钟了，还剩余50分钟，所以它会提示您，就是说已经用完了，您用完之后，它就会自动给您走，这个700分钟并不是会说，就是说您用完了就直接扣您的费用',\n '【客户】嗯，【坐席】，您好，实习话务员为您服务，',\n '【客户】然后呢，【坐席】，喂你好，',\n '【客户】喂您好。唉，你好，我想问一下那个平手码的大声。对现在现在都打不开啊。【坐席】嗯，您是说它数据显示号码这边都收不到短信验证码是吗？',\n '【客户】移动的【坐席】那我刚才有，',\n '【客户】喂你好，【坐席】，实习话务员为您服务，您好',\n '【客户】很高兴为您服务，请说【坐席】好，',\n '【客户】嗯，【坐席】，高兴为您服务，您好，',\n '【客户】谢谢，【坐席】话务员为您服务，您好，',\n '【客户】喂，【坐席】，唉，您好，抱歉打扰您一下，联通客服中心工号3693这边的话，针对您这边刚反映这个问题，咱们这在这边呢，再跟您联系一下，因为我这边呢，给您看一下，显示他这个受理渠道的话显示是WWW.1010这样的，我这边看一下它这个显示是网上营业厅，网上营业厅的话，正常也是相当于是您自己办理的呀，',\n '【客户】你好【坐席】您好先生，北京联通客服中心的工号348，就是这边看到您前期反应有一个信号问题是吧，',\n '【客户】唉，你好，我想问一下，就是咱们现在联通的这个，嗯，信号线啊，在我家的外侨挂着在我家说已经超标了，这个问题我找谁呀【坐席】？信号线？',\n '【客户】嗯，【坐席】，您好，很高兴为您服务，您好？',\n '【客户】你好，【坐席】，为您服务，您好',\n '【客户】您好，实习话务员为您服务你，你是实习的是吗？对是的，嗯，你待会跟你讲，我不是实习的了，嗯，请问有什么我可以帮您，您先说一下您的需求可以吗？唉，帮不了，嗯，您是要找找个不是17的，看电视的师傅教的，嗯，好，您稍等啊，您好先生，我这边，嗯，这边，我您先说一下您的问题可以吗？因为我们这个权限都是一样的，您说一下，我看我能不能帮您解决，嗯，我之前给你们联通答过电话，打过好几次了，嗯，你查一下记录是这个电话号是吧，我帮您查一下，我查一下，您稍等，嗯，是这个变更套餐这个是吗？五元套餐，唉，你就说给我给我解决了没有吧，我看一下啊，您是要改一个更低的套餐，它之后应该是会有联系您的，不是你这完全不懂，完全不懂，我不是要改套餐，我不是要改套餐，我是我那个账号被被加入到黑名单了，是要把我的账号跟黑名单里退出去啊，您这个黑名单我没有看到您这个有记录这个是我这边，嗯，确实是没有查到您这个变更，要从黑名单出去这个单子，你看我之前的电话号码是啥呀？这个电话号码4598尾号这个598是吧，对开头是132是吧，嗯，不是等会儿啊，这开头的话是186，是广州的是吧，这边这个号我帮您查一下啊，您是之前在这咨询的事情没有给您解决是吗？对啊，先生，对啊，对啊，嗯，这样吧，我这边再给您记录，噢，您说那肯定是没解决，没有解决，我还不会给你们打什么电话呀，你这不是都可以一起吗？这个这个，嗯，这边您再说一下您的需求，我现在再给您，嗯，做一个反馈，把您的这个需求跟我再说一次，我他妈给你们联通打电话打了四五遍了，光电话费浪费我多少了，我这是用移动的移动的手机号给你们打的，第一次注册没解决是怎么回事啊？给您带来不便，希望你把你输掉了，嗯，好的稍等，女士嗯，好的，嗯，先生，我现在为您转接，听到音乐后不要挂机，好的，查话费，【坐席】，您好，联通客服人员工号五三，为您服务，您好，',\n '【客户】喂，您好，我想问问您一下，就是那个就是这个，嗯，电话号码串网的问题怎么解决呀，【坐席】？是您是什么意思？女士，',\n '【客户】您好，实习话务员为您服务，唉，你好，就是我这个行程我昨天就从北京到湖北了，但是我这个就是通过那个微信或者支付宝查询，还是显示我在北京这个怎么能改一下，因为我已经回到湖北了，已经一天了，【坐席】，稍等啊，就是上面定位的话，还是说您在这个其他地方是吧，',\n '【客户】您好【坐席】，很高兴为您服务，您好，嗯，',\n '【客户】你好，麻烦你问一下，我这个网络信号是5G的吧，【坐席】，嗯，您的套餐是5G的，就是手机，把您的网络是不是5G您就看信号旁边那个标识？',\n '【客户】唉，你好，帮我查询一下那个为什么这个月话费花了260多块钱，嗯好，【坐席】，订了一个十块钱的电话费，两个G流量包业务，',\n '【客户】喂你好，【坐席】，为您服务，',\n '【客户】喂，【坐席】，很高兴为您服务，您好？',\n '【客户】很高兴为您服务，喂你好，我问一下那个我的电话，怎么耳朵耳能打通一次电话，我打现在答不出去呢，所以我欠话费呢？【坐席】，就来电的号码，答不出去电话是吗，',\n '【客户】你好师傅，【坐席】，嗯，你看一下我这个为什么就是这个月扣了一百多块钱的话费，',\n '【客户】你好，那个我手机限速了吗？你给我查一下能听见吗？你这声音好小，能能听到声音特别小，你说对对对，只能开免提了，那没事你就这样说吧，你给我查一下，已经开始限速了是吧？嗯，50G用完了是多少G下线的？不是50G限限速吗？噢，40G就超出40G限速了好吧，是吗【坐席】？我现在用了多少了，我的信号我是这么',\n '【客户】嗯，【坐席】，您好，实习话务员为您服务，',\n '【客户】喂你好？【坐席】，唉，您好，不好意思打扰您，我这边是北京联通的31601，想跟您沟通一下您手机号码的一个使用问题，方便吗，',\n '【客户】很高兴为您服务，唉，你好那个，我想反馈一下北京市昌平区回龙观有一个叫小新装的地址，这***有问题啊，我之前来这边，嗯，北京市朝阳区昌平区，回龙观小心装，您稍等一下，我有个电话进来，您等一分钟啊，马上就好了【坐席】，您好，请不要挂机，您拨叫的用户正在通话中，所以抽的事怪不得一兆都累计呢，您好，请不要挂机，您拨叫的用户正在通话中，所以错误的事怪不得一兆都累计呢，您好，请不要挂机，您拨叫的用户正在通话中里头的那个210兆的就行了，您好，请不要挂机，您拨叫的用户正在',\n '【客户】喂，【坐席】，你好，很高兴为您服务？',\n '【客户】喂，您好我是，【坐席】北京联通回访员，您好，您好，就是您在4月17号的时候，对马家铺营业厅评价的差评，请问您认为我公司还有哪些方面需要改进的呢，',\n '【客户】喂？【坐席】，您好，您好，我是北京联通的，嗯，回访员，就这边看到您在王卡助手反映的网络问题，请问现在恢复了吗，',\n '【客户】唉你好，你好，我想问一下那个联通那个话费够那个怎么买不了东西啊【坐席】？那个话费那个抵扣的您是提示',\n '【客户】嗯，【坐席】，喂您好，',\n '【客户】喂，我就问一下子我这个，我我我这手机的号码现在达这手机号码，这跟那个座机绑驾一个月多少钱啊？这个资费【坐席】您来电这个号码是吧，对，嗯，请您稍等一下，我给咱查一下啊，嗯，这个手机号码和那个固话号码绑定在一起，然后每个月的消费我给您查了一下啊，',\n '【客户】您好，很高兴为您服务，喂你好，唉，喂，我问你点事，嗯，您请讲，嗯，我在1月12号，我我的流量为什么扣我186块1毛4，我也没玩？【坐席】，在1月份是吗',\n '【客户】很高兴为您服务，【坐席】，你好',\n '【客户】您好，很高兴为您服务。那个大哥，我求求你们联通服务公司把我试过了，完了。我这个马又成了去石家庄了。我什么时候又去过石家庄，又给我造成开通了，现在工地帮我请帮我捡回来了。我没得，我只能回老家。【坐席】嗯，就说您这个手机号没有去过石家庄，提示去设置，就您来电这个号码吗？',\n '【客户】喂，你好，我已经给你们投诉多次了，喂你好，是北京联通是吧？我已经跟你们投诉过多次了，之前跟你们投诉过多次，然后这几天一直达电话，都一直达不进来，我也不知道怎么回事，好吧，然后投诉这个这个，这个信号不好，网络质量不好，好吧，然后投诉了，现在你们一直还没有给我解决呢，好吧，现在还是这样，那个详细我之前跟你们反映过多次了，好吧，我也不想多说了，好吧，反正这几天我一直给你们这个10010打电话，然后你们这就是忙就不过来，应该他直接过来好吧，已经投诉多次了，然后具体问题相应问题您看看，我之前投诉那种好吧，我也不想跟你们跟我说了，好吧，【坐席】，那我这边再帮您反馈',\n '【客户】这么多天了【坐席】，很高兴为您服务，你好这个，',\n '【客户】唉你好，【坐席】，您好',\n '【客户】唉，你好，你给我查一下我的积分好吗【坐席】？看的话您这个显示当前积分是有欠170',\n '【客户】您好，很高兴为您服务，唉，你好是这样，我之前的话已经跟那个客服说好了，因为我们这个号有问题，所以要去办理，就是要把它给销号，但是因为北京疫情的这个一直没去成营业厅，所以我想问一下，能直接在就是在线的，您这边能帮销号吗？【坐席】？来电的这个号码吗',\n '【客户】原来不是，【坐席】您好，很高兴为您服务，您好，',\n '【客户】您好，很高兴为您服务，您好，您上次我参加你们那个双12有一个，嗯就是是那个入500那个，然后就是那个那个有一个600的一个活动，就是那个券，到现在我都没收到，不知道什么原因，那然后我已经打过你们那个，你们打过你们那个这个这个电话了，然后说让我等结果，【坐席】，稍等，我看一下这边看显示是不是多次联系过您吗？然后这不显示一直都是无人接听嘛？',\n '【客户】您好，很高兴为您服务，唉，你好，我问一下，我现在那个就是我的那个健康宝，它要那个重新登录我的那个手机号行程，然后呢，我重新登录的时候，它那个输入手机验证码，老是输入过期，这是什么情况呀【坐席】？嗯，这个问题呢？已经发现近了，工作人员正在处理当中，这边给您反馈上去，会尽快联系您处理的，会尽快处理的，您再耐心等待处理结果，',\n '【客户】嗯，【坐席】，高兴为您服务，您好',\n '【客户】喂你好，【坐席】，很高兴为您服务，',\n '【客户】您好，很高兴为您服务，唉，你好，我想问一下，我昨天充了很多话费，我刚开始他说我流量超了，昨天我用完了之后为什么今天才给我发信息啊，【坐席】？稍等我查一下，',\n '【客户】嗯，【坐席】，高兴为您服务，您好，',\n '【客户】喂你好，【坐席】，唉，您好，很高兴为您服务，',\n '【客户】嗯，【坐席】，很高兴为您服务，您好？',\n '【客户】您好，【坐席】，高兴为您服务，您好',\n '【客户】很高兴为您服务，唉，你好，我问一下，就是他上个月说给我返的钱，什么时候给我啊？【坐席】？给您返的钱是吗，咱们后台工作人员有返您钱',\n '【客户】喂你好，【坐席】，高兴服务，您好，',\n '【客户】万达这边直接变更就行了吗【坐席】？没有',\n '【客户】喂，【坐席】，您好，很高兴为您服务',\n '【客户】唉你好【坐席】，您好，先生，我这边是北京联通客服中心的，工号是31655，您向我们反馈要求在线办理副卡的问题，我想跟您了解一下，您是您的通话的这个号码，要接着办理副卡吗？先生，',\n '【客户】很高兴为您服务，您好，你好，那个你帮我查一下，我这个手机号是什么时候过户到这个我我我这里这里来的？【坐席】，这个咱们这边显示开户时间是在这个2019年8月31号，先生，您看是这个时间吗，',\n '【客户】您好，【坐席】，您好，很高兴为您服务，',\n '【客户】您好，很高兴为您服务，你好，我这边办的套餐每个月返49块钱，你帮我查一下，它是直接返到我的手机卡里面，还是返到哪里去了，我才打知道每个月是扣我129，还是扣我这个反调，49以后扣的钱数，谢谢您？【坐席】，您来电的这个号码的是吗？',\n '【客户】喂你好你好，嗯，就我这个号，你们要停我多久啊？停了我一个月还不开通是吧？嗯，您说这个号码，您这边有需要办理开通吗？嗯，停了我一个礼拜了，【坐席】，嗯，您稍等，',\n '【客户】你帮我查一下什么情况上不去网啊【坐席】，就这个手机，',\n '【客户】唉唉你好，【坐席】高兴，服务您好？',\n '【客户】多少，【坐席】为您服务',\n '【客户】就比那个，【坐席】为您服务，您好？',\n '【客户】您好，实习话务员为您服务，喂你好，我想知道我这个我干啥了？我用了七个多G的流量，嗯，帮助？【坐席】，嗯，就是说您的这个流量使用情况是吗，',\n '【客户】嗯，【坐席】，您好，实习话务员为您服务',\n '【客户】喂您好，【坐席】，好的，您现在是北京联通回访员，通过大数据系统识别到您，通过一个身份证件号码，同时办理了多某某人号卡情况',\n '【客户】嗯，【坐席】，您好，很高兴为您服务，您好，',\n '【客户】嗯，【坐席】，您好，实习话务员为您服务，',\n '【客户】您好，【坐席】，您好，很高兴服务，您好，',\n '【客户】您好，很高兴为您服务，唉，您好，是这样，别人拿我的手机验证码登录我的联通APP了，然后一直看我的通讯记录，我觉得你们这个操作怎么能同时登陆这个APP呢？我觉得你们这个系统是有问题的【坐席】，登录APP，它提示您什么呢女士，',\n '【客户】嗯，【坐席】，您好，很高兴为您服务，',\n '【客户】您好，很高兴为您服务，喂你好，那个，我这这部电话呀，那个外边打不进来，我能往外打，我老是什么什么，你开通了什么？什么服务，嗯，然后这个直直接转到短信去了，我不现在，嗯，一一号的时候曾经发现过这种情况，当时我们到联通营业部去了，然后他给换了卡了，不知道为什么又发生这种情况？【坐席】，您说来电号码对吗',\n '【客户】嗯【坐席】您好很高兴为您服务',\n '【客户】喂？【坐席】，您好，是北京联通的回访员，您好，通过大数据系统识别到您通过一个身份证办理了多某某人号卡，为防止实名办理的号卡被他人不法利用，需要与您核实本机号码的入网信息，请问您是机主本人吗，稍后我把电话转到自动验证系统，您输入身份证号就行',\n '【客户】很高兴为您服务，您好，唉，我这个我这个宽带加那个宽带，我是160几块钱呢，怎么200多块钱呢？我就想，【坐席】看一下，稍等啊，先生，稍等啊，您这个我看一下啊，您这个套餐的话是优惠完之后是一百六十六一百六十六的话，您有订购了一个几块钱，两个G的一个5G升级包，这个您知道是吧，',\n '【客户】喂你好你好，【坐席】，嗯，您好先生，我是北京联通的回访员，你好，嗯，通过大数据系统识别到您，通过一个证件办理了多某某人号卡，为防止实名办理电话卡被他们无法利用，需要与您核实？',\n '【客户】喂，很高兴为您服务，您好，唉，你给我查一下我这个手机怎么回事，然后一整就没有网络，我在外面，我在就是路上，嗯？【坐席】，嗯，这样也就说您没有网络的话，您看您说，嗯，没网络，现在手机显示没有信号吗',\n '【客户】那个，【坐席】您好，很高兴为您服务，',\n '【客户】唉你好，【坐席】，您好，很高兴为您服务，您好，',\n '【客户】喂。【坐席】很高兴为您服务，您好。',\n '【客户】嗯，【坐席】，您好，很高兴为您服务，',\n '【客户】嗯，【坐席】，您好，实习话务员为您服务，',\n '【客户】对，【坐席】您好，很高兴为您服务，',\n '【客户】你好，【坐席】，高兴服务您好，',\n '【客户】嗯【坐席】，您好，高兴为您，',\n '【客户】好的我，我的事情不得到解决，我每天会拿狗***，懂吗？我答你北京联通好像不是第一次答了吧？【坐席】，您是有什么联通业务需要咨询吗？',\n '【客户】您好，你帮我看一下，我现在一个月扣多少钱啊？【坐席】，本机来电的号码是吗，',\n '【客户】喂【坐席】我是北京联通回访员您好',\n '【客户】您好，很高兴为您服务，喂你好，【坐席】，您好，',\n '【客户】喂，【坐席】，很高兴为您服务，您好，',\n '【客户】唉你好唉，是这样，麻烦您帮我紧急查一下，我我这个联通手机号打不通电话了，就是打不出去了，不知道怎么回事，嗯，接也接，不接就显，我用另外一个号打它就显示正在通话，正在繁忙，嗯，四个格，嗯，有的有的晚上我好像，嗯，就是因为之前插了两个卡在里面，然后我现在换另外一个手机，我就把其中一某某人卡拿出来过，噢，不是是我另外的一个号，我是我，我现在只能用这个号给你打电话，我那个号打不出去了，嗯********，唉，是的，服务密码【坐席】对有修改以后的，',\n '【客户】这边显示的是五块多一兆多接近了，您好，请不要挂机，【坐席】，您拨叫的用户正在通话，',\n '【客户】嗯，您好，我是去年在那个，嗯，就是联通APP上办理的那个话费的合约，然后就是我之前是给您这边打过电话，反映就是我的那个话费合约好像没有，就是他发的那个红包没有自己去还款，嗯，您看您在记录这个问题了吗，【坐席】？我看一下稍等，您说是就是收到那个红包，它不能自行还款是吗？您之前已经自动返还，',\n '【客户】嗯，【坐席】，您好，很高兴为您服务，',\n '【客户】嗯你给我，【坐席】高兴服务，',\n '【客户】您好，很高兴为您服务【坐席】，嗯，',\n '【客户】您好很高兴，【坐席】兴为您服务，嗯？',\n '【客户】喂你好，【坐席】，你好你好，',\n '【客户】很高兴为您服务【坐席】，唉，你看一下我这个手机号怎么用不了呀，手机号用不了了是吗？来电的这个号码，',\n '【客户】您好，很高兴为您服务，【坐席】，唉，你好，我们公司这个就是现在开的联通的电话票是那个普票，我们想申请专票都需要带什么材料，申请专票是吧，对对对，',\n '【客户】喂，【坐席】，唉，喂，您好，北京联通客服中心工号32769，',\n '【客户】唉，喂，你好，我家那个网信号不太好，之前找联通的人上门给我安了一个机器，那机器我现坏了？【坐席】，就是能帮我再上门看一下吗，',\n '【客户】您好高兴为您，【坐席】，为您服务，您好？',\n '【客户】嗯，【坐席】，您好，很高兴为您服务',\n '【客户】您好，很高兴为您服务是吗？嗯，喂你好，我想问一下这个，我在那个大兴就生效，基地这块，这块的是联通信号，有问题吗？那个网这几天都是天天转圈，一条信息，10月半天，因为移动的也没事啊？【坐席】，就是在这个位置是这样，别的位置都没事是吗？',\n '【客户】喂你好，【坐席】，您好，打扰您一下，是北京联通回访员，您好，通过大数据系统识别到您，通过一个身份证件号码重置，办理了多某某人号卡情况',\n '【客户】香港，【坐席】您好，很高兴为您服务，',\n '【客户】喂你好，【坐席】，很高兴为您服务',\n '【客户】嗯，【坐席】，您好，实习话务员为您服务，',\n '【客户】很高兴为您，【坐席】服务，您好，',\n '【客户】点播他们说不出来，你好，你帮我查一下，我前两天刚充了一个流量包，十个G的流量，那个为什么现在不用老扣我那个什么流量呀？我查一下稍等那个流量包七天的，我看已经使完了，已经用完了，这个为什么用这么快呀？我看一下使用记录，稍等1月14号购买的，1月14号用了1.3个G15号用了2.6个G，16号用了两个G，17号用了3.2个G18号我知道怎么可能用这么快呢？我之前是20个G的流量，我在这呆了这么长时间，没用那么快呀，怎么这两天办就用完了呀，我看显示有大量使用在腾讯视频，还有包括腾讯新闻，今日头条块数方面都有使用，那也不可能这么快，我之前用我自己的流量，就是每个月固定的这个流量特别少，那为什么现在充的这个流量包十个G的流量就这么快，嗯，确实有这个说不清楚，嗯，你们这买的流量包划了这么瞎扣，一直在扣啊，是您哪个渠道购买的流量包是没有关系的，【坐席】，嗯，',\n '【客户】喂你好，那个我我帮我查一下，我这个流量，十个G的流量，用了三四天就用完了，怎么这么快，我怀疑我怀疑你们的流量有虚假【坐席】，嗯，这个合约',\n '【客户】喂你好【坐席】，为您服务，唉，您好',\n '【客户】啊，【坐席】，您好，实习话务员为您服务？',\n '【客户】喂【坐席】，那',\n '【客户】喂，【坐席】，有啊，唉你好，',\n '【客户】您好，很高兴为您服务，唉，你好那个，我想问一下，就是我的，我的那个手机在那个***老特别差，你能给我查一下什么原因吗？在所有位置都【坐席】流量的还是个别位置啊，女士，',\n '【客户】对，【坐席】，很高兴为您服务，您好',\n '【客户】嗯，【坐席】，您好，实习话务员为您服务，',\n '【客户】嗯，【坐席】，您好，很高兴为您服务，您好，',\n '【客户】喂你好，【坐席】，您好，高兴为您服务，',\n '【客户】高兴为您服务帮助您再来电开通，唉，你好，【坐席】，您好，',\n '【客户】唉你好，嗯，好像你们有人给我打过电话，白天，但是我的噢没有，他说也没听到，对呀，我以前是打过电话，关于我的账号的问题，不是手机【坐席】手，',\n '【客户】没有了，【坐席】，高兴为您服务，您好？',\n '【客户】您好，很高兴为您服务，嗯，我这个手机号之前有人给我打电话，是开通了5G的，嗯，那个东西，但现在我这网速还不如以前呢，【坐席】，网速不好，',\n '【客户】您好，很高兴为您服务，唉，你好，我想问一下我这个卡这个刚激活没几天，怎么这个短信好像有什么发不出去啊，【坐席】，短信发不出去，稍等，我看一下账号',\n '【客户】唉，你好，我，我想问一下我那个，我这不是这个卡，不是流量，我一直关了，为啥他流量一直在使用呢，嗯，你帮我看一下，对我这卡就没开，因为我我用了一某某人流量卡，所以我就把卡二的流量全关了关了，我看今天给我发短信，我就剩了一个G了，我当时我就关流量的时候，还剩三个G4个G的流量，那为啥为啥？我当我当时是我就是17号还是16号的时候，我当时流量是我就是四个G吧，反正后面是基本上每天都在流量在在消耗，然后现在今天给我发短信，就剩了一个G的流量，这个这是什么情况来着？我知道没有使用，那为啥？我这我本来剩了四个G流量，现在就剩一个G流量了呢，这个怎么解释呢？因为之前我就反映过这个问题，之前我就跟你们反映过这个问题，你知道这个结束的话，那我这个月我流量不用的情况下还是还是流量会超对啊，短信我下发短信了，【坐席】，就剩了一个月',\n '【客户】微信是吗，【坐席】？您好，很高兴为您服务',\n '【客户】嗯，【坐席】，您好，实习话务员为您服务，',\n '【客户】很高兴为您服务，那个您好，我这个手机不是每个月有20个G的流量吗？但是我刚才已经交完电话费了，但是它怎么还是感觉跟限速跟月初跟月底限速的那个感觉是一样的，就总是那么慢啊，你帮我看一下为什么呀？【坐席】？您稍等久等了，帮您查了一下，是这样显示您这个号码的话，它现在费用不影响您的使用，跟这个没关系了，所以您看您使用当中，实际上手机上有显示那个4G网络标识吗，',\n '【客户】喂你好，【坐席】，您好，',\n '【客户】嗯，【坐席】，为您服务？',\n '【客户】嗯。【坐席】您好，很高兴为您服务。',\n '【客户】喂你好，【坐席】，很高兴为您服务，',\n '【客户】嗯？【坐席】，您好，您好，我是北京联通的回访员，您4月5号对青年路营业厅服务评价为不满意，请问您认为服务中哪方面需要改进呢，',\n '【客户】您好，很高兴为您服务，喂，你好，你能帮我查，【坐席】查一下，我这手机号有办理什么业务了吗？都请稍等，您现在来电的手机号码的话，是八块钱的流量王，这个的话是包含30分钟通话流量是200兆，您这个的话办理一个最低消费60块钱，然后给您12个G的国内流量，还有一个49块钱，20个G超大流量权益包，比如说您八块钱的话，加49是五十五十七块钱，然后的话这就小楼使用，再加三块钱？',\n '【客户】你好，唉，我想请问一下，我这手机现在消费是多少，【坐席】？这个号码的每个月19达电话的话是一毛钱一分钟，如果您使用非腾讯软件的话，是一块钱500兆日租包来电',\n '【客户】您好，很高兴为您服务，嗯，你好，我这个手机号是跟那个宽带绑定的，为什么怎么出现副话费了呢？我看一下没有办理其他的业务，【坐席】噢，帮我吗，',\n '【客户】您好，实习话务员为您服务，喂，您好，就是我这个套餐，我这个套餐我订的时候我记得是59，但是后来我看它这每个月都是扣69，我不知道这是怎么回事，嗯，好的女士，【坐席】，我这边帮您详细的查询一下，请您稍等，嗯，嗯，好的，您好女士，您好，感谢您的耐心等待，这边帮您看了一下，因为您这个号码呀，绑定了，嗯，这是座机还是宽带？我帮您查询一下，然后绑定收费的，然后每个月产生的话费就比较多了，',\n '【客户】您好，【坐席】，您好，很高兴为您服务？',\n '【客户】嗯，【坐席】，您好，很高兴为您服务，',\n '【客户】喂，【坐席】，很高兴为您服务，',\n '【客户】嗯，【坐席】，您好，很高兴为您服务，您好',\n '【客户】你好，【坐席】，唉，您好，先生，这边是刚刚给您通话，客服很抱歉，这么这么晚给您来电，',\n '【客户】喂你好，【坐席】，话务员为您服务，您好，',\n '【客户】高兴为您服务。唉，你好，我在昨天啊，中午12:39块收到一个短信。短信。是是商业局发的，你在营业厅，你这执照信息存档已失效，务必在2月23号之前进入。什么GF.WEB9.CC级时尚汇。延时将无法正常进行并处罚。这个。这个加这个是谁发的？世家********。********这是谁呀？【坐席】这谁的话我们这边也看不出来的，因为它这边的话号码联通业务是收发短信，拨打电话。上网，具体谁给您发的短信，它这边没有权限去查看，也判断不出来是谁，所以建议您谨慎判断是否有您它。',\n '【客户】二零，【坐席】您好，很高兴为您服务，',\n '【客户】喂，你好，我这个彩铃怎么一直没有啊？开通的业务是吗？不是他说他已经给我开通了，上次我答电话是谁给您开通的，【坐席】？嗯',\n '【客户】就我这手机号，它老有增值，那个话费，我增值话费都干啥了对啊，我没有增值业务，但是我话费为什么老是老是有增值增值的话费啊【坐席】，是有短信费的，您好，欠费，',\n '【客户】来电提醒没有了【坐席】，您好，实习话务员为您服务',\n '【客户】很高兴为您，【坐席】服务，',\n '【客户】对【坐席】，喂',\n '【客户】嗯，【坐席】，您好，很高兴为您服务',\n '【客户】高兴为您服务，【坐席】，您好，',\n '【客户】嗯，【坐席】，很高兴为您服务，您好？',\n '【客户】嗯，【坐席】，你好，喂，你好，你好，',\n '【客户】您好，【坐席】，唉，您好，实习话务员为您服务？',\n '【客户】唉你好我那个手机没有欠费的情况下突然网络用不了这个怎么回事啊【坐席】您说哪个用不了',\n '【客户】嗯，【坐席】，您好，实习话务员为您服务，',\n '【客户】我问你联通【坐席】您好，很高兴为您服务？',\n '【客户】您好，【坐席】，话务员为您服务，您好，',\n '【客户】喂你好【坐席】您好您好我是北京联通的回访员您好通过大数据系统识别到您通过一个身份证办理的多某某人号卡为防',\n '【客户】您好，【坐席】，很高兴为您服务，您好？',\n '【客户】地址报一下，【坐席】，您好，很高兴为您服务？',\n '【客户】您好，很高兴为您服务，喂，你好，我想问一下，你们是跟那个健康宝友合作吗？您现在是，【坐席】什么问题了，',\n '【客户】嗯，【坐席】，高兴服务您好，我问一下你们这信号也太不好了我，',\n '【客户】你好，【坐席】，您好，实习话务员为您服务？',\n '【客户】喂，【坐席】，您好，很高兴为您服务？',\n '【客户】您好，很高兴为您服务，喂，你好，我想问一下，就是我的那个嗯，今天我开了这个联通的这个手机，然后它显示我已经付477的电话费了，我不知道这个电话费是从何而来，我都没有用过这个手机，【坐席】，嗯，我看一下',\n '【客户】嗯，您好，很高兴为您服务，嗯，话费你那啥，我也看到，【坐席】，请讲先生，',\n '【客户】喂你好【坐席】，您好，',\n '【客户】手机总是那个，那个就是叫什么信号特别弱，我也没有欠费，然后也没有超出，是那个100G那4G总是特别弱，这个这个信号，喂，对答电话都都影响影响，打电话不用说上网了，好多位置都用不了，都都是这种情况，人家都网都特别好，然后我这不行，信号不是吧，【坐席】，信号是满格的吗',\n '【客户】好，【坐席】，高兴为您服务？',\n '【客户】很高兴为您服务，你好，我在咱们那个联通APP的那个商城积分商城兑换了一个礼品，然后它是我是12月27号兑换的，然后昨天我看说显示签收了，我根本就没有收到，然后我就根据那个申通的那个快递单号查询了一下，他又给我返回到那个发货人那去了，然后写的已经签收？【坐席】啊，回到他过来显示已您说用积分兑换的礼品是吗，嗯，是来电的这个号码兑换的吗，',\n '【客户】您好，很高兴为您服务，我是融合业务，然后我上个月订了一个那个，这个这个话费流量包，当月使用的，它写的是那个什么是共享流量，可是我定完之后又不共享，只能我用，后来我发现他又分主主卡副卡，我说它订的时候怎么不分主卡副卡呢？然后他说我这个特殊情况，然后上个月没有使用的话，这个月把话费返回来，你看看你怎么给它返回来啊？【坐席】，本机来电的这个号码吗，',\n '【客户】很高兴为您服务，嗯，喂，你好，【坐席】，你好，',\n '【客户】您好，很高兴为您服务，哇，好稍等一下，【坐席】，你好，唉你好，',\n '【客户】嗯，【坐席】，您好，很高兴为您服务？',\n '【客户】这是人工服务，他怎么老接不通的，是怎么回事啊？老是没有那个人工服务的，老是说那句话，老是说是语音，要办什么流量包，办理完老说这句话按几按几北京联通老是这样说，怎么现在是怎么回事，这服务一点都不周到啊，扣钱要扣很多钱，服务一点都不周到，现在是怎么回事了？老是你老是就是说北京联通这个要办理什么？要办理什么？说了半天了，也没说要接通客服部，【坐席】，请问您，',\n '【客户】嗯你说什么？我要的我就，唉喂，你好那个，我刚刚嗯，稍微听得见吗？嗯，身份证号码噢，是这样的，就是说这个流量的问题，因为这边我我这不是北京的手机号吗？然后我人在安徽里面，它那个短信有时候接收不到，就是它信号不好，然后今天一看啥时候扣了140我都不知道，所以你看能不能帮我申请一下退费啊，【坐席】，140我帮您看一下，',\n '【客户】嗯您好，我问一下，我如果想那个下个月开始取消宽带业务的话，打电话给您能办吗，【坐席】？噢，可以的，那您这个如果想使用完这个月租，就是说在您就是说，嗯，这个月底三四天左右吧，七天三四天了？',\n '【客户】您好，很高兴为您服务，嗯，你好，是这样的，我昨天就打过电话，然后就是问过，然后就是你们平台就是APP上，我不知道怎么找到在线客服，好像一直就没有在线客服，然后就是，嗯，那个就是有一个你们什么京东PLUS，然后就有一个立减20元的建用积分兑换的，它永远都显示在补过，可是我每次刷新再补过，就是领取的人数却在几万几万的不停的再再增加，所以我就觉得很奇怪，这个到底是哪里出了问题嘛？【坐席】，您是说您想用积分兑换那个京东PLUS的券？',\n '【客户】嗯，【坐席】，您好，实习话务员为您服务，',\n '【客户】唉，你好，我想问一下嘛，这个手机我在别的手机上下载那个APP，在这个手机上进行短信验证码验证，它怎么就收不到那个验证码呢【坐席】？就是收不到哪个平台的验证码是吧，',\n '【客户】嗯。【坐席】高兴服务您好。',\n '【客户】嗯，【坐席】，高兴为您服务，您好，',\n '【客户】您好，很高兴为您服务，你好，我想问一下，我这本机反映这个问题，为什么我我都转到我手机上了，为什么还那什么街上打，而且这手机上没有人接听，为什么老板这手机上打，嗯，大概四点钟都多少天了，不是都多少天的事情了，为什么老我都说了，那我的手机上我的手机上，还在这手机上打，是什么意思啊？那我看一下这已经是两回了，你给我发那个什么妃甸就是您好，您是说呼叫转移的业务吗？这个问题，嗯什么？那你们到底是有什么问题吗？不是我的问题解决了吗？我有什么问题？不是说好了这个手机，这个打我手机打我手机，为什么老版这手机上打，【坐席】，噢，您说噢，给您回电话的，那看当时留的联系电话啊，',\n '【客户】你好，你帮我看一下我这个号怎么上面给我发信息说什么欠费啊，什么意思啊，【坐席】？您先稍等一下，给您查询一下，稍等一下手机是不是之前单独订购过流量包呀？因为这边查询的话，手机号它是有一个，29元时就29元10G的一个5G的流量包，这流量包的话，是会在套餐基础上单独收费？',\n '【客户】您好高兴服务了，【坐席】好，',\n '【客户】您好，【坐席】，您好，很高兴为您服务？',\n '【客户】噢，没打扰您了啊，那个，我这手机上这段时间的信号特别不稳定，【坐席】，好不稳定，在一个月之内，',\n '【客户】喂，【坐席】，您好，很高兴为您服务？',\n '【客户】嗯，【坐席】，您好，很高兴为您服务，您好？',\n '【客户】很高兴为您服务您好【坐席】唉你好那个是这样的我这个手机我前天打过电话给咱们客服就是我这个手机号来电提醒从去年七月份开始就从来没有收到过那个那个未接来电的提醒然后当时客服说给我解决解决了半天还是没有弄我现在需要解决这个问题怎么弄',\n '【客户】行了没有了，【坐席】，很高兴为您服务？',\n '【客户】156您好【坐席】，唉，你好帮我查一下话费，帮我查一下那个手机号码',\n '【客户】唉，你好啊，我之前上周吧，反映过那个充话费的问题，你能看到记录吗？然后当时这个工作人员给我回电话，说是五个工作日，然后今天周六了，【坐席】，您上次就是说看到您手机下士说是晚十点晚上，然后找到那就没有了，我看一下是如何帮您的，',\n '【客户】我那个前两个月的账单，那个话费我没用，怎么会扣那么那么些？【坐席】，抱歉，没有听太清，您方便再说一下吗，',\n '【客户】喂你好，【坐席】，为您服务？',\n '【客户】您好很高兴服务，唉，你好，我想请问一下，之前我投诉的网络信号差，这个问题什么时候能得到反馈？【坐席】，我帮您看一下先生行稍等好的先生，我帮您查到了，先生您之前反映这个问题，它后台已经帮您去处理，先生，您现在这个信号是比之前好用了，还是说和之前一样呢',\n '【客户】我这手机现在是什么状态，【坐席】，状态显示停机了？',\n '【客户】您好您好【坐席】，唉，打扰您了，北京联通客服中心的工号，2931，针对您反馈的问题，这样几分钟时间沟通一下，我们这边给您做了，',\n '【客户】你好，请问一下我这个手机怎么这边上显示成3G了呢【坐席】？啊？是这个网络是吗？先生，嗯，是这个网络是吗？这个移动数据，',\n '【客户】您说，唉，老家我我这个手手机啊，别别人给我打电话，是中国移动的一个电话叫********达电话老说我着忙打不通，实际我这个手机啊，不忙就在那放着呢，【坐席】，嗯？',\n '【客户】好？【坐席】，喂你好，您好，请问可以听到吗',\n '【客户】喂【坐席】您好很高兴为您服务',\n '【客户】唉你好，嗯，我之前预约了一个装宽带的那个，你师傅电话，我我现在记不得了，然后我想让他今天就过来了，本来应该是明天？【坐席】电话是吗',\n '【客户】嗯对，唉您好，【坐席】，嗯您好？',\n '【客户】您好高兴服务。【坐席】嗯，你好。那个，我想咨询一下，就是联通的这个。叫来电名片的这个功能。',\n '【客户】好像上次，【坐席】您好先生您好，我是北京联通回访员，通过数据系统识别到您通过这个身份证件号码，同时办理了多某某人号卡的情况，为了进一步保护客户合法权益，需要与您核对号码入网时所登记的机主信息，',\n '【客户】您好很高兴，【坐席】，唉，你好，你查询一下，昨天我申请那个返还话费那个事，那个什么进度了？我没给我回电话，没有，现在什么情况',\n '【客户】您好高兴服务，你好，我这个手机已经欠费了，但是孩子用这个流量看的，看的那个电视，它怎么不停机啊？他反而扣钱啊，看片【坐席】，您这个号我看是，嗯，您好女士，因为您这号码我们看是那种有信用额度，就是后付费的号码，所以他是可以先使用后后交费的，所以您这有信用额度，550是可以透支啊然后所以您如果',\n '【客户】嗯，【坐席】，您好，实习话务员为您服务？',\n '【客户】您好，实习话务员为您，【坐席】为您服务？',\n '【客户】您好，很高兴为您服务【坐席】，唉，您好，我们这边是北京123***的，是这样的，我们这边接到一个市民的投诉，说是在这个顺义区，嗯，您记一下地址，顺义区马坡镇，然后庙券村，',\n '【客户】您好您好，【坐席】，为您服务，',\n '【客户】我刚刚办了以后，唉，你好，我这个号码怎么打不出去了，【坐席】？您稍等，我帮您看一下啊，稍等，',\n '【客户】现在一直没用，我一直我都没你好，把那流量给我开一下，【坐席】，这个来电的这个号码是吧，稍等，',\n '【客户】噢喂你好，【坐席】您好，很高兴为您服务，',\n '【客户】嗯好，【坐席】，您好，能听到',\n '【客户】嗯，【坐席】，您好，实习话务员为您服务，',\n '【客户】您好，很高兴为您服务，您好，那个我想问一下，我这个手机在在家里头总是接不到电话，那我想问一下有没有就是一个业务，把我这手机和我家里的电话绑定，就是说，嗯，我我这个手就是手机，如果打我的手机，就家里的电话也同时讲，你们有这个业务吗，【坐席】？嗯，手机啊，手机的话，您可以设置这个无条件呼叫转移，就是有人给您这个手机打电话转移到座机上？',\n '【客户】你好，【坐席】，您好，很高兴为您服务，',\n '【客户】嗯，【坐席】，您好，很高兴为您服务，您好？',\n '【客户】嗯，【坐席】，您好，实习话务员为您服务，',\n '【客户】嗯，【坐席】，您好，很高兴为您服务，您好，',\n '【客户】您好，实习话务员为您服务，唉，你好是这样的，就是我这个手机号是那个宽带送的一个手机号，它这个怎么查话费，【坐席】？嗯，拨打那个1001011直拨就可以，或者下载手机营业厅进行那个查询，也可以跟正常手机查话费是一样的，',\n '【客户】您好，很高兴为您服务，【坐席】，嗯，',\n '【客户】喂你好，【坐席】，北京联通，',\n '【客户】您好很高，【坐席】，很高兴为您服务，',\n '【客户】您好，很高兴为您服务，噢，我之前跟你们反馈过，就是我这边我住的这边，然后信号特别不好，【坐席】，信号不好是吧，是在什么位置啊，',\n '【客户】嗯，【坐席】，很高兴为您服务，您好，',\n '【客户】您好，【坐席】，您好，很高兴为您服务',\n '【客户】嗯，声音大点，听不见【坐席】，您好，这边，',\n '【客户】喂你好，【坐席】，您好，很高兴为您服务，',\n '【客户】很高兴为您服务，您好，喂你好，我我父亲那个手机就是也是咱联通的号，就是我给换了一个老年机之后，它在打我这个号就响了一声就自动就挂断，是什么意思啊？【坐席】？只是这一个手机号码来进行，这个打您的手机达不进来是吗，',\n '【客户】QQ还是一排障号【坐席】服务，',\n '【客户】你帮我看一下我这个余额是多少？欠费多少，几月的呀，【坐席】？1月份2月份的，',\n '【客户】嗯，【坐席】，您好，很高兴为您服务，',\n '【客户】不客气，【坐席】，服务您好，',\n '【客户】嗯，【坐席】，很高兴服务？',\n '【客户】高兴服务，【坐席】，喂你好，',\n '【客户】喂，【坐席】，高兴为您服务，您好，',\n '【客户】你好是，【坐席】实习话务员为您服务，',\n '【客户】嗯好，【坐席】，您好，实习话务员为您服务，',\n '【客户】帮助，【坐席】，您好您说，您好您说？',\n '【客户】10086，【坐席】，您好唉，先生您好，我是北京联通公司31650号是处理，是政府热线的工作人员，请问是赵先生吗，',\n '【客户】您好，很高兴为您服务，唉，你好，你帮我查一下这个话费说有好几百块钱什么钱呀？那个来电的这个号码吗？请问对对就就是来电这个，【坐席】好的，请您稍等啊',\n '【客户】嗯，【坐席】，您好，很高兴为您服务，您好，',\n '【客户】您好很高兴，【坐席】，高兴服务您好，',\n '【客户】没了，【坐席】，很高兴为您服务，您好，',\n '【客户】您好，很高兴为您服务，喂你好，你好，喂，唉，你好，就我元旦之前那个在那个积分商城换购的那个东西，现在还没发货呢，您帮我看一下？【坐席】，嗯，您自己在积分商城可以看到您的话费为刘情况呀，没有吗，',\n '【客户】嗯，【坐席】，您好，很高兴为您服务，',\n '【客户】嗯？【坐席】，您好，嗯，您好，我是北京联通回访员，那就这边看到您在王卡助手反映的网络问题，请问现在恢复了吗，',\n '【客户】您好，【坐席】，您好，实习话务员为您服务，我想问一下我的联通电话卡怎么不能用了我才办的，',\n '【客户】嗯，【坐席】，您好，很高兴为您服务？',\n '【客户】嗯，【坐席】，您好，很高兴为您服务，',\n '【客户】您好，很高兴为您服务，唉，你好，我问一下那个我手机怎么收不到短信呢，【坐席】？对哈，唉，女士是这样的，咱们这个今天的话呢，就是有接到很多客户有来电，就是说这个问题，但我们已经做上报了，嗯，是这个，嗯，暂时性的问题，然后您反映的问题的话，我们已经反馈到咱们公司这边，会尽快处理的，可能在这期间影响到您的使用了，也给您道个歉？',\n '【客户】您好，高兴为您服务，唉，你好，就是我这个手机老是有短信，就以前跟你们说过，说过我也没通常时间，到月底我再看，还是收到短信我刚才11月30日，它那个12315那个要发个验证码，事发不回来，他也没收到？【坐席】，收不到短信，就是其它的话都能都都是正常的是吗，',\n '【客户】您好高兴服务，你好，我前段时间在营业厅办了个宽带然后的话他说送送一部手机，然后用话费来换吗？嗯，他们他们现在看在话费上看显示不到，就是他们给我换话费啊？【坐席】，您的返款是什么时候，',\n '【客户】您好，很高兴为您服务，唉，您好，麻烦问一下你，我这个手机号为什么现在用不了了？你帮我看一下，【坐席】，号码您提供一下，',\n '【客户】喂你好【坐席】，您好，北京联通客服中心的，嗯，是这样，我给您来电，嗯您说？',\n '【客户】唉你好，【坐席】，您好，高兴为您服务，唉，你好',\n '【客户】喂，【坐席】，您好，很高兴为您服务，',\n '【客户】很高兴为您服务，您好，你好，是这样的啊我，【坐席】那个十一十二月3月，',\n '【客户】喂？【坐席】，您好，我是北京联通回访员，我这边看到您在王卡助手反映的网络问题，请问现在恢复了吗，嗯，那您看重启手机重新插拔卡换手机都试过吗',\n '【客户】嗯，【坐席】，您好，实习话务员为您服务，',\n '【客户】您好，很高兴为您服务，你好，我这个号码你们给我停了一个半月，办了两个多月，停了我一个半月，我这个号码【坐席】，本机号无法使用了，我看一下状态是什么原因造成的，稍等啊，您是从什么时候开始无法使用的先生，',\n '【客户】您好先生，喂你好，【坐席】好，',\n '【客户】好好好谢谢，【坐席】为您服务，',\n '【客户】嗯【坐席】，您好，很高兴为您服务，',\n '【客户】嗯你好，【坐席】，您好，很高兴为您服务，',\n '【客户】很高兴为您服务，您好，你这这联通太清楚，你帮我看一下，我都交完费了，为什么我还没有信号呢【坐席】？交上费了没有信号是吧？您是，',\n '【客户】嗯，昨天晚上我报修了一个北京IPTV的一个情况，然后你们那个工作人员尽快给我反馈了，那普通说，那我开通的业务不对，但是呢，你们这个东西是误导消费，我一个月包50块钱来钱的东西只有一个功能，这个东西就是你们没有提示，没说清楚，第二一个我其他功能都用不了，我凭什么语音花这50块钱就开通一个功能是吧，然后你们客服人员解释就是这个东西给你们客服答电话给我退掉还是那样，所以说我再给你们客服答电话啊，【坐席】，您是说您是按照，因为您想退订一个业务是吧，',\n '【客户】您好很高兴您服务你好，我这个手机号，我想查一下我的行程啊，我怎么查不出来啊？【坐席】？嗯，您是在微信小程序里面查不到吗，',\n '【客户】喂，你好，我的手机现在接不到你们的短信，验证码，短信，验证码，就你们联通的接收不到【坐席】，接收不到您说的，',\n '【客户】唉，你好，那个，你那边能看到吗？我订阅了一个九块钱的定向流量包。【坐席】来电这个号码是吧？',\n '【客户】嗯【坐席】，您好，很高兴为您服务，',\n '【客户】嗯。【坐席】您好，很高兴为您服务。',\n '【客户】你好你好，【坐席】，喂你好？',\n '【客户】喂你好，【坐席】，您好您好，',\n '【客户】很高兴服务您好，唉，你好，就是昨天我答过一个电话，后来你们说处理完了之后会答电话给我，但是我我后来打过来了，但是我可能那会忙没接到，是186什么0323的，一尾尾号的一个电话，你你看你查一查就是********我这个电话的的需求，你那还有记录吗？【坐席】？嗯，我看您是要暂停一个，嗯，2020971个尾号的一个套餐是吗，',\n '【客户】唉，你好美女，我问一下，就是我现在在方庄这边工作，然后这边的咱们联通的信号特别特别不好，然后我们现在联系了我们的公司，嗯，IP这方面的人员，然后呢插上【坐席】办法能，',\n '【客户】嗯，【坐席】，您好，很高兴为您服务，',\n '【客户】您好，很高兴为您服务，唉，你好，嗯，我想问一下，就昨天我那个流量不够不够，他也没给我停了，因为昨天开一个视频会嘛，嗯，后边我兑换了两个G的流量，它为啥还为什么还扣我了好多钱呢？【坐席】，兑换之前就超了，',\n '【客户】嗯，【坐席】，很高兴为您服务，您好，',\n '【客户】唉你好，【坐席】，高兴为您服务',\n '【客户】唉，你好，麻烦问一下我这手机号怎么那个通讯那个大数据的形成卡找不来了？【坐席】，来电这个号是吗，',\n '【客户】喂你好，【坐席】，话务员为您服务，您好，',\n '【客户】嗯，【坐席】，很高兴为您服务，',\n '【客户】高兴您服务，【坐席】，您好，',\n '【客户】唉，【坐席】，高兴服务您好？',\n '【客户】高兴为您服务，我想说一下，你们能不能尽快把这网络问题解决，我今天他们连电话都打不了了，达电话的信号是一卡一卡的现在，【坐席】明白理解您的情况，现在达电话也用不了，网络也用不了是吧，',\n '【客户】喂你好。是这样，那个我在番禺桥建材城这里。完了，我们这地方手机没信号，那个原来一直有，现在是。到地下就没有信号，不知道是是是咱们这的问题还是什么问题啊？对就上了，楼上就有，到地下室就没有。【坐席】嗯。',\n '【客户】您好，很高兴为您服务，唉，我问一下我，我的那个手机怎么月租费？怎么一百六十六十几了？169了【坐席】，稍等，我给您查一下，您不是159吗？然后套餐是199的，给您打一个七折，每个月159？',\n '【客户】嗯，【坐席】，很高兴为您服务，您好',\n '【客户】喂，【坐席】，您好，实习话务员为您服务，您好？',\n '【客户】嗯，【坐席】，很高兴为您服务，您好，您好，',\n '【客户】您好？【坐席】，唉，您好，打扰您了，北京联通的这边看到您有反映说这个充值500送600券的活动问题是吧',\n '【客户】您好高兴服务，我想问一下，嗯，您说你好【坐席】，您好，听不到，您讲话了，您好，你好可以听到吗？您好，听不到，您讲话了，您好',\n '【客户】嗯，【坐席】，您好，很高兴为您服务，',\n '【客户】喂，【坐席】，您好，实习话务员为您服务',\n '【客户】很高兴服务您好，唉，你好，你好，嗯，我想问一下我现在这个套餐是啥套餐？【坐席】，来电的这个号码是吗',\n '【客户】嗯，【坐席】，您好，很高兴为您服务？',\n '【客户】嗯，【坐席】，您好，很高兴为您服务？',\n '【客户】您好，很高兴为您服务，唉，我想问一下，我这个办理销户办理了申申请三四次了，为什么老师申请不成功啊，【坐席】，您这个是通过哪申请的这个',\n '【客户】什么时候给我加区号？唉，您好，您您那个，我今天来交这个宽带业务，说我这上加了一个，嗯，什么节目流量包，我什么时候加的流量包啊【坐席】？您说那个？',\n '【客户】嗯您好，【坐席】，您好，很高兴为您服务，',\n '【客户】嗯，【坐席】，您好，很高兴为您服务，',\n '【客户】嗯，【坐席】，您好，很高兴服务，',\n '【客户】嗯，【坐席】，您好，很高兴服务',\n '【客户】喂你好，【坐席】，您好，实习话务员为您服务？',\n '【客户】唉，你好唉，是这样的，那个我这个套餐应该是月租，是25块钱的，然后它有一个什么增值，12块钱您帮我看看这什么意思啊？对对对，【坐席】，看到您这个手机号码，王者荣耀流量权益包是游戏的这个，',\n '【客户】嗯，【坐席】，您好，很高兴为您服务，',\n '【客户】对【坐席】什么，',\n '【客户】没有这个意思，【坐席】服务，唉，您好？',\n '【客户】您好，【坐席】，您好，嗯，您好，我是北京联通的回访员，您好，嗯，根据国家实名登记要求，联通系统中登陆到客户资料，虚实名帖与本人一致，现在北京联通正在开展实名登记认证，需要请您配合完成一下实名制登记工作，嗯，那行，',\n '【客户】高兴服务，嗯，就是156，521915，这个号我收不到，那个短信验证码，短信啊什么的就自动发收不到，【坐席】，不好意思让您就那个给您造成不便了，已经初步查询，咱们这个是系统繁忙导致的，您在那个手机上设置里边，把VOLTE功能关闭之后，您再试，应该就可以收到了，什么牌子手机？',\n '【客户】嗯，【坐席】，您好，很高兴为您服务？',\n '【客户】唉，你们10018那个是不是电话已经被取消了呀？我打了一早上打了，大概七八个人都给我挂了，就是说在忙，然后全都给我挂了，以前，因为我们不是，但以前我跟你说一下我的体验，就以前因为我每次打都能直接拨进去，然后这一两个月吧，给你们10018打电话，基本达成前五次都进不去，然后打10010发短信去，因为我记得过去你们是10018，是一个VIP的一个热线，对吧，【坐席】？那10010的话，你这个直接是接入的一个功能，',\n '【客户】唉你好，【坐席】，很高兴为您服务，您好，',\n '【客户】嗯，【坐席】，嗯',\n '【客户】您好，很高兴为您服务，【坐席】，您好？',\n '【客户】您好，高兴为您服务，您好，唉，你好，麻烦帮我查一下我的个人的套餐及使用情况？【坐席】，嗯，是目前来电的手机号码的吗，',\n '【客户】唉，你好，我刚才那个流量啊，我刚才看交还是什么时候又超过了，刚刚说什么要40块钱是咋回事啊，【坐席】？稍等看一下，我看一下您说这个套餐里面超出的话呢，是现在超了40兆？',\n '【客户】嗯，【坐席】，您好，实习话务员为您服务，',\n '【客户】您好，很高兴为您，【坐席】为您服务',\n '【客户】喂你好，【坐席】，您好，您好，您说，',\n '【客户】您好高兴服务。【坐席】您好，联通客服是吧，那个有一个情况我跟您说一下，然后您先记录一下吧，好吧，嗯，记录一下这个地址。',\n '【客户】您好，很高兴为您服务，喂，你好，我想投诉一件事啊，啊，你看我这话，我这现在这个手机号里面我好像12月份，然后充错了一笔310个310个50的那个话费，然后当时我就答电话给你们那个联通了，然后联系一下查一下啊，你们客服告诉我去联通营业厅去办理，然后我也第二天就去了大庆北京市海淀区皂君庙这个联通营业厅，去拿着证件什么的去办了，因为我是想充到另外一个手机号里边，然后呢，它当时说那个营业厅天之内给我弄首，然后过两天有一个手机客服，有一个手机，135的，还有什么的给我答电话，然后就算我不要退，这个话费我都不行，然后他直接跟我说，如果就是说这个话费就需要用我，我是支付宝充的嘛，它就是全部返回到那个就是什么，就是只能返返回到那手机号上面，就是那个手机卡上面，他当时我我也了解这个情况，我也跟那个淘宝沟通了，然后我们双方都弄好了之后我回复他我说女士提交财务，把这个钱给我弄了，就说我，我已经找到这个，我充值方法，他们也是承诺给我做，然后呢，这一个多月了就没有，没有任何回去嘛就【坐席】后来就一直没给您那个回复，因为您，',\n '【客户】嗯，【坐席】，您好，很高兴为您服务？',\n '【客户】你好手机上不了网对什么？【坐席】？这个流量套餐是用不了了是吗',\n '【客户】唉，你好，我这个电话不是被那个局方叫停了吗？可是我现在身份证丢了，那我办临时身份证可以去解除这个吗？【坐席】？您说是办使用临时的身份证是吗，',\n '【客户】你给我办卡的，那我给您办完了查询，喂，嗯，知道了？【坐席】，唉，您好，可以听得见吗，',\n '【客户】那【坐席】您好很高兴，',\n '【客户】对，【坐席】，喂你好，',\n '【客户】很高兴为您服务，我之前投诉的我这边网用不了，你们一直也没有给我解决啊，而且让你可以让我话费也没有人给我赔，【坐席】，是手机上的网用不了，还是家里的宽带用不了，',\n '【客户】S，【坐席】，很高兴为您服务，您好，']"
     },
     "execution_count": 16,
     "metadata": {},
     "output_type": "execute_result"
    }
   ],
   "source": [
    "client_front_conts"
   ]
  },
  {
   "cell_type": "code",
   "execution_count": 17,
   "metadata": {},
   "outputs": [
    {
     "data": {
      "text/plain": "551"
     },
     "execution_count": 17,
     "metadata": {},
     "output_type": "execute_result"
    }
   ],
   "source": [
    "len(client_front_conts)"
   ]
  },
  {
   "cell_type": "code",
   "execution_count": 18,
   "metadata": {},
   "outputs": [
    {
     "name": "stdout",
     "output_type": "stream",
     "text": [
      "【客户】喂，【坐席】，您好，有什么可以帮您\n",
      "【客户】喂你好，【坐席】，高兴服务，唉，你好？\n",
      "【客户】喂你好？【坐席】，您好，嗯，您好，我是北京联通回访员，就您在4月2号的时候对永泰中路营业厅评价的差评，请问您认为我公司还有哪些方面需要改进的呢，\n",
      "【客户】嗯，【坐席】，您好，很高兴为您服务？\n",
      "【客户】看到那个网上，然后呢，【坐席】您好，\n",
      "【客户】反映过【坐席】，为您服务，\n",
      "【客户】您好，【坐席】，您好，很高兴为您服务，\n",
      "【客户】您好，很高兴为您服务。【坐席】唉，你好，我想装一下宽带。\n",
      "【客户】你好，【坐席】，您好，很高兴为您服务，您好？\n",
      "【客户】好，【坐席】，好\n",
      "【客户】嗯，【坐席】，您好，实习话务员为您服务\n",
      "【客户】高兴服务您好，【坐席】，嗯，您好，这里是北京移动客服中心，请问，\n",
      "【客户】唉，我这个申请了一个免提啊，嗯，喂？【坐席】，嗯，您好女士，有什么可以帮您的，\n",
      "【客户】喂你好我问一下这个大兴这边网络是怎么回事啊【坐席】包含手机\n",
      "【客户】嗯【坐席】，很高兴为您服务，\n",
      "【客户】嗯，【坐席】，您好，很高兴为您服务\n",
      "【客户】您好实习话务员，【坐席】为您服务\n",
      "【客户】喂你好？【坐席】，唉，您好，打扰您了，北京联通的这边看到您有通过我们在线客服来访反映要退订流量包是吗，\n",
      "【客户】喂你好，【坐席】，您好，我是北京联通客服中心的，工号31692，\n",
      "【客户】您好，很高兴为您，【坐席】您服务\n",
      "【客户】还有【坐席】为您服务，请讲，\n",
      "【客户】嗯【坐席】，您好，很高兴服务，您好，那个您帮我查一下，我这个手机通话异常啊，有我查，我今天那个手机话费没钱了，然后我看了有一个记录显示是我2月9号从四点多开始到第二天，嗯，上午10点钟六点，一直在打同一个电话，打了15个小时\n",
      "【客户】感谢来电，【坐席】，您好，实习话务员为您服务，\n",
      "【客户】我这个手机，【坐席】您服务，\n",
      "【客户】嗯。【坐席】您好，很高兴为您服务。\n",
      "【客户】您好。【坐席】就是话务员。\n",
      "【客户】你好，【坐席】，您好，我是北京联通的回访员，您好，1月份办理了5G升级包业务，会给您提供优质服务，占用您一点时间再办理情况，做个回访好吧，\n",
      "【客户】喂你好，【坐席】，嗯，实习话务员为您服务\n",
      "【客户】喂？【坐席】，唉，您好，我这边的话是北京联通，您现在方便接听吗，\n",
      "【客户】喂，你大点声行吗？【坐席】？请问可以听到吗，\n",
      "【客户】嗯，【坐席】，您好，很高兴为您服务，\n",
      "【客户】喂【坐席】您好嗯\n",
      "【客户】很高兴为您，【坐席】服务\n",
      "【客户】嗯，【坐席】，高兴为您服务？\n",
      "【客户】嗯，【坐席】，您好，很高兴为您服务\n",
      "【客户】您好，【坐席】，您好，实习话务员为您服务，您好\n",
      "【客户】嗯，【坐席】，您好，很高兴为您服务，您好\n",
      "【客户】那个，【坐席】实习话务员为您服务，\n",
      "【客户】喂【坐席】很高兴为您服务\n",
      "【客户】您好，【坐席】，唉，您好，很高兴服务您好，\n",
      "【客户】喂您好，【坐席】，您好，很高兴为您服务\n",
      "【客户】嗯，【坐席】，您好，很高兴为您服务\n",
      "【客户】嗯，【坐席】，您好，很高兴为您服务，您好，\n",
      "【客户】您好，【坐席】，高兴服务您好，\n",
      "【客户】喂你好。【坐席】很高兴为您服务。嗯，您好。\n",
      "【客户】喂你好，【坐席】，您好，高兴为您服务，\n",
      "【客户】喂你好，【坐席】，工作员为您服务，您好？\n",
      "【客户】嗯，【坐席】，您好高兴服务，\n",
      "【客户】嗯，【坐席】，您好，很高兴为您服务？\n",
      "【客户】嗯【坐席】您好很高兴为您服务\n",
      "【客户】你好，【坐席】，您好\n",
      "【客户】嗯，【坐席】，您好，高兴为您服务，\n",
      "【客户】高兴为您服务，您好，一会再说，【坐席】，您好？\n",
      "【客户】您好，【坐席】，很高兴为您服务\n",
      "【客户】您好，很高兴为您服务，你们有这么忙吗，【坐席】？嗯，先生，您这边就是说让您久等了，非常抱歉，您看这边有什么问题可以帮到您，\n",
      "【客户】你好喂你好，【坐席】服务，\n",
      "【客户】噢你好你好，【坐席】，您好？\n",
      "【客户】喂，【坐席】，高兴为您服务，唉，您好？\n",
      "【客户】嗯【坐席】您好很高兴为您服务您好\n",
      "【客户】您好，【坐席】，很高兴为您服务，\n",
      "【客户】嗯，【坐席】，您好，很高兴为您服务，您好这里，\n",
      "【客户】嗯，【坐席】，您好，很高兴为您服务，您好，\n",
      "【客户】喂你好【坐席】，喂，您好，嗯\n",
      "【客户】嗯，【坐席】，话务员为您服务\n",
      "【客户】喂你好，【坐席】，你好，\n",
      "【客户】您好很高兴，【坐席】服务？\n",
      "【客户】您好，【坐席】，您好，很高兴为您服务，\n",
      "【客户】喂你好，【坐席】，您好，可以听到讲话吗\n",
      "【客户】还有，【坐席】，很高兴为您服务，\n",
      "【客户】嗯，投诉你们这个联通的，有的业务太恶心人，【坐席】，嗯，这个您，嗯，这个您可以跟我说，然后我这边可以帮您记录反馈上去了，女士\n",
      "【客户】喂你好，【坐席】，高兴为您服务，您好，\n",
      "【客户】喂你好，【坐席】，您好，很高兴为您服务\n",
      "【客户】你好，【坐席】，您好，很高兴为您服务？\n",
      "【客户】您好，【坐席】，喂，您好，喂，您好？\n",
      "【客户】你好，我这个手机报为什么收不到信息唉，【坐席】，嗯156多少，\n",
      "【客户】喂你好，【坐席】，为您服务，您好，\n",
      "【客户】您好，【坐席】，很高兴为您服务，\n",
      "【客户】你好【坐席】唉您好这边北京联通客服中心的工号三七五八方便接电话吗\n",
      "【客户】您好【坐席】，您好北京联通，\n",
      "【客户】嗯，【坐席】，您好，很高兴为您服务，您好，\n",
      "【客户】您好。【坐席】兴为您服务，您好。\n",
      "【客户】喂你好，【坐席】，很高兴为您服务，唉，您好，\n",
      "【客户】喂，【坐席】，您好，很高兴为您服务，\n",
      "【客户】嗯，【坐席】，您好，很高兴为您服务\n",
      "【客户】你好，【坐席】，您好，很高兴为您服务，您好，\n",
      "【客户】很高兴为您服务，喂，你好，【坐席】，您好，什么可以帮您，\n",
      "【客户】喂你好，【坐席】，您好，实习话务员为您服务，唉，您好\n",
      "【客户】嗯，【坐席】，高兴为您服务，您好，\n",
      "【客户】喂你好。【坐席】您好，很高兴为您服务，您好。\n",
      "【客户】您好，【坐席】，很高兴为您服务，嗯您好，\n",
      "【客户】你可以查到吧，【坐席】，您好，实习话务员为您服务，\n",
      "【客户】你好，【坐席】，唉，您好您好，很高兴为您服务，您好，\n",
      "【客户】嗯，【坐席】，您好，实习话务员为您服务？\n",
      "【客户】嗯，【坐席】，您好，实习话务员为您服务？\n",
      "【客户】嗯，【坐席】，您好，很高兴为您服务？\n",
      "【客户】这那我用叠加，【坐席】，嗯，春节好，很高兴为您服务？\n",
      "【客户】喂你好。【坐席】唉，先生您好，不好意思打扰到您了，我是北京联通的工号23670，嗯，我们接到您在市政府反馈过一个关于宽带费用问题有得到联系沟通解决吗？\n",
      "【客户】喂【坐席】，您好，高兴为您服务，可以听到吗？先生？\n",
      "【客户】嗯，【坐席】，您好，很高兴为您服务，\n",
      "【客户】嗯，【坐席】，您好，实习话务员为您服务，你好，你帮我查一下，我这本机号码为什么老欠费啊，我都没使过，\n",
      "【客户】喂你好，【坐席】，您好，很高兴为您服务，您好，\n",
      "【客户】您好，【坐席】，实习话务员为您服务，\n",
      "【客户】好，【坐席】，喂您好？\n",
      "【客户】喂。【坐席】高兴为您服务。\n",
      "【客户】您好这边【坐席】不好意思女士打扰您了，我们是北京联通的工号2846，就是关于您之前反映，是说在这个环球贸易中心这个\n",
      "【客户】您好，【坐席】，高兴服务，\n",
      "【客户】好，【坐席】，高兴为您服务，您好，\n",
      "【客户】喂你好？【坐席】，您好，实习话务员，为您服务，您好，有什么帮到您？\n",
      "【客户】嗯，【坐席】，很高兴为您服务\n",
      "【客户】噢我想那个问一下我这个现在电话月租多少【坐席】稍等一下正在为您查询一下嗯套餐显示是幺九八的套餐旧套餐月费是一百\n",
      "【客户】嗯，【坐席】，高兴为您服务，\n",
      "【客户】嗯，【坐席】，您好，实习生为您服务，\n",
      "【客户】嗯，【坐席】，您好，很高兴为您服务，\n",
      "【客户】喂【坐席】，您好，嗯，您好女士，我是北京联通的回访员，您好，嗯，通过大数据系统识别到机主，通过一个证件办理了多某某人号卡，为防止实名电话卡被他人不法利用，需要跟您核对一下入网信息，我这边显示这个尾号6239628，噢，抱歉，6389机主是位先生，您稍等一下这个不是，\n",
      "【客户】嗯，【坐席】，您好，实习话务员为您服务，\n",
      "【客户】接听的，【坐席】您好，很高兴为您服务，\n",
      "【客户】喂你好，【坐席】，您好，北京联通客服中心的工号四四，抱歉打扰您了，就是之前您来电反馈过那个12月份都收取40元费用的问题，我后台去给您核实了一下，其实账单里边12月份最终是没有收您这个费用的，它是给您做赠费，给您减免掉，已经给您处理减免掉了，\n",
      "【客户】嗯【坐席】，喂您好您好？\n",
      "【客户】喂你好，【坐席】，很高兴为您服务？\n",
      "【客户】喂，【坐席】，高兴服务您好？\n",
      "【客户】嗯，【坐席】，您好，很高兴为您服务，\n",
      "【客户】喂，【坐席】，嗯，您好，打扰您，联通客服2908号，嗯，今天有来电反映，关于您这个号码不能正常上网的那个问题，昨天有跟您沟通过这个情况，然后您的这个问题的话呢，我们也再次反馈了，嗯，因为后台查询您的这个号码上网功能，还有数据这块确实是属于正常的，您这个有上网记录，所以您说的那个，嗯，就是赔偿的那个需求的话，我们确实没有办法给您做这个处理，\n",
      "【客户】有时接电话。【坐席】您好，很高兴为您服务。\n",
      "【客户】嗯，【坐席】，很高兴为您服务？\n",
      "【客户】嗯，【坐席】，您好，很高兴为您服务，您好？\n",
      "【客户】唉？【坐席】，您好，您好，我是北京联通的回访员，您3月14号对五棵松营业厅服务评价为九分及格，请问您认为服务中哪方面需要改进呢，\n",
      "【客户】喂，你好，我请问一下，【坐席】，您好，很高兴服务您好？\n",
      "【客户】嗯，【坐席】，您好，实习话务员为您服务，\n",
      "【客户】您好，很高兴为您服务，【坐席】，你好，你给我查一下，我这欠多少费好，那我看了一下，目前欠费情况，对查询，嗯，目前是欠费金额是207块7毛5？\n",
      "【客户】嗯，【坐席】，您好，很高兴为您服务\n",
      "【客户】嗯，【坐席】，您好，实习话务员为您服务？\n",
      "【客户】那个，【坐席】，很高兴为您服务，您好，\n",
      "【客户】嗯好的，【坐席】，为您服务？\n",
      "【客户】现在【坐席】，您好，很高兴为您服务\n",
      "【客户】嗯，【坐席】，您好，打扰您了，北京联通的这边看到您有通过我们腾讯客服来访，要求电话回复是吧，\n",
      "【客户】您好，【坐席】，很高兴为您服务\n",
      "【客户】嗯【坐席】，您好，实习话务员为您，\n",
      "【客户】喂你好。喂你好。【坐席】您好，很高兴为您服务。\n",
      "【客户】喂你好，【坐席】，您好，很高兴为您服务，\n",
      "【客户】嗯，【坐席】，您好，很高兴为您服务，唉，您好？\n",
      "【客户】嗯，【坐席】，您好，很高兴为您服务\n",
      "【客户】对【坐席】，您好，实习话务员为您？\n",
      "【客户】嗯好的，【坐席】，很高兴为您服务，您好？\n",
      "【客户】嗯【坐席】，您好，很高兴为您服务？\n",
      "【客户】嗯，【坐席】，您好，实习话务员为您服务，\n",
      "【客户】嗯，【坐席】，很高兴为您服务，\n",
      "【客户】嗯，【坐席】，您好，很高兴为您服务，\n",
      "【客户】唉你好【坐席】，您好，很高兴为您服务，\n",
      "【客户】喂，【坐席】，唉，您好先生，北京联通客服中心的工号287，不好意思，打扰您了，\n",
      "【客户】您好，【坐席】，您好，实习话务员为您服务\n",
      "【客户】嗯，【坐席】，您好，实习话务员为您服务，\n",
      "【客户】喂喂你好【坐席】，唉，您好，\n",
      "【客户】啊，【坐席】，您好，实习话务员为您服务，\n",
      "【客户】喂，【坐席】，您好，很高兴为您服务，您好，\n",
      "【客户】嗯，【坐席】，高兴服务您好，您好，我想问一下，\n",
      "【客户】你好，【坐席】，您好，实习话务员为您服务？\n",
      "【客户】先生，【坐席】您好，很高兴为您服务？\n",
      "【客户】嗯，【坐席】，您好，实习话务员为您服务，\n",
      "【客户】然后呢，【坐席】，喂你好，\n",
      "【客户】移动的【坐席】那我刚才有，\n",
      "【客户】喂你好，【坐席】，实习话务员为您服务，您好\n",
      "【客户】很高兴为您服务，请说【坐席】好，\n",
      "【客户】嗯，【坐席】，高兴为您服务，您好，\n",
      "【客户】谢谢，【坐席】话务员为您服务，您好，\n",
      "【客户】喂，【坐席】，唉，您好，抱歉打扰您一下，联通客服中心工号3693这边的话，针对您这边刚反映这个问题，咱们这在这边呢，再跟您联系一下，因为我这边呢，给您看一下，显示他这个受理渠道的话显示是WWW.1010这样的，我这边看一下它这个显示是网上营业厅，网上营业厅的话，正常也是相当于是您自己办理的呀，\n",
      "【客户】你好【坐席】您好先生，北京联通客服中心的工号348，就是这边看到您前期反应有一个信号问题是吧，\n",
      "【客户】嗯，【坐席】，您好，很高兴为您服务，您好？\n",
      "【客户】你好，【坐席】，为您服务，您好\n",
      "【客户】您好【坐席】，很高兴为您服务，您好，嗯，\n",
      "【客户】喂你好，【坐席】，为您服务，\n",
      "【客户】喂，【坐席】，很高兴为您服务，您好？\n",
      "【客户】你好师傅，【坐席】，嗯，你看一下我这个为什么就是这个月扣了一百多块钱的话费，\n",
      "【客户】嗯，【坐席】，您好，实习话务员为您服务，\n",
      "【客户】喂你好？【坐席】，唉，您好，不好意思打扰您，我这边是北京联通的31601，想跟您沟通一下您手机号码的一个使用问题，方便吗，\n",
      "【客户】喂，【坐席】，你好，很高兴为您服务？\n",
      "【客户】喂，您好我是，【坐席】北京联通回访员，您好，您好，就是您在4月17号的时候，对马家铺营业厅评价的差评，请问您认为我公司还有哪些方面需要改进的呢，\n",
      "【客户】喂？【坐席】，您好，您好，我是北京联通的，嗯，回访员，就这边看到您在王卡助手反映的网络问题，请问现在恢复了吗，\n",
      "【客户】嗯，【坐席】，喂您好，\n",
      "【客户】很高兴为您服务，【坐席】，你好\n",
      "【客户】这么多天了【坐席】，很高兴为您服务，你好这个，\n",
      "【客户】唉你好，【坐席】，您好\n",
      "【客户】唉，你好，你给我查一下我的积分好吗【坐席】？看的话您这个显示当前积分是有欠170\n",
      "【客户】原来不是，【坐席】您好，很高兴为您服务，您好，\n",
      "【客户】嗯，【坐席】，高兴为您服务，您好\n",
      "【客户】喂你好，【坐席】，很高兴为您服务，\n",
      "【客户】嗯，【坐席】，高兴为您服务，您好，\n",
      "【客户】喂你好，【坐席】，唉，您好，很高兴为您服务，\n",
      "【客户】嗯，【坐席】，很高兴为您服务，您好？\n",
      "【客户】您好，【坐席】，高兴为您服务，您好\n",
      "【客户】喂你好，【坐席】，高兴服务，您好，\n",
      "【客户】万达这边直接变更就行了吗【坐席】？没有\n",
      "【客户】喂，【坐席】，您好，很高兴为您服务\n",
      "【客户】唉你好【坐席】，您好，先生，我这边是北京联通客服中心的，工号是31655，您向我们反馈要求在线办理副卡的问题，我想跟您了解一下，您是您的通话的这个号码，要接着办理副卡吗？先生，\n",
      "【客户】您好，【坐席】，您好，很高兴为您服务，\n",
      "【客户】你帮我查一下什么情况上不去网啊【坐席】，就这个手机，\n",
      "【客户】唉唉你好，【坐席】高兴，服务您好？\n",
      "【客户】多少，【坐席】为您服务\n",
      "【客户】就比那个，【坐席】为您服务，您好？\n",
      "【客户】嗯，【坐席】，您好，实习话务员为您服务\n",
      "【客户】喂您好，【坐席】，好的，您现在是北京联通回访员，通过大数据系统识别到您，通过一个身份证件号码，同时办理了多某某人号卡情况\n",
      "【客户】嗯，【坐席】，您好，很高兴为您服务，您好，\n",
      "【客户】嗯，【坐席】，您好，实习话务员为您服务，\n",
      "【客户】您好，【坐席】，您好，很高兴服务，您好，\n",
      "【客户】嗯，【坐席】，您好，很高兴为您服务，\n",
      "【客户】嗯【坐席】您好很高兴为您服务\n",
      "【客户】喂？【坐席】，您好，是北京联通的回访员，您好，通过大数据系统识别到您通过一个身份证办理了多某某人号卡，为防止实名办理的号卡被他人不法利用，需要与您核实本机号码的入网信息，请问您是机主本人吗，稍后我把电话转到自动验证系统，您输入身份证号就行\n",
      "【客户】喂你好你好，【坐席】，嗯，您好先生，我是北京联通的回访员，你好，嗯，通过大数据系统识别到您，通过一个证件办理了多某某人号卡，为防止实名办理电话卡被他们无法利用，需要与您核实？\n",
      "【客户】那个，【坐席】您好，很高兴为您服务，\n",
      "【客户】唉你好，【坐席】，您好，很高兴为您服务，您好，\n",
      "【客户】喂。【坐席】很高兴为您服务，您好。\n",
      "【客户】嗯，【坐席】，您好，很高兴为您服务，\n",
      "【客户】嗯，【坐席】，您好，实习话务员为您服务，\n",
      "【客户】对，【坐席】您好，很高兴为您服务，\n",
      "【客户】你好，【坐席】，高兴服务您好，\n",
      "【客户】嗯【坐席】，您好，高兴为您，\n",
      "【客户】喂【坐席】我是北京联通回访员您好\n",
      "【客户】您好，很高兴为您服务，喂你好，【坐席】，您好，\n",
      "【客户】喂，【坐席】，很高兴为您服务，您好，\n",
      "【客户】嗯，【坐席】，您好，很高兴为您服务，\n",
      "【客户】嗯你给我，【坐席】高兴服务，\n",
      "【客户】您好，很高兴为您服务【坐席】，嗯，\n",
      "【客户】您好很高兴，【坐席】兴为您服务，嗯？\n",
      "【客户】喂你好，【坐席】，你好你好，\n",
      "【客户】很高兴为您服务【坐席】，唉，你看一下我这个手机号怎么用不了呀，手机号用不了了是吗？来电的这个号码，\n",
      "【客户】您好，很高兴为您服务，【坐席】，唉，你好，我们公司这个就是现在开的联通的电话票是那个普票，我们想申请专票都需要带什么材料，申请专票是吧，对对对，\n",
      "【客户】喂，【坐席】，唉，喂，您好，北京联通客服中心工号32769，\n",
      "【客户】您好高兴为您，【坐席】，为您服务，您好？\n",
      "【客户】嗯，【坐席】，您好，很高兴为您服务\n",
      "【客户】喂你好，【坐席】，您好，打扰您一下，是北京联通回访员，您好，通过大数据系统识别到您，通过一个身份证件号码重置，办理了多某某人号卡情况\n",
      "【客户】香港，【坐席】您好，很高兴为您服务，\n",
      "【客户】喂你好，【坐席】，很高兴为您服务\n",
      "【客户】嗯，【坐席】，您好，实习话务员为您服务，\n",
      "【客户】很高兴为您，【坐席】服务，您好，\n",
      "【客户】喂你好【坐席】，为您服务，唉，您好\n",
      "【客户】啊，【坐席】，您好，实习话务员为您服务？\n",
      "【客户】喂【坐席】，那\n",
      "【客户】喂，【坐席】，有啊，唉你好，\n",
      "【客户】对，【坐席】，很高兴为您服务，您好\n",
      "【客户】嗯，【坐席】，您好，实习话务员为您服务，\n",
      "【客户】嗯，【坐席】，您好，很高兴为您服务，您好，\n",
      "【客户】喂你好，【坐席】，您好，高兴为您服务，\n",
      "【客户】高兴为您服务帮助您再来电开通，唉，你好，【坐席】，您好，\n",
      "【客户】没有了，【坐席】，高兴为您服务，您好？\n",
      "【客户】微信是吗，【坐席】？您好，很高兴为您服务\n",
      "【客户】嗯，【坐席】，您好，实习话务员为您服务，\n",
      "【客户】喂你好，【坐席】，您好，\n",
      "【客户】嗯，【坐席】，为您服务？\n",
      "【客户】嗯。【坐席】您好，很高兴为您服务。\n",
      "【客户】喂你好，【坐席】，很高兴为您服务，\n",
      "【客户】嗯？【坐席】，您好，您好，我是北京联通的回访员，您4月5号对青年路营业厅服务评价为不满意，请问您认为服务中哪方面需要改进呢，\n",
      "【客户】您好，【坐席】，您好，很高兴为您服务？\n",
      "【客户】嗯，【坐席】，您好，很高兴为您服务，\n",
      "【客户】喂，【坐席】，很高兴为您服务，\n",
      "【客户】嗯，【坐席】，您好，很高兴为您服务，您好\n",
      "【客户】你好，【坐席】，唉，您好，先生，这边是刚刚给您通话，客服很抱歉，这么这么晚给您来电，\n",
      "【客户】喂你好，【坐席】，话务员为您服务，您好，\n",
      "【客户】二零，【坐席】您好，很高兴为您服务，\n",
      "【客户】来电提醒没有了【坐席】，您好，实习话务员为您服务\n",
      "【客户】很高兴为您，【坐席】服务，\n",
      "【客户】对【坐席】，喂\n",
      "【客户】嗯，【坐席】，您好，很高兴为您服务\n",
      "【客户】高兴为您服务，【坐席】，您好，\n",
      "【客户】嗯，【坐席】，很高兴为您服务，您好？\n",
      "【客户】嗯，【坐席】，你好，喂，你好，你好，\n",
      "【客户】您好，【坐席】，唉，您好，实习话务员为您服务？\n",
      "【客户】嗯，【坐席】，您好，实习话务员为您服务，\n",
      "【客户】我问你联通【坐席】您好，很高兴为您服务？\n",
      "【客户】您好，【坐席】，话务员为您服务，您好，\n",
      "【客户】喂你好【坐席】您好您好我是北京联通的回访员您好通过大数据系统识别到您通过一个身份证办理的多某某人号卡为防\n",
      "【客户】您好，【坐席】，很高兴为您服务，您好？\n",
      "【客户】地址报一下，【坐席】，您好，很高兴为您服务？\n",
      "【客户】嗯，【坐席】，高兴服务您好，我问一下你们这信号也太不好了我，\n",
      "【客户】你好，【坐席】，您好，实习话务员为您服务？\n",
      "【客户】喂，【坐席】，您好，很高兴为您服务？\n",
      "【客户】喂你好【坐席】，您好，\n",
      "【客户】好，【坐席】，高兴为您服务？\n",
      "【客户】很高兴为您服务，嗯，喂，你好，【坐席】，你好，\n",
      "【客户】您好，很高兴为您服务，哇，好稍等一下，【坐席】，你好，唉你好，\n",
      "【客户】嗯，【坐席】，您好，很高兴为您服务？\n",
      "【客户】嗯，【坐席】，您好，实习话务员为您服务，\n",
      "【客户】嗯。【坐席】高兴服务您好。\n",
      "【客户】嗯，【坐席】，高兴为您服务，您好，\n",
      "【客户】您好高兴服务了，【坐席】好，\n",
      "【客户】您好，【坐席】，您好，很高兴为您服务？\n",
      "【客户】喂，【坐席】，您好，很高兴为您服务？\n",
      "【客户】嗯，【坐席】，您好，很高兴为您服务，您好？\n",
      "【客户】很高兴为您服务您好【坐席】唉你好那个是这样的我这个手机我前天打过电话给咱们客服就是我这个手机号来电提醒从去年七月份开始就从来没有收到过那个那个未接来电的提醒然后当时客服说给我解决解决了半天还是没有弄我现在需要解决这个问题怎么弄\n",
      "【客户】行了没有了，【坐席】，很高兴为您服务？\n",
      "【客户】156您好【坐席】，唉，你好帮我查一下话费，帮我查一下那个手机号码\n",
      "【客户】喂你好，【坐席】，为您服务？\n",
      "【客户】我这手机现在是什么状态，【坐席】，状态显示停机了？\n",
      "【客户】您好您好【坐席】，唉，打扰您了，北京联通客服中心的工号，2931，针对您反馈的问题，这样几分钟时间沟通一下，我们这边给您做了，\n",
      "【客户】好？【坐席】，喂你好，您好，请问可以听到吗\n",
      "【客户】喂【坐席】您好很高兴为您服务\n",
      "【客户】嗯对，唉您好，【坐席】，嗯您好？\n",
      "【客户】您好高兴服务。【坐席】嗯，你好。那个，我想咨询一下，就是联通的这个。叫来电名片的这个功能。\n",
      "【客户】好像上次，【坐席】您好先生您好，我是北京联通回访员，通过数据系统识别到您通过这个身份证件号码，同时办理了多某某人号卡的情况，为了进一步保护客户合法权益，需要与您核对号码入网时所登记的机主信息，\n",
      "【客户】您好很高兴，【坐席】，唉，你好，你查询一下，昨天我申请那个返还话费那个事，那个什么进度了？我没给我回电话，没有，现在什么情况\n",
      "【客户】嗯，【坐席】，您好，实习话务员为您服务？\n",
      "【客户】您好，实习话务员为您，【坐席】为您服务？\n",
      "【客户】您好，很高兴为您服务【坐席】，唉，您好，我们这边是北京123***的，是这样的，我们这边接到一个市民的投诉，说是在这个顺义区，嗯，您记一下地址，顺义区马坡镇，然后庙券村，\n",
      "【客户】您好您好，【坐席】，为您服务，\n",
      "【客户】噢喂你好，【坐席】您好，很高兴为您服务，\n",
      "【客户】嗯好，【坐席】，您好，能听到\n",
      "【客户】嗯，【坐席】，您好，实习话务员为您服务，\n",
      "【客户】你好，【坐席】，您好，很高兴为您服务，\n",
      "【客户】嗯，【坐席】，您好，很高兴为您服务，您好？\n",
      "【客户】嗯，【坐席】，您好，实习话务员为您服务，\n",
      "【客户】嗯，【坐席】，您好，很高兴为您服务，您好，\n",
      "【客户】您好，很高兴为您服务，【坐席】，嗯，\n",
      "【客户】喂你好，【坐席】，北京联通，\n",
      "【客户】您好很高，【坐席】，很高兴为您服务，\n",
      "【客户】嗯，【坐席】，很高兴为您服务，您好，\n",
      "【客户】您好，【坐席】，您好，很高兴为您服务\n",
      "【客户】嗯，声音大点，听不见【坐席】，您好，这边，\n",
      "【客户】喂你好，【坐席】，您好，很高兴为您服务，\n",
      "【客户】QQ还是一排障号【坐席】服务，\n",
      "【客户】嗯，【坐席】，您好，很高兴为您服务，\n",
      "【客户】不客气，【坐席】，服务您好，\n",
      "【客户】嗯，【坐席】，很高兴服务？\n",
      "【客户】高兴服务，【坐席】，喂你好，\n",
      "【客户】喂，【坐席】，高兴为您服务，您好，\n",
      "【客户】你好是，【坐席】实习话务员为您服务，\n",
      "【客户】嗯好，【坐席】，您好，实习话务员为您服务，\n",
      "【客户】帮助，【坐席】，您好您说，您好您说？\n",
      "【客户】10086，【坐席】，您好唉，先生您好，我是北京联通公司31650号是处理，是政府热线的工作人员，请问是赵先生吗，\n",
      "【客户】嗯，【坐席】，您好，很高兴为您服务，您好，\n",
      "【客户】您好很高兴，【坐席】，高兴服务您好，\n",
      "【客户】没了，【坐席】，很高兴为您服务，您好，\n",
      "【客户】嗯，【坐席】，您好，很高兴为您服务，\n",
      "【客户】嗯？【坐席】，您好，嗯，您好，我是北京联通回访员，那就这边看到您在王卡助手反映的网络问题，请问现在恢复了吗，\n",
      "【客户】您好，【坐席】，您好，实习话务员为您服务，我想问一下我的联通电话卡怎么不能用了我才办的，\n",
      "【客户】嗯，【坐席】，您好，很高兴为您服务？\n",
      "【客户】嗯，【坐席】，您好，很高兴为您服务，\n",
      "【客户】喂你好【坐席】，您好，北京联通客服中心的，嗯，是这样，我给您来电，嗯您说？\n",
      "【客户】唉你好，【坐席】，您好，高兴为您服务，唉，你好\n",
      "【客户】喂，【坐席】，您好，很高兴为您服务，\n",
      "【客户】很高兴为您服务，您好，你好，是这样的啊我，【坐席】那个十一十二月3月，\n",
      "【客户】喂？【坐席】，您好，我是北京联通回访员，我这边看到您在王卡助手反映的网络问题，请问现在恢复了吗，嗯，那您看重启手机重新插拔卡换手机都试过吗\n",
      "【客户】嗯，【坐席】，您好，实习话务员为您服务，\n",
      "【客户】您好先生，喂你好，【坐席】好，\n",
      "【客户】好好好谢谢，【坐席】为您服务，\n",
      "【客户】嗯【坐席】，您好，很高兴为您服务，\n",
      "【客户】嗯你好，【坐席】，您好，很高兴为您服务，\n",
      "【客户】嗯【坐席】，您好，很高兴为您服务，\n",
      "【客户】嗯。【坐席】您好，很高兴为您服务。\n",
      "【客户】你好你好，【坐席】，喂你好？\n",
      "【客户】喂你好，【坐席】，您好您好，\n",
      "【客户】嗯，【坐席】，您好，很高兴为您服务，\n",
      "【客户】嗯，【坐席】，很高兴为您服务，您好，\n",
      "【客户】唉你好，【坐席】，高兴为您服务\n",
      "【客户】喂你好，【坐席】，话务员为您服务，您好，\n",
      "【客户】嗯，【坐席】，很高兴为您服务，\n",
      "【客户】高兴您服务，【坐席】，您好，\n",
      "【客户】唉，【坐席】，高兴服务您好？\n",
      "【客户】嗯，【坐席】，很高兴为您服务，您好\n",
      "【客户】喂，【坐席】，您好，实习话务员为您服务，您好？\n",
      "【客户】嗯，【坐席】，很高兴为您服务，您好，您好，\n",
      "【客户】您好？【坐席】，唉，您好，打扰您了，北京联通的这边看到您有反映说这个充值500送600券的活动问题是吧\n",
      "【客户】您好高兴服务，我想问一下，嗯，您说你好【坐席】，您好，听不到，您讲话了，您好，你好可以听到吗？您好，听不到，您讲话了，您好\n",
      "【客户】嗯，【坐席】，您好，很高兴为您服务，\n",
      "【客户】喂，【坐席】，您好，实习话务员为您服务\n",
      "【客户】嗯，【坐席】，您好，很高兴为您服务？\n",
      "【客户】嗯，【坐席】，您好，很高兴为您服务？\n",
      "【客户】嗯您好，【坐席】，您好，很高兴为您服务，\n",
      "【客户】嗯，【坐席】，您好，很高兴为您服务，\n",
      "【客户】嗯，【坐席】，您好，很高兴服务，\n",
      "【客户】嗯，【坐席】，您好，很高兴服务\n",
      "【客户】喂你好，【坐席】，您好，实习话务员为您服务？\n",
      "【客户】嗯，【坐席】，您好，很高兴为您服务，\n",
      "【客户】对【坐席】什么，\n",
      "【客户】没有这个意思，【坐席】服务，唉，您好？\n",
      "【客户】您好，【坐席】，您好，嗯，您好，我是北京联通的回访员，您好，嗯，根据国家实名登记要求，联通系统中登陆到客户资料，虚实名帖与本人一致，现在北京联通正在开展实名登记认证，需要请您配合完成一下实名制登记工作，嗯，那行，\n",
      "【客户】嗯，【坐席】，您好，很高兴为您服务？\n",
      "【客户】唉你好，【坐席】，很高兴为您服务，您好，\n",
      "【客户】嗯，【坐席】，嗯\n",
      "【客户】您好，很高兴为您服务，【坐席】，您好？\n",
      "【客户】嗯，【坐席】，您好，实习话务员为您服务，\n",
      "【客户】您好，很高兴为您，【坐席】为您服务\n",
      "【客户】喂你好，【坐席】，您好，您好，您说，\n",
      "【客户】您好高兴服务。【坐席】您好，联通客服是吧，那个有一个情况我跟您说一下，然后您先记录一下吧，好吧，嗯，记录一下这个地址。\n",
      "【客户】嗯，【坐席】，您好，很高兴为您服务？\n",
      "【客户】你好手机上不了网对什么？【坐席】？这个流量套餐是用不了了是吗\n",
      "【客户】那【坐席】您好很高兴，\n",
      "【客户】对，【坐席】，喂你好，\n",
      "【客户】S，【坐席】，很高兴为您服务，您好，\n"
     ]
    }
   ],
   "source": [
    "t = 0\n",
    "for sen in client_front_conts:\n",
    "    re_sen = sen.replace('【','\\【')\n",
    "    cut = re_sen.split(\"\\\\\")[1:]\n",
    "    if len(cut[0]) <= 25:\n",
    "        t += 1\n",
    "        print(sen)"
   ]
  },
  {
   "cell_type": "code",
   "execution_count": 19,
   "metadata": {},
   "outputs": [
    {
     "data": {
      "text/plain": "386"
     },
     "execution_count": 19,
     "metadata": {},
     "output_type": "execute_result"
    }
   ],
   "source": [
    "t"
   ]
  },
  {
   "cell_type": "code",
   "execution_count": 20,
   "metadata": {},
   "outputs": [
    {
     "name": "stdout",
     "output_type": "stream",
     "text": [
      "【客户】您好高兴服务，我答你们这电话达多少次了？投诉了多少？就是跟你们反映了多少次，就这个附近这个基站，为什么这个网络为什么老是还不好呀【坐席】？嗯，就是信号打的网络是吗？这个位置嗯，对，好的，我查一下？\n",
      "【客户】你好问一下，我这某某人卡是在那个山东青岛平陆办的，为什么会是一某某人北京卡，山东省，然后平度市不是不是，当时是工作人员给我上门办的，嗯，对什么？那当时你们给我打电话，我就是在平陆申请的，当时给我打电话的时候，我还问过我说是当地的吗？我不是的话我就不要了，他告诉我是，然后我今天开始用了，我发现她是北京的，然后我现在这个卡也没返微信，也不能用这某某人卡已经被注册过了这个号码，【坐席】对\n",
      "【客户】您好很高兴为您服务你好我想问一下就是我这从十一月份到今年十月份话费怎么用的这么高【坐席】去年十一月份二零二零年十一月份到现在啊\n",
      "【客户】那个我问一下我，我我那什么，刚才我还有欠费多少钱了，【坐席】？您目前是有这个1月份未结清的，16块2毛4，再加上本月2月份的话费，交了就行？\n",
      "【客户】稍等我这里，我这有个问题啊，我刚才那个在那个APP上办理了一个套餐的一个变更，从这个109变成1129完了，不是下个月生效吗？但是我变更完了以后，我的手机这个信号突然间就没了，然后有了以后就变成一格，到现在一直都是一格手机关机，重启了好多次了，也一直都这样【坐席】，您这目前操作的话就收到短信吧现在\n",
      "【客户】喂你好，那个，我想我想问你一下，我这个我这个怎么没去过，我就去过这个北京跟河北交界的，但还是北京地区，它有个修理厂，我就答了一回信，然后我这健康嘛就就就变了，新城嘛就变了，这这怎么弄啊，【坐席】？您好，中国联通，\n",
      "【客户】你好，我想问一下我这个手机怎么从昨天，嗯，就就从今天某某人的时候突然没4G网了，对上不了网了现在【坐席】手机上面有信号吗？先生，\n",
      "【客户】你好，帮我查一下我这个，我这我这手机号码，现在，唉，我这个手机号码昨天就被禁用了，什么情况？【坐席】？嗯，好给您看一下，稍等，您是近期用这个打了很多电话吗，\n",
      "【客户】您好，请问什么可以帮您？唉，你好我这个手机号呀，现在他说我欠费停机了，打不了电话了，我是包年的那种，我交过费了呀，【坐席】，嗯，稍等我看一下就突然给您发短信提示是吧嗯\n",
      "【客户】您好，很高兴为您服务，喂，你好，那个我现在收不到，咱们那个就是联通的这个短信呢，【坐席】，是的先生，\n",
      "【客户】嗯，好，哎呀，没事的时候你们给我打电话那么多，有事给你们打电话跟男友，【坐席】，您有什么问题先生，\n",
      "【客户】喂你好，那个，我刚才看一下发一短信给我，看看我那个什么话费超了是什么流量超了什么嗯对对，不是怎么超的那么多，唉，你说我这个，嗯，有时你看在这个就是使的，叫什么呀就WIFI，你说有时候走到这个这个这个就是楼道，那就它就没有了，后来它就使自个流量了，这样的不收费，【坐席】，嗯，上WIFI的，嗯，换到4月份，说您连宽带的时候发，\n",
      "【客户】我后天回家，回老家着急，好可以，所以就着急喂，【坐席】，唉，您好，\n",
      "【客户】您好，高兴为您服务，唉，你好那个，我昨天打了个电话，然后是，嗯，是5409这个工号小姑娘做的，然后那个我先跟您说一下情况，嗯，我这个我新办了一个联通号，是这本月23号办的，然后当时办之前咨询过说，嗯，我即时生效，就是本月我23号办完之后及时生效的话，那么是扣半月才对吧？套餐办一个38的，它应该是扣半月才，【坐席】噢，这个得看您当时开户选的哪种方式，\n",
      "【客户】您好，很高兴为您服务，喂你好，唉，那个我想问一下，就是我这个卡在这个办公楼，这就是没有信号，您帮我看一下吗？【坐席】？只是在这一个地方没有信号是吗，\n",
      "【客户】你好，我咨询一下，我这手机怎么老是不能上网了，怎么回事【坐席】？就是说经常性的上不去网是吗？就您本机来电这个号，\n",
      "【客户】您好，很高兴为您服务。喂你好，那个，我想咨询一下，咱们昌平东关附近这块就是联通的，网络信号都特别弱是吗？【坐席】是手机的移动数据上网吗？\n",
      "【客户】您好，很高兴为您服务，这个形成卡，我为什么显示我在临沂，我的手机【坐席】，您是去过那边吗？请问一下，\n",
      "【客户】唉，你好，我那个手机之前办了一个什么什么套餐，之前有两个套餐，一个是那个预存存话费送手机那个，还有一个什么390多的一个套餐，然后打七折的一个活动，【坐席】，您查一下，稍等一下就来电话，手机号是吧，看到这个号码之前有个70的活动，就当时办的是您的折扣到期是在这个月，您是提前解除这个\n",
      "【客户】你好，我想让你帮我查一下我这个卡每个月消费多少钱，【坐席】，一个月消费多少钱是吧您这个套餐的话是一个五块钱的套餐，避免的话是没有分钟数也没有流量的，如果是打流量或者是用流量或者打电话的话，都是另收费的，\n",
      "【客户】您好实习生为您服务唉你好唉你好帮我改一下这个那个行程码上面有这个境外啊有这个境外的那个嗯提示帮您改我没有铃声吗对对行程码上面有显示越南有显示越南的行程但我没有去越南我去的是河口是云南河口【坐席】云南河口是不是和云南交界\n",
      "【客户】高兴为您服务，您好，喂你好，你帮我看看我，我这个这个号怎么刚才给我发了个微信，它怎么欠欠欠费了，您稍等，我这边给您看一下啊，【坐席】，先生，咱们这边帮您看了一下，目前显示您的这个确实显示欠了两毛二，然后咱们这边也给您看了一下账单，没有显示有相关其余的一个消费，然后针对于您欠费的这个情况，您这样您保持您来电号码通话畅通，让咱们这个相关话费的专业人员给您查询一下，您的这个相关话费构成好吧，您注意接听一下电话先生，\n",
      "【客户】没有大的，就是说我要取消取消那个，我想问一下，我这流量都快到期了嘛，这流量快没了吗，【坐席】？套餐内的这个流量的话呢，只剩下225兆了，快用完了，\n",
      "【客户】帮我查一下我这某某人卡还有什么增值业务还有什么那个活动【坐席】嗯行好的我帮您看了一下您这个套餐是一个十九块钱套餐然后您这里面还包含了一个就是尊享权益包但是这个我帮您看了一下这个是到一月三十一号已经取消了您开一个五\n",
      "【客户】喂你好，您好，我这个从28号我就开始打电话了，问我这个手机是怎么扣的费，昨天24小时给我回复，现在我跟你说了也没给我回复，我打电话过去说给我解决不了了，是怎么回事呀【坐席】？稍等一下，反馈的是您来电的这个号问题是吗？\n",
      "【客户】您好，很高兴为您服务，唉，你好，我是这样，我想投诉那个因为什么？我那个就是我们这个套餐，这个就是打这个号的，这个原先是单位给办的那种冰淇淋套餐套餐呢，上个月我们就等于跟她解除了，这个转到个人名下，转到个人名下，完了以后呢，我呢，嗯，时间我就想给连的我绑定的我们家的那个叫嗯，宽带上宽带上，我跟他说的是上个上个礼拜我跟他说，我说如果绑定那个宽带就行了，嗯，它实际有49的套餐，按道理应该给我那个办一个49的那个套餐，他说你，你要是那个嗯，她说你要绑宽带，你就不用，你就直接去营业厅办理绑定就行了，结果我去营业厅办绑定，就说我欠费，单位交的支票以后没流量，还是欠费，在账期内说让我2月1号来办，完了我2月1号，我这不今天我就去办那个绑定绑定还是欠费欠费呢，它就实际上那那个另外一个地的营业员就告诉我说得这个，你这个实际上，嗯，下月你继续绑定，也要下月生效，这月还要交200块钱，199块【坐席】，嗯嗯嗯，我那个，\n",
      "【客户】您好感谢您来电，唉，是这样的，上周五我向你们反映我这个业务，然后你们这东周上周四反映的，然后都都断账，上周五反映的兜兜转转，这都几天了，我同心卡还没交，还还不可以，唉，中间给我打了电话，说给我恢复数据了，到现在什么事情都没有解决，然后我现在新大门都不让进？【坐席】，是说那个行程数据查不到是吗，\n",
      "【客户】您好，很高兴为您服务，唉，请问是北京联通吗？【坐席】？唉，是的，有什么可以帮助您的，\n",
      "【客户】嗯，你好，就是我，我咨询一下就是我这个手机。它就是因为我要就是弄一个大数据新春卡，这手机老显示就是，嗯，不成功是什么原因呀？【坐席】噢，就是说您点开那个信用卡就是说没有信息是吗？\n",
      "【客户】很高兴为您服务，您好，我问一下那个我上次投诉的事情处理到哪里了，【坐席】？您稍等，我看一下来电号码反馈的是吧\n",
      "【客户】唉，你好，我的那个健康宝洁是北京健康宝宝然后，【坐席】好，\n",
      "【客户】喂你好，我想请问一下那个我这大王卡现在能注销吗【坐席】，校园套餐是一个校园套餐费呢，要这个号码，\n",
      "【客户】您好，很高兴为您服务，唉，你好，你给我看一下，我这个卡是为什么停机啊？【坐席】？您现在来电这号是吗\n",
      "【客户】为您服务，喂，你好，我现在位置在清河这边，嗯，就是这边有个急救中心嘛，附近这边，为什么我一到这边我的手机号就变成一个个了，【坐席】，行好，您看使用当中是在\n",
      "【客户】您好，实习话务员为您服务，你好，我想问一下，就是说12月11号到17号那个送的那20G流量怎么用啊？我怎么今天就没发现能用啊？我领完了【坐席】，噢，我这边看到您是已经用完了，然后您已经使用过了女士\n",
      "【客户】为您服务，你好，我问一下，就昨天我流量还超了，然后我就是，嗯，看我余额余额剩五块钱，然后就买了十个G流量短信说已到账了，然后我确定要是要早上起来给我扣了30块钱咋回事？直接欠费，【坐席】好的，这边查到的话是有购买了一个流量包，现在显示已经生效，可以使用了，是在您这个流量包生效之前，有消耗一点流量，所以产生额外的扣费，\n",
      "【客户】唉，你好，我是那个北京联通，我为什么我怎么欠费欠费欠了200多，我充了还充，现在现在充了一百块钱，一百块钱话费，还欠200块钱，我们这个我这个话费怎么欠欠欠这么多钱呢？我每每个月都交费的，还是每个月就只要交49块钱，怎么会超这么多钱呢【坐席】？查一下这个月的账单，您稍，您是39的月租，然后您办了一个49的流量包，就是改成一个月88块钱，\n",
      "【客户】唉为什么我是那个五星的，然后我答10018，就是那个什么专属客服，他说我不是那个五星的【坐席】，目前您来电，\n",
      "【客户】您好，很高兴为您服务，唉，你好，我有好久都没有去过北京了，但是行程还显示北京，你帮我看一下吗？【坐席】？就近14天没有来过北京，但是它还显示您在北京呢，对吧，\n",
      "【客户】5月份您好您好，唉，你好是这样，唉，我这个现在这个手机号的套餐，是我原来单位办的那个合约套餐，然后这个月底就到期了，我因为换了单位，然后那个合约套餐肯定没法去了，我想换一个套餐的结果，那个，嗯，APP里显示说还有合约没到期，没法操作，那我现在应该怎么操作这个？【坐席】？嗯，这边我看一下您的号码的话，您是说想办用这个手机号去办一个宽带套餐，是这意思吗，\n",
      "【客户】您好，很高兴为您服务，唉，你好那个，我这手机上面有网，怎么还扣了联通的话费了？1月份的，【坐席】稍等一下，女士，这个属于是您上网流量费，\n",
      "【客户】唉，你好，我想问一下，就是我收到那个短信说我这个本月的话，那个固定的费用是五块，然后有一个其他的费用是35块，我就是查一下这个是其他的费用是，嗯是什么费用，【坐席】？其他费用这个流量费用，先生上个月是有35块3毛71个流量费，这边显示，\n",
      "【客户】嗯，你好，我怎么超出了这个，我产生套餐外流量？【坐席】，嗯，还有一号流量是吗，\n",
      "【客户】高兴为您服务，您好，我跟您咨询个问题，就是咱们那个通讯大树锯形成卡，为什么手机扫不出来呀，【坐席】？腾讯当地学生卡，\n",
      "【客户】您好，实习话务员为您服务，喂你好，我想让你帮我查一下这我这个手机号码是不是跑流量？【坐席】？嗯，您说什么先生？您说什么意思？先生，您说流量超出了吗，\n",
      "【客户】嗯你好，我我名下应该还有一个联通的这个手机号，然后是，嗯，我想改成附卡，改成我这个手机的副卡，【坐席】，这个想把这个号？\n",
      "【客户】您好，很高兴为您服务，请问什么可以帮您可以的，稍等一下，帮您临时开机了，【坐席】，您稍后看一下能否使用，往里面交一下话费就可以了，最少需要缴纳67块零1，就能保证给您开机，\n",
      "【客户】唉你好我就是想查一下我那个刚才收到短信我那个流量超了三百多兆我每个月那个月的那个什么砖包了呀怎么还会超尤其是这两天不是有那个免费村节的二十个G的吗【坐席】二十个G的流量包是二月十一\n",
      "【客户】您好，很高兴为您服务，唉，你好，早晨你们客服给我答电话，说我这网不是卡吗？给我数据同步下来，不管是你给我备一下子吧，好长时间了，停卡了，行，您在一个位置还是在所有位置都这样，都所有的都这样，【坐席】，您现在的话是因为江苏才这样先生\n",
      "【客户】喂你好，我手机不知道咋回事，怎么没有任何网络信号了呢，【坐席】？是您本机来电的这个号，您稍等这边给您看一下，这边的话，显示您的号卡状态是正常的，您把手机手机关机重启5到10分钟左右再试，\n",
      "【客户】唉，你好，我想请问一下，就是这个北京丰台区还乐佳苑，这个联通网什么时候能通啊？不是啊，新小区？【坐席】没有覆盖是吗，\n",
      "【客户】喂，你好啊，我想问一下那个，现在这个就是这月就是到期了这套餐我问一下自己时间停12的，就说我好像是有个48块钱，是什么情况？我也不太清楚，你给我说一下，【坐席】，稍等，我帮您查一下，您来电这个号码，然后取消这个费用是吧，稍等一下，嗯，给您看了一下女士一个问题，您这边宽带到期时间的话是到2021年的2月底就到这个月，然后月底最后一天就可以用到，如果您这边想办理续约的话，建议您提前办，然后您这边里面未结清费用话，您稍等，我查一下，你好女士，感谢耐心，等待这边给您查询了一下，然后您这边，嗯，您这边的话就是说，嗯，看一下产生，总共是18块8毛5的一个费用，然后这边给您查询了一下，显示到您这边的话是有那个，嗯，2020年您这边呢？2021年您这边的话那个，嗯，2月份，然后有一个流量包，然后是扣了费用的，另外的话呢，是您这边通话\n",
      "【客户】唉，我问问你们这里，你们这超出的套餐流量是多少钱？一一个G，【坐席】，发到您来电这个号码里面，您说啊，先生，\n",
      "【客户】唉呀，我这个我这的一个健身房，这没信号，这这个，【坐席】，嗯，\n",
      "【客户】啊喂你好，唉，我想咨询一下，就是我的话费套餐到底是什么样的套餐了？当初我办的时候那个，嗯，那个咱们的营业厅的客服人员营业厅的服务服务人员跟我说我办的这个事呢，对那个家庭宽带的套餐就是每个月赠送给我，20G啊，是30G的流量，嗯，是嗯，就是就是说用完之后是限速，但是还能用完了，是一千分钟的长途市话，完了还得的宽带，但是昨天昨天给我发过短信来，什么冰激凌什么又给我发过短信，那什么冰激凌卡什么话是什么什么什么长途话费用了，用了多少分钟还剩多少分钟？什么家庭亲情号还有一千分钟，这是啥意思了，【坐席】？嗯，您稍等，我这边通过系统帮您看一下，就是说我这边帮您看了一下，就是说您这个分钟数，的确是一个一千分钟，但是它这个是分着的，就是您这个套餐里面是包含一个300分钟，然后您的宽带里面就说您这个号不是跟宽带绑在一起的吗？这个宽带里面包含是一个700分钟在一块，一共是一千分钟，然后它只是提示您快用完的情况下，是因为就是说您这个手机套餐里面这个300分钟，您用的是250，十分钟了，还剩余50分钟，所以它会提示您，就是说已经用完了，您用完之后，它就会自动给您走，这个700分钟并不是会说，就是说您用完了就直接扣您的费用\n",
      "【客户】喂您好。唉，你好，我想问一下那个平手码的大声。对现在现在都打不开啊。【坐席】嗯，您是说它数据显示号码这边都收不到短信验证码是吗？\n",
      "【客户】唉，你好，我想问一下，就是咱们现在联通的这个，嗯，信号线啊，在我家的外侨挂着在我家说已经超标了，这个问题我找谁呀【坐席】？信号线？\n",
      "【客户】您好，实习话务员为您服务你，你是实习的是吗？对是的，嗯，你待会跟你讲，我不是实习的了，嗯，请问有什么我可以帮您，您先说一下您的需求可以吗？唉，帮不了，嗯，您是要找找个不是17的，看电视的师傅教的，嗯，好，您稍等啊，您好先生，我这边，嗯，这边，我您先说一下您的问题可以吗？因为我们这个权限都是一样的，您说一下，我看我能不能帮您解决，嗯，我之前给你们联通答过电话，打过好几次了，嗯，你查一下记录是这个电话号是吧，我帮您查一下，我查一下，您稍等，嗯，是这个变更套餐这个是吗？五元套餐，唉，你就说给我给我解决了没有吧，我看一下啊，您是要改一个更低的套餐，它之后应该是会有联系您的，不是你这完全不懂，完全不懂，我不是要改套餐，我不是要改套餐，我是我那个账号被被加入到黑名单了，是要把我的账号跟黑名单里退出去啊，您这个黑名单我没有看到您这个有记录这个是我这边，嗯，确实是没有查到您这个变更，要从黑名单出去这个单子，你看我之前的电话号码是啥呀？这个电话号码4598尾号这个598是吧，对开头是132是吧，嗯，不是等会儿啊，这开头的话是186，是广州的是吧，这边这个号我帮您查一下啊，您是之前在这咨询的事情没有给您解决是吗？对啊，先生，对啊，对啊，嗯，这样吧，我这边再给您记录，噢，您说那肯定是没解决，没有解决，我还不会给你们打什么电话呀，你这不是都可以一起吗？这个这个，嗯，这边您再说一下您的需求，我现在再给您，嗯，做一个反馈，把您的这个需求跟我再说一次，我他妈给你们联通打电话打了四五遍了，光电话费浪费我多少了，我这是用移动的移动的手机号给你们打的，第一次注册没解决是怎么回事啊？给您带来不便，希望你把你输掉了，嗯，好的稍等，女士嗯，好的，嗯，先生，我现在为您转接，听到音乐后不要挂机，好的，查话费，【坐席】，您好，联通客服人员工号五三，为您服务，您好，\n",
      "【客户】喂，您好，我想问问您一下，就是那个就是这个，嗯，电话号码串网的问题怎么解决呀，【坐席】？是您是什么意思？女士，\n",
      "【客户】您好，实习话务员为您服务，唉，你好，就是我这个行程我昨天就从北京到湖北了，但是我这个就是通过那个微信或者支付宝查询，还是显示我在北京这个怎么能改一下，因为我已经回到湖北了，已经一天了，【坐席】，稍等啊，就是上面定位的话，还是说您在这个其他地方是吧，\n",
      "【客户】你好，麻烦你问一下，我这个网络信号是5G的吧，【坐席】，嗯，您的套餐是5G的，就是手机，把您的网络是不是5G您就看信号旁边那个标识？\n",
      "【客户】唉，你好，帮我查询一下那个为什么这个月话费花了260多块钱，嗯好，【坐席】，订了一个十块钱的电话费，两个G流量包业务，\n",
      "【客户】很高兴为您服务，喂你好，我问一下那个我的电话，怎么耳朵耳能打通一次电话，我打现在答不出去呢，所以我欠话费呢？【坐席】，就来电的号码，答不出去电话是吗，\n",
      "【客户】你好，那个我手机限速了吗？你给我查一下能听见吗？你这声音好小，能能听到声音特别小，你说对对对，只能开免提了，那没事你就这样说吧，你给我查一下，已经开始限速了是吧？嗯，50G用完了是多少G下线的？不是50G限限速吗？噢，40G就超出40G限速了好吧，是吗【坐席】？我现在用了多少了，我的信号我是这么\n",
      "【客户】很高兴为您服务，唉，你好那个，我想反馈一下北京市昌平区回龙观有一个叫小新装的地址，这***有问题啊，我之前来这边，嗯，北京市朝阳区昌平区，回龙观小心装，您稍等一下，我有个电话进来，您等一分钟啊，马上就好了【坐席】，您好，请不要挂机，您拨叫的用户正在通话中，所以抽的事怪不得一兆都累计呢，您好，请不要挂机，您拨叫的用户正在通话中，所以错误的事怪不得一兆都累计呢，您好，请不要挂机，您拨叫的用户正在通话中里头的那个210兆的就行了，您好，请不要挂机，您拨叫的用户正在\n",
      "【客户】唉你好，你好，我想问一下那个联通那个话费够那个怎么买不了东西啊【坐席】？那个话费那个抵扣的您是提示\n",
      "【客户】喂，我就问一下子我这个，我我我这手机的号码现在达这手机号码，这跟那个座机绑驾一个月多少钱啊？这个资费【坐席】您来电这个号码是吧，对，嗯，请您稍等一下，我给咱查一下啊，嗯，这个手机号码和那个固话号码绑定在一起，然后每个月的消费我给您查了一下啊，\n",
      "【客户】您好，很高兴为您服务，喂你好，唉，喂，我问你点事，嗯，您请讲，嗯，我在1月12号，我我的流量为什么扣我186块1毛4，我也没玩？【坐席】，在1月份是吗\n",
      "【客户】您好，很高兴为您服务。那个大哥，我求求你们联通服务公司把我试过了，完了。我这个马又成了去石家庄了。我什么时候又去过石家庄，又给我造成开通了，现在工地帮我请帮我捡回来了。我没得，我只能回老家。【坐席】嗯，就说您这个手机号没有去过石家庄，提示去设置，就您来电这个号码吗？\n",
      "【客户】喂，你好，我已经给你们投诉多次了，喂你好，是北京联通是吧？我已经跟你们投诉过多次了，之前跟你们投诉过多次，然后这几天一直达电话，都一直达不进来，我也不知道怎么回事，好吧，然后投诉这个这个，这个信号不好，网络质量不好，好吧，然后投诉了，现在你们一直还没有给我解决呢，好吧，现在还是这样，那个详细我之前跟你们反映过多次了，好吧，我也不想多说了，好吧，反正这几天我一直给你们这个10010打电话，然后你们这就是忙就不过来，应该他直接过来好吧，已经投诉多次了，然后具体问题相应问题您看看，我之前投诉那种好吧，我也不想跟你们跟我说了，好吧，【坐席】，那我这边再帮您反馈\n",
      "【客户】您好，很高兴为您服务，唉，你好是这样，我之前的话已经跟那个客服说好了，因为我们这个号有问题，所以要去办理，就是要把它给销号，但是因为北京疫情的这个一直没去成营业厅，所以我想问一下，能直接在就是在线的，您这边能帮销号吗？【坐席】？来电的这个号码吗\n",
      "【客户】您好，很高兴为您服务，您好，您上次我参加你们那个双12有一个，嗯就是是那个入500那个，然后就是那个那个有一个600的一个活动，就是那个券，到现在我都没收到，不知道什么原因，那然后我已经打过你们那个，你们打过你们那个这个这个电话了，然后说让我等结果，【坐席】，稍等，我看一下这边看显示是不是多次联系过您吗？然后这不显示一直都是无人接听嘛？\n",
      "【客户】您好，很高兴为您服务，唉，你好，我问一下，我现在那个就是我的那个健康宝，它要那个重新登录我的那个手机号行程，然后呢，我重新登录的时候，它那个输入手机验证码，老是输入过期，这是什么情况呀【坐席】？嗯，这个问题呢？已经发现近了，工作人员正在处理当中，这边给您反馈上去，会尽快联系您处理的，会尽快处理的，您再耐心等待处理结果，\n",
      "【客户】您好，很高兴为您服务，唉，你好，我想问一下，我昨天充了很多话费，我刚开始他说我流量超了，昨天我用完了之后为什么今天才给我发信息啊，【坐席】？稍等我查一下，\n",
      "【客户】很高兴为您服务，唉，你好，我问一下，就是他上个月说给我返的钱，什么时候给我啊？【坐席】？给您返的钱是吗，咱们后台工作人员有返您钱\n",
      "【客户】很高兴为您服务，您好，你好，那个你帮我查一下，我这个手机号是什么时候过户到这个我我我这里这里来的？【坐席】，这个咱们这边显示开户时间是在这个2019年8月31号，先生，您看是这个时间吗，\n",
      "【客户】您好，很高兴为您服务，你好，我这边办的套餐每个月返49块钱，你帮我查一下，它是直接返到我的手机卡里面，还是返到哪里去了，我才打知道每个月是扣我129，还是扣我这个反调，49以后扣的钱数，谢谢您？【坐席】，您来电的这个号码的是吗？\n",
      "【客户】喂你好你好，嗯，就我这个号，你们要停我多久啊？停了我一个月还不开通是吧？嗯，您说这个号码，您这边有需要办理开通吗？嗯，停了我一个礼拜了，【坐席】，嗯，您稍等，\n",
      "【客户】您好，实习话务员为您服务，喂你好，我想知道我这个我干啥了？我用了七个多G的流量，嗯，帮助？【坐席】，嗯，就是说您的这个流量使用情况是吗，\n",
      "【客户】您好，很高兴为您服务，唉，您好，是这样，别人拿我的手机验证码登录我的联通APP了，然后一直看我的通讯记录，我觉得你们这个操作怎么能同时登陆这个APP呢？我觉得你们这个系统是有问题的【坐席】，登录APP，它提示您什么呢女士，\n",
      "【客户】您好，很高兴为您服务，喂你好，那个，我这这部电话呀，那个外边打不进来，我能往外打，我老是什么什么，你开通了什么？什么服务，嗯，然后这个直直接转到短信去了，我不现在，嗯，一一号的时候曾经发现过这种情况，当时我们到联通营业部去了，然后他给换了卡了，不知道为什么又发生这种情况？【坐席】，您说来电号码对吗\n",
      "【客户】很高兴为您服务，您好，唉，我这个我这个宽带加那个宽带，我是160几块钱呢，怎么200多块钱呢？我就想，【坐席】看一下，稍等啊，先生，稍等啊，您这个我看一下啊，您这个套餐的话是优惠完之后是一百六十六一百六十六的话，您有订购了一个几块钱，两个G的一个5G升级包，这个您知道是吧，\n",
      "【客户】喂，很高兴为您服务，您好，唉，你给我查一下我这个手机怎么回事，然后一整就没有网络，我在外面，我在就是路上，嗯？【坐席】，嗯，这样也就说您没有网络的话，您看您说，嗯，没网络，现在手机显示没有信号吗\n",
      "【客户】好的我，我的事情不得到解决，我每天会拿狗***，懂吗？我答你北京联通好像不是第一次答了吧？【坐席】，您是有什么联通业务需要咨询吗？\n",
      "【客户】您好，你帮我看一下，我现在一个月扣多少钱啊？【坐席】，本机来电的号码是吗，\n",
      "【客户】唉你好唉，是这样，麻烦您帮我紧急查一下，我我这个联通手机号打不通电话了，就是打不出去了，不知道怎么回事，嗯，接也接，不接就显，我用另外一个号打它就显示正在通话，正在繁忙，嗯，四个格，嗯，有的有的晚上我好像，嗯，就是因为之前插了两个卡在里面，然后我现在换另外一个手机，我就把其中一某某人卡拿出来过，噢，不是是我另外的一个号，我是我，我现在只能用这个号给你打电话，我那个号打不出去了，嗯********，唉，是的，服务密码【坐席】对有修改以后的，\n",
      "【客户】这边显示的是五块多一兆多接近了，您好，请不要挂机，【坐席】，您拨叫的用户正在通话，\n",
      "【客户】嗯，您好，我是去年在那个，嗯，就是联通APP上办理的那个话费的合约，然后就是我之前是给您这边打过电话，反映就是我的那个话费合约好像没有，就是他发的那个红包没有自己去还款，嗯，您看您在记录这个问题了吗，【坐席】？我看一下稍等，您说是就是收到那个红包，它不能自行还款是吗？您之前已经自动返还，\n",
      "【客户】唉，喂，你好，我家那个网信号不太好，之前找联通的人上门给我安了一个机器，那机器我现坏了？【坐席】，就是能帮我再上门看一下吗，\n",
      "【客户】您好，很高兴为您服务是吗？嗯，喂你好，我想问一下这个，我在那个大兴就生效，基地这块，这块的是联通信号，有问题吗？那个网这几天都是天天转圈，一条信息，10月半天，因为移动的也没事啊？【坐席】，就是在这个位置是这样，别的位置都没事是吗？\n",
      "【客户】点播他们说不出来，你好，你帮我查一下，我前两天刚充了一个流量包，十个G的流量，那个为什么现在不用老扣我那个什么流量呀？我查一下稍等那个流量包七天的，我看已经使完了，已经用完了，这个为什么用这么快呀？我看一下使用记录，稍等1月14号购买的，1月14号用了1.3个G15号用了2.6个G，16号用了两个G，17号用了3.2个G18号我知道怎么可能用这么快呢？我之前是20个G的流量，我在这呆了这么长时间，没用那么快呀，怎么这两天办就用完了呀，我看显示有大量使用在腾讯视频，还有包括腾讯新闻，今日头条块数方面都有使用，那也不可能这么快，我之前用我自己的流量，就是每个月固定的这个流量特别少，那为什么现在充的这个流量包十个G的流量就这么快，嗯，确实有这个说不清楚，嗯，你们这买的流量包划了这么瞎扣，一直在扣啊，是您哪个渠道购买的流量包是没有关系的，【坐席】，嗯，\n",
      "【客户】喂你好，那个我我帮我查一下，我这个流量，十个G的流量，用了三四天就用完了，怎么这么快，我怀疑我怀疑你们的流量有虚假【坐席】，嗯，这个合约\n",
      "【客户】您好，很高兴为您服务，唉，你好那个，我想问一下，就是我的，我的那个手机在那个***老特别差，你能给我查一下什么原因吗？在所有位置都【坐席】流量的还是个别位置啊，女士，\n",
      "【客户】唉你好，嗯，好像你们有人给我打过电话，白天，但是我的噢没有，他说也没听到，对呀，我以前是打过电话，关于我的账号的问题，不是手机【坐席】手，\n",
      "【客户】您好，很高兴为您服务，嗯，我这个手机号之前有人给我打电话，是开通了5G的，嗯，那个东西，但现在我这网速还不如以前呢，【坐席】，网速不好，\n",
      "【客户】您好，很高兴为您服务，唉，你好，我想问一下我这个卡这个刚激活没几天，怎么这个短信好像有什么发不出去啊，【坐席】，短信发不出去，稍等，我看一下账号\n",
      "【客户】唉，你好，我，我想问一下我那个，我这不是这个卡，不是流量，我一直关了，为啥他流量一直在使用呢，嗯，你帮我看一下，对我这卡就没开，因为我我用了一某某人流量卡，所以我就把卡二的流量全关了关了，我看今天给我发短信，我就剩了一个G了，我当时我就关流量的时候，还剩三个G4个G的流量，那为啥为啥？我当我当时是我就是17号还是16号的时候，我当时流量是我就是四个G吧，反正后面是基本上每天都在流量在在消耗，然后现在今天给我发短信，就剩了一个G的流量，这个这是什么情况来着？我知道没有使用，那为啥？我这我本来剩了四个G流量，现在就剩一个G流量了呢，这个怎么解释呢？因为之前我就反映过这个问题，之前我就跟你们反映过这个问题，你知道这个结束的话，那我这个月我流量不用的情况下还是还是流量会超对啊，短信我下发短信了，【坐席】，就剩了一个月\n",
      "【客户】很高兴为您服务，那个您好，我这个手机不是每个月有20个G的流量吗？但是我刚才已经交完电话费了，但是它怎么还是感觉跟限速跟月初跟月底限速的那个感觉是一样的，就总是那么慢啊，你帮我看一下为什么呀？【坐席】？您稍等久等了，帮您查了一下，是这样显示您这个号码的话，它现在费用不影响您的使用，跟这个没关系了，所以您看您使用当中，实际上手机上有显示那个4G网络标识吗，\n",
      "【客户】您好，很高兴为您服务，喂，你好，你能帮我查，【坐席】查一下，我这手机号有办理什么业务了吗？都请稍等，您现在来电的手机号码的话，是八块钱的流量王，这个的话是包含30分钟通话流量是200兆，您这个的话办理一个最低消费60块钱，然后给您12个G的国内流量，还有一个49块钱，20个G超大流量权益包，比如说您八块钱的话，加49是五十五十七块钱，然后的话这就小楼使用，再加三块钱？\n",
      "【客户】你好，唉，我想请问一下，我这手机现在消费是多少，【坐席】？这个号码的每个月19达电话的话是一毛钱一分钟，如果您使用非腾讯软件的话，是一块钱500兆日租包来电\n",
      "【客户】您好，很高兴为您服务，嗯，你好，我这个手机号是跟那个宽带绑定的，为什么怎么出现副话费了呢？我看一下没有办理其他的业务，【坐席】噢，帮我吗，\n",
      "【客户】您好，实习话务员为您服务，喂，您好，就是我这个套餐，我这个套餐我订的时候我记得是59，但是后来我看它这每个月都是扣69，我不知道这是怎么回事，嗯，好的女士，【坐席】，我这边帮您详细的查询一下，请您稍等，嗯，嗯，好的，您好女士，您好，感谢您的耐心等待，这边帮您看了一下，因为您这个号码呀，绑定了，嗯，这是座机还是宽带？我帮您查询一下，然后绑定收费的，然后每个月产生的话费就比较多了，\n",
      "【客户】高兴为您服务。唉，你好，我在昨天啊，中午12:39块收到一个短信。短信。是是商业局发的，你在营业厅，你这执照信息存档已失效，务必在2月23号之前进入。什么GF.WEB9.CC级时尚汇。延时将无法正常进行并处罚。这个。这个加这个是谁发的？世家********。********这是谁呀？【坐席】这谁的话我们这边也看不出来的，因为它这边的话号码联通业务是收发短信，拨打电话。上网，具体谁给您发的短信，它这边没有权限去查看，也判断不出来是谁，所以建议您谨慎判断是否有您它。\n",
      "【客户】喂，你好，我这个彩铃怎么一直没有啊？开通的业务是吗？不是他说他已经给我开通了，上次我答电话是谁给您开通的，【坐席】？嗯\n",
      "【客户】就我这手机号，它老有增值，那个话费，我增值话费都干啥了对啊，我没有增值业务，但是我话费为什么老是老是有增值增值的话费啊【坐席】，是有短信费的，您好，欠费，\n",
      "【客户】唉你好我那个手机没有欠费的情况下突然网络用不了这个怎么回事啊【坐席】您说哪个用不了\n",
      "【客户】您好，很高兴为您服务，喂，你好，我想问一下，你们是跟那个健康宝友合作吗？您现在是，【坐席】什么问题了，\n",
      "【客户】您好，很高兴为您服务，喂，你好，我想问一下，就是我的那个嗯，今天我开了这个联通的这个手机，然后它显示我已经付477的电话费了，我不知道这个电话费是从何而来，我都没有用过这个手机，【坐席】，嗯，我看一下\n",
      "【客户】嗯，您好，很高兴为您服务，嗯，话费你那啥，我也看到，【坐席】，请讲先生，\n",
      "【客户】手机总是那个，那个就是叫什么信号特别弱，我也没有欠费，然后也没有超出，是那个100G那4G总是特别弱，这个这个信号，喂，对答电话都都影响影响，打电话不用说上网了，好多位置都用不了，都都是这种情况，人家都网都特别好，然后我这不行，信号不是吧，【坐席】，信号是满格的吗\n",
      "【客户】很高兴为您服务，你好，我在咱们那个联通APP的那个商城积分商城兑换了一个礼品，然后它是我是12月27号兑换的，然后昨天我看说显示签收了，我根本就没有收到，然后我就根据那个申通的那个快递单号查询了一下，他又给我返回到那个发货人那去了，然后写的已经签收？【坐席】啊，回到他过来显示已您说用积分兑换的礼品是吗，嗯，是来电的这个号码兑换的吗，\n",
      "【客户】您好，很高兴为您服务，我是融合业务，然后我上个月订了一个那个，这个这个话费流量包，当月使用的，它写的是那个什么是共享流量，可是我定完之后又不共享，只能我用，后来我发现他又分主主卡副卡，我说它订的时候怎么不分主卡副卡呢？然后他说我这个特殊情况，然后上个月没有使用的话，这个月把话费返回来，你看看你怎么给它返回来啊？【坐席】，本机来电的这个号码吗，\n",
      "【客户】这是人工服务，他怎么老接不通的，是怎么回事啊？老是没有那个人工服务的，老是说那句话，老是说是语音，要办什么流量包，办理完老说这句话按几按几北京联通老是这样说，怎么现在是怎么回事，这服务一点都不周到啊，扣钱要扣很多钱，服务一点都不周到，现在是怎么回事了？老是你老是就是说北京联通这个要办理什么？要办理什么？说了半天了，也没说要接通客服部，【坐席】，请问您，\n",
      "【客户】嗯你说什么？我要的我就，唉喂，你好那个，我刚刚嗯，稍微听得见吗？嗯，身份证号码噢，是这样的，就是说这个流量的问题，因为这边我我这不是北京的手机号吗？然后我人在安徽里面，它那个短信有时候接收不到，就是它信号不好，然后今天一看啥时候扣了140我都不知道，所以你看能不能帮我申请一下退费啊，【坐席】，140我帮您看一下，\n",
      "【客户】嗯您好，我问一下，我如果想那个下个月开始取消宽带业务的话，打电话给您能办吗，【坐席】？噢，可以的，那您这个如果想使用完这个月租，就是说在您就是说，嗯，这个月底三四天左右吧，七天三四天了？\n",
      "【客户】您好，很高兴为您服务，嗯，你好，是这样的，我昨天就打过电话，然后就是问过，然后就是你们平台就是APP上，我不知道怎么找到在线客服，好像一直就没有在线客服，然后就是，嗯，那个就是有一个你们什么京东PLUS，然后就有一个立减20元的建用积分兑换的，它永远都显示在补过，可是我每次刷新再补过，就是领取的人数却在几万几万的不停的再再增加，所以我就觉得很奇怪，这个到底是哪里出了问题嘛？【坐席】，您是说您想用积分兑换那个京东PLUS的券？\n",
      "【客户】唉，你好，我想问一下嘛，这个手机我在别的手机上下载那个APP，在这个手机上进行短信验证码验证，它怎么就收不到那个验证码呢【坐席】？就是收不到哪个平台的验证码是吧，\n",
      "【客户】您好，很高兴为您服务，你好，我想问一下，我这本机反映这个问题，为什么我我都转到我手机上了，为什么还那什么街上打，而且这手机上没有人接听，为什么老板这手机上打，嗯，大概四点钟都多少天了，不是都多少天的事情了，为什么老我都说了，那我的手机上我的手机上，还在这手机上打，是什么意思啊？那我看一下这已经是两回了，你给我发那个什么妃甸就是您好，您是说呼叫转移的业务吗？这个问题，嗯什么？那你们到底是有什么问题吗？不是我的问题解决了吗？我有什么问题？不是说好了这个手机，这个打我手机打我手机，为什么老版这手机上打，【坐席】，噢，您说噢，给您回电话的，那看当时留的联系电话啊，\n",
      "【客户】你好，你帮我看一下我这个号怎么上面给我发信息说什么欠费啊，什么意思啊，【坐席】？您先稍等一下，给您查询一下，稍等一下手机是不是之前单独订购过流量包呀？因为这边查询的话，手机号它是有一个，29元时就29元10G的一个5G的流量包，这流量包的话，是会在套餐基础上单独收费？\n",
      "【客户】噢，没打扰您了啊，那个，我这手机上这段时间的信号特别不稳定，【坐席】，好不稳定，在一个月之内，\n",
      "【客户】唉，你好啊，我之前上周吧，反映过那个充话费的问题，你能看到记录吗？然后当时这个工作人员给我回电话，说是五个工作日，然后今天周六了，【坐席】，您上次就是说看到您手机下士说是晚十点晚上，然后找到那就没有了，我看一下是如何帮您的，\n",
      "【客户】我那个前两个月的账单，那个话费我没用，怎么会扣那么那么些？【坐席】，抱歉，没有听太清，您方便再说一下吗，\n",
      "【客户】您好很高兴服务，唉，你好，我想请问一下，之前我投诉的网络信号差，这个问题什么时候能得到反馈？【坐席】，我帮您看一下先生行稍等好的先生，我帮您查到了，先生您之前反映这个问题，它后台已经帮您去处理，先生，您现在这个信号是比之前好用了，还是说和之前一样呢\n",
      "【客户】你好，请问一下我这个手机怎么这边上显示成3G了呢【坐席】？啊？是这个网络是吗？先生，嗯，是这个网络是吗？这个移动数据，\n",
      "【客户】您说，唉，老家我我这个手手机啊，别别人给我打电话，是中国移动的一个电话叫********达电话老说我着忙打不通，实际我这个手机啊，不忙就在那放着呢，【坐席】，嗯？\n",
      "【客户】唉你好，嗯，我之前预约了一个装宽带的那个，你师傅电话，我我现在记不得了，然后我想让他今天就过来了，本来应该是明天？【坐席】电话是吗\n",
      "【客户】您好高兴服务，你好，我这个手机已经欠费了，但是孩子用这个流量看的，看的那个电视，它怎么不停机啊？他反而扣钱啊，看片【坐席】，您这个号我看是，嗯，您好女士，因为您这号码我们看是那种有信用额度，就是后付费的号码，所以他是可以先使用后后交费的，所以您这有信用额度，550是可以透支啊然后所以您如果\n",
      "【客户】我刚刚办了以后，唉，你好，我这个号码怎么打不出去了，【坐席】？您稍等，我帮您看一下啊，稍等，\n",
      "【客户】现在一直没用，我一直我都没你好，把那流量给我开一下，【坐席】，这个来电的这个号码是吧，稍等，\n",
      "【客户】您好，很高兴为您服务，您好，那个我想问一下，我这个手机在在家里头总是接不到电话，那我想问一下有没有就是一个业务，把我这手机和我家里的电话绑定，就是说，嗯，我我这个手就是手机，如果打我的手机，就家里的电话也同时讲，你们有这个业务吗，【坐席】？嗯，手机啊，手机的话，您可以设置这个无条件呼叫转移，就是有人给您这个手机打电话转移到座机上？\n",
      "【客户】您好，实习话务员为您服务，唉，你好是这样的，就是我这个手机号是那个宽带送的一个手机号，它这个怎么查话费，【坐席】？嗯，拨打那个1001011直拨就可以，或者下载手机营业厅进行那个查询，也可以跟正常手机查话费是一样的，\n",
      "【客户】您好，很高兴为您服务，噢，我之前跟你们反馈过，就是我这边我住的这边，然后信号特别不好，【坐席】，信号不好是吧，是在什么位置啊，\n",
      "【客户】很高兴为您服务，您好，喂你好，我我父亲那个手机就是也是咱联通的号，就是我给换了一个老年机之后，它在打我这个号就响了一声就自动就挂断，是什么意思啊？【坐席】？只是这一个手机号码来进行，这个打您的手机达不进来是吗，\n",
      "【客户】你帮我看一下我这个余额是多少？欠费多少，几月的呀，【坐席】？1月份2月份的，\n",
      "【客户】您好，很高兴为您服务，唉，你好，你帮我查一下这个话费说有好几百块钱什么钱呀？那个来电的这个号码吗？请问对对就就是来电这个，【坐席】好的，请您稍等啊\n",
      "【客户】您好，很高兴为您服务，喂你好，你好，喂，唉，你好，就我元旦之前那个在那个积分商城换购的那个东西，现在还没发货呢，您帮我看一下？【坐席】，嗯，您自己在积分商城可以看到您的话费为刘情况呀，没有吗，\n",
      "【客户】您好，很高兴为您服务，唉，你好，我问一下那个我手机怎么收不到短信呢，【坐席】？对哈，唉，女士是这样的，咱们这个今天的话呢，就是有接到很多客户有来电，就是说这个问题，但我们已经做上报了，嗯，是这个，嗯，暂时性的问题，然后您反映的问题的话，我们已经反馈到咱们公司这边，会尽快处理的，可能在这期间影响到您的使用了，也给您道个歉？\n",
      "【客户】您好，高兴为您服务，唉，你好，就是我这个手机老是有短信，就以前跟你们说过，说过我也没通常时间，到月底我再看，还是收到短信我刚才11月30日，它那个12315那个要发个验证码，事发不回来，他也没收到？【坐席】，收不到短信，就是其它的话都能都都是正常的是吗，\n",
      "【客户】您好高兴服务，你好，我前段时间在营业厅办了个宽带然后的话他说送送一部手机，然后用话费来换吗？嗯，他们他们现在看在话费上看显示不到，就是他们给我换话费啊？【坐席】，您的返款是什么时候，\n",
      "【客户】您好，很高兴为您服务，唉，您好，麻烦问一下你，我这个手机号为什么现在用不了了？你帮我看一下，【坐席】，号码您提供一下，\n",
      "【客户】您好，很高兴为您服务，你好，我这个号码你们给我停了一个半月，办了两个多月，停了我一个半月，我这个号码【坐席】，本机号无法使用了，我看一下状态是什么原因造成的，稍等啊，您是从什么时候开始无法使用的先生，\n",
      "【客户】很高兴为您服务，您好，你这这联通太清楚，你帮我看一下，我都交完费了，为什么我还没有信号呢【坐席】？交上费了没有信号是吧？您是，\n",
      "【客户】嗯，昨天晚上我报修了一个北京IPTV的一个情况，然后你们那个工作人员尽快给我反馈了，那普通说，那我开通的业务不对，但是呢，你们这个东西是误导消费，我一个月包50块钱来钱的东西只有一个功能，这个东西就是你们没有提示，没说清楚，第二一个我其他功能都用不了，我凭什么语音花这50块钱就开通一个功能是吧，然后你们客服人员解释就是这个东西给你们客服答电话给我退掉还是那样，所以说我再给你们客服答电话啊，【坐席】，您是说您是按照，因为您想退订一个业务是吧，\n",
      "【客户】您好很高兴您服务你好，我这个手机号，我想查一下我的行程啊，我怎么查不出来啊？【坐席】？嗯，您是在微信小程序里面查不到吗，\n",
      "【客户】喂，你好，我的手机现在接不到你们的短信，验证码，短信，验证码，就你们联通的接收不到【坐席】，接收不到您说的，\n",
      "【客户】唉，你好，那个，你那边能看到吗？我订阅了一个九块钱的定向流量包。【坐席】来电这个号码是吧？\n",
      "【客户】很高兴服务您好，唉，你好，就是昨天我答过一个电话，后来你们说处理完了之后会答电话给我，但是我我后来打过来了，但是我可能那会忙没接到，是186什么0323的，一尾尾号的一个电话，你你看你查一查就是********我这个电话的的需求，你那还有记录吗？【坐席】？嗯，我看您是要暂停一个，嗯，2020971个尾号的一个套餐是吗，\n",
      "【客户】唉，你好美女，我问一下，就是我现在在方庄这边工作，然后这边的咱们联通的信号特别特别不好，然后我们现在联系了我们的公司，嗯，IP这方面的人员，然后呢插上【坐席】办法能，\n",
      "【客户】您好，很高兴为您服务，唉，你好，嗯，我想问一下，就昨天我那个流量不够不够，他也没给我停了，因为昨天开一个视频会嘛，嗯，后边我兑换了两个G的流量，它为啥还为什么还扣我了好多钱呢？【坐席】，兑换之前就超了，\n",
      "【客户】唉，你好，麻烦问一下我这手机号怎么那个通讯那个大数据的形成卡找不来了？【坐席】，来电这个号是吗，\n",
      "【客户】高兴为您服务，我想说一下，你们能不能尽快把这网络问题解决，我今天他们连电话都打不了了，达电话的信号是一卡一卡的现在，【坐席】明白理解您的情况，现在达电话也用不了，网络也用不了是吧，\n",
      "【客户】喂你好。是这样，那个我在番禺桥建材城这里。完了，我们这地方手机没信号，那个原来一直有，现在是。到地下就没有信号，不知道是是是咱们这的问题还是什么问题啊？对就上了，楼上就有，到地下室就没有。【坐席】嗯。\n",
      "【客户】您好，很高兴为您服务，唉，我问一下我，我的那个手机怎么月租费？怎么一百六十六十几了？169了【坐席】，稍等，我给您查一下，您不是159吗？然后套餐是199的，给您打一个七折，每个月159？\n",
      "【客户】很高兴服务您好，唉，你好，你好，嗯，我想问一下我现在这个套餐是啥套餐？【坐席】，来电的这个号码是吗\n",
      "【客户】您好，很高兴为您服务，唉，我想问一下，我这个办理销户办理了申申请三四次了，为什么老师申请不成功啊，【坐席】，您这个是通过哪申请的这个\n",
      "【客户】什么时候给我加区号？唉，您好，您您那个，我今天来交这个宽带业务，说我这上加了一个，嗯，什么节目流量包，我什么时候加的流量包啊【坐席】？您说那个？\n",
      "【客户】唉，你好唉，是这样的，那个我这个套餐应该是月租，是25块钱的，然后它有一个什么增值，12块钱您帮我看看这什么意思啊？对对对，【坐席】，看到您这个手机号码，王者荣耀流量权益包是游戏的这个，\n",
      "【客户】高兴服务，嗯，就是156，521915，这个号我收不到，那个短信验证码，短信啊什么的就自动发收不到，【坐席】，不好意思让您就那个给您造成不便了，已经初步查询，咱们这个是系统繁忙导致的，您在那个手机上设置里边，把VOLTE功能关闭之后，您再试，应该就可以收到了，什么牌子手机？\n",
      "【客户】唉，你们10018那个是不是电话已经被取消了呀？我打了一早上打了，大概七八个人都给我挂了，就是说在忙，然后全都给我挂了，以前，因为我们不是，但以前我跟你说一下我的体验，就以前因为我每次打都能直接拨进去，然后这一两个月吧，给你们10018打电话，基本达成前五次都进不去，然后打10010发短信去，因为我记得过去你们是10018，是一个VIP的一个热线，对吧，【坐席】？那10010的话，你这个直接是接入的一个功能，\n",
      "【客户】您好，高兴为您服务，您好，唉，你好，麻烦帮我查一下我的个人的套餐及使用情况？【坐席】，嗯，是目前来电的手机号码的吗，\n",
      "【客户】唉，你好，我刚才那个流量啊，我刚才看交还是什么时候又超过了，刚刚说什么要40块钱是咋回事啊，【坐席】？稍等看一下，我看一下您说这个套餐里面超出的话呢，是现在超了40兆？\n",
      "【客户】您好，很高兴为您服务，喂，你好，我想投诉一件事啊，啊，你看我这话，我这现在这个手机号里面我好像12月份，然后充错了一笔310个310个50的那个话费，然后当时我就答电话给你们那个联通了，然后联系一下查一下啊，你们客服告诉我去联通营业厅去办理，然后我也第二天就去了大庆北京市海淀区皂君庙这个联通营业厅，去拿着证件什么的去办了，因为我是想充到另外一个手机号里边，然后呢，它当时说那个营业厅天之内给我弄首，然后过两天有一个手机客服，有一个手机，135的，还有什么的给我答电话，然后就算我不要退，这个话费我都不行，然后他直接跟我说，如果就是说这个话费就需要用我，我是支付宝充的嘛，它就是全部返回到那个就是什么，就是只能返返回到那手机号上面，就是那个手机卡上面，他当时我我也了解这个情况，我也跟那个淘宝沟通了，然后我们双方都弄好了之后我回复他我说女士提交财务，把这个钱给我弄了，就说我，我已经找到这个，我充值方法，他们也是承诺给我做，然后呢，这一个多月了就没有，没有任何回去嘛就【坐席】后来就一直没给您那个回复，因为您，\n",
      "【客户】唉，你好，我这个电话不是被那个局方叫停了吗？可是我现在身份证丢了，那我办临时身份证可以去解除这个吗？【坐席】？您说是办使用临时的身份证是吗，\n",
      "【客户】你给我办卡的，那我给您办完了查询，喂，嗯，知道了？【坐席】，唉，您好，可以听得见吗，\n",
      "【客户】很高兴为您服务，我之前投诉的我这边网用不了，你们一直也没有给我解决啊，而且让你可以让我话费也没有人给我赔，【坐席】，是手机上的网用不了，还是家里的宽带用不了，\n"
     ]
    }
   ],
   "source": [
    "for sen in client_front_conts:\n",
    "    re_sen = sen.replace('【','\\【')\n",
    "    cut = re_sen.split(\"\\\\\")[1:]\n",
    "    if len(cut[0]) > 25:\n",
    "        print(sen)"
   ]
  },
  {
   "cell_type": "markdown",
   "metadata": {},
   "source": [
    "结论1：对于以【客户】开头的数据，存在4种语言情况：\n",
    "\n",
    "（1）标注错误。许多以【客户】开头的长句中，都包含了【坐席】的第一句话“您好，很高兴为您服务”等字眼，但这些内容没有被区分出来，而是被一股脑塞进了【客户】的语句中。这类语句的第一句长度一般大于25，不需要去除，“您好”等错误混入的语句可以通过后面的关键词筛除步骤去除；第二句不需要去除。\n",
    "\n",
    "（2）用户直接抛出问题。用户没有等【坐席】说出基本的问候语就直接抛出问题，【坐席】紧接着进行询问和解决。这类语句的第一句长度一般大于25，不需要去除；第二句不需要去除。\n",
    "\n",
    "（3）回访电话。回访电话是由通话公司打给用户的，因此第一句一般是用户的“喂”“你好”等回应。这类语句的第一句长度一般小于25，需要去除；第二句说明主要问题，语句长度大于20，不需要去除。\n",
    "\n",
    "（4）互相问候。【客户】和【坐席】彼此问候，语句都比较短，基本没有实质意义。第一句和第二句都需要去除。\n",
    "\n",
    "基于上述4种语言情况，需要做的处理为：对于以【客户】开头的数据，（1）先判断第一句长度是否大于25，是则不用去除任何内容；否则去除第一句，并进行下一步筛选。（2）判断第二句长度是否大于20，是则不用去除；否则去除第二句。"
   ]
  },
  {
   "cell_type": "code",
   "execution_count": 21,
   "metadata": {},
   "outputs": [],
   "source": [
    "for i in range(len(all_conts)):\n",
    "    each_cont = all_conts[i]\n",
    "    if len(each_cont[0]) <= 25:\n",
    "        each_cont = each_cont[1:]\n",
    "        if len(each_cont[0]) <= 20:\n",
    "            each_cont = each_cont[1:]\n",
    "    all_conts[i] = (\"\".join(each_cont))"
   ]
  },
  {
   "cell_type": "code",
   "execution_count": 22,
   "metadata": {},
   "outputs": [],
   "source": [
    "data['content'] = all_conts"
   ]
  },
  {
   "cell_type": "code",
   "execution_count": 23,
   "metadata": {},
   "outputs": [
    {
     "name": "stdout",
     "output_type": "stream",
     "text": [
      "1220.5927451501461\n"
     ]
    }
   ],
   "source": [
    "content_np = np.array(data['content'].astype(str).str.len())\n",
    "content_np.shape\n",
    "content_np = np.sort(content_np)\n",
    "print(content_np.mean()) "
   ]
  },
  {
   "cell_type": "markdown",
   "metadata": {},
   "source": [
    "### 2. 词组替换"
   ]
  },
  {
   "cell_type": "code",
   "execution_count": 24,
   "metadata": {},
   "outputs": [],
   "source": [
    "# 词组替换\n",
    "replace_dict = {\n",
    "    \"？\":\"，\",\n",
    "    \"。\":\"，\",\n",
    "    '您好，':'',\n",
    "    '您好？':'',\n",
    "    '你好，':'',\n",
    "    '你好?':'',\n",
    "    '你好':'',\n",
    "    '喂':'',\n",
    "    '然后':'',\n",
    "    '而且':'',\n",
    "    '那个':'',\n",
    "    '这个':'',\n",
    "    '一个':'',\n",
    "    \"我我\":'我',\n",
    "    \"你你\":'你',\n",
    "    \"您您\":'您',\n",
    "    \"先生\":'',\n",
    "    \"女士\":'',\n",
    "    \"很高兴为您服务，\":'',\n",
    "    \"高兴为您服务，\":'',\n",
    "    \"高兴为您服务？\":'',\n",
    "    \"其他可以帮您\":\"\",\n",
    "    \"其他可以帮到您\":\"\",\n",
    "    \"还有其他\":\"\",\n",
    "    \"什么可以帮您\":\"\",\n",
    "    \"其他需要帮助的\":\"\",\n",
    "    \"听不太清\":'',\n",
    "    \"高兴\":'',\n",
    "    \"嗯\":'',\n",
    "    \"噢\":'',\n",
    "    \"哦\":'',\n",
    "    \"呀\":'',\n",
    "    \"啊\":'',\n",
    "    \"呢\":'',\n",
    "    \"就是\":'',\n",
    "    \"稍等\":'',\n",
    "    \"为您\":'',\n",
    "    \"话务员\":'',\n",
    "    \"实习\":'',\n",
    "    \"很服务\":'',\n",
    "    \"唉\":\"\",\n",
    "    \"您好\":\"\",\n",
    "    \"我方客户\":'',\n",
    "    \"客户我方\":'',\n",
    "    \"我方，\":\"我方\",\n",
    "    \"我方。\":\"我方\",\n",
    "    \"客户。\":\"客户\",\n",
    "    \"客户，\":\"客户\",\n",
    "    \"，，\":\"\",\n",
    "    \"********\":\"*\",\n",
    "    \"*******\":\"*\",\n",
    "    \"******\":\"*\",\n",
    "    \"*****\":\"*\",\n",
    "    \"****\":\"*\"\n",
    "}\n",
    "aa = data['content']\n",
    "for i,j in replace_dict.items():\n",
    "    aa = aa.str.replace(i,j)"
   ]
  },
  {
   "cell_type": "code",
   "execution_count": 25,
   "metadata": {},
   "outputs": [],
   "source": [
    "data['content'] = aa"
   ]
  },
  {
   "cell_type": "markdown",
   "metadata": {},
   "source": [
    "### 3. 去除过短的句子"
   ]
  },
  {
   "cell_type": "markdown",
   "metadata": {},
   "source": [
    "根据对数据的观察和经验，大部分字数少于6个字的语句都是无意义的语句，可以被去除。"
   ]
  },
  {
   "cell_type": "code",
   "execution_count": 26,
   "metadata": {},
   "outputs": [],
   "source": [
    "all_conts = []"
   ]
  },
  {
   "cell_type": "code",
   "execution_count": 27,
   "metadata": {},
   "outputs": [],
   "source": [
    "cont = data['content']\n",
    "cont = cont.str.replace('【','\\【')\n",
    "all_conts = [sen.split(\"\\\\\")[1:] for sen in cont]"
   ]
  },
  {
   "cell_type": "code",
   "execution_count": 28,
   "metadata": {},
   "outputs": [
    {
     "data": {
      "text/plain": "[['【客户】，我刚收到咱们话费通知的短信了，我看了一下说我上个月消费了二十一块多吧，有五元是我的包月费，剩下有16块多的其他的消费，我没有进行过任何的，上网，通话的，我想查查什么费用，',\n  '【坐席】，我看一下1月，二十一块8，上网流量费，15块9毛3，国内通话费0.15元，到达电话打了一分钟流量的话，应该是超出了一部分，用了15块9毛3的流量费，',\n  '【客户】对，我肯定没有用流量，因为我是退休在家，我家里有WIFI，我也不出去玩，一星之前我刚激活，根本连买菜都不用，我出去，流量是怎么出来的钱，你们这肯定有积分问题，',\n  '【坐席】用了五十五十九兆流量，扣了19块15块9毛7的费用',\n  '【客户】59兆流量六块钱，',\n  '【坐席】电话那您对流量超出不认可的话可以给您进行上报反馈，后期会有专人给您回电处理，',\n  '【客户】，他最后给我回电，怎么处理，我要求这返返费，因为我肯定没消费，比如说电话电话有过吗，你使过我电话吗，电话我也没打过，我家里人也没用，我电话打过，我们每个人都有手续，',\n  '【坐席】现在这边无法给您进行核实，只能看到您使用的超出您是没有使用的话，我这边给您记录上报，后期会有专人给您',\n  '【客户】你给我上报余额，实际话费，反正就这15块几吧，我肯定没花点钱，我肯定要交的，但是我绝对没用过，因为我就没出过门激活，',\n  '【坐席】好，那我这边给您记录上报，后期会有专人给您回复，保持电话畅通，',\n  '【客户】，他什么时候联系我，还是直接就给我发短信，',\n  '【坐席】，24小时，你回复电话，',\n  '【客户】，行好了行，谢谢，',\n  '【坐席】，那感谢您来电，稍后按两个一，谢谢',\n  '【客户】'],\n ['【客户】先说一下不太好意思，因为今天不是我，因为之前投诉，不是你们扣费的问题吗，今天今天应该给我反馈回来了，有服务电话，我没记住，这件事情不好，因为比较忙，我当时没有就没有借助你这这卡，很抱歉的，我，我可能出现出来，我楚是什么事，',\n  '【坐席】那我给您看看，一下，',\n  '【客户】，是这样的，你这今天是我做就做两次，对',\n  '【坐席】就当时联系，您能联系到您之前反映过流量问题，但是之前事处理部门有处理方案咱们出于服务角度，可以给您适当的给您减一下11月和12月份的流量费用，您考虑一下，',\n  '【客户】对那行吧，那你你讲吧，',\n  '【坐席】，那我再去给您登记报一下，让处理部门尽快联系您，',\n  '【客户】那行吧，为什么得时间显示秒给我订的不是这这今天又有事，我你们连上，被不住你们的没错，不好意思',\n  '【坐席】，没关系，是咱们，是咱们这边，可能您那忙没您这当时，',\n  '【客户】我确实有时间，我去营业厅确认是，不要，有没有确定申请停机，我，不好意思，好像是我原先不好意思，我，我也不知道怎么联系你，只能这么怎么联系',\n  '【坐席】行那我，我再给您报完再处理部门再回想一下，',\n  '【客户】对，在回家，你这这这这给人说，就兑付里边，',\n  '【坐席】那没关系，我去给您催一下，',\n  '【客户】，不不不用，不用退，你一点事一点对不对，感觉无人答我电话我都没我都我都没接到，这这有点说不过去了，你说我这刚买完，赶紧赶紧给我回，',\n  '【坐席】，行，那我让处理部门再和您沟通事情好吧，',\n  '【客户】好行行行行，不好意思，',\n  '【坐席】那报一下那没关系，没关系，',\n  '【客户】行行行',\n  '【坐席】，好好的感谢来电好再见'],\n ['【客户】，我套餐到期了也没人通知我，我原来是138块6的，现在它我这刚发现了，现在是按198了，',\n  '【坐席】一下，这边帮您查一下，来电手机号，当时七折优惠，是上月底到期的，就2月底到期的，到时候我们这边都会有短信提示的，',\n  '【客户】，没有，',\n  '【坐席】，如果您觉得套餐不合适，也可以变更一下其他档位的套餐，',\n  '【客户】是，但是你月你就按998收的，',\n  '【坐席】如果您是是兑现在本月产生的费用，不认可本月的套餐资费，那我这边尽快帮您反馈一下来电手机号，请问可以作的联系电话吗，',\n  '【客户】我现在在营业厅营业厅，它说按198收，我说这不应该，原来一直用的都挺好的，你们应该发短信或者怎么通知我一下才对，',\n  '【坐席】，会有短信提示，',\n  '【客户】没有，我有我不就变更了吗，',\n  '【坐席】您可以查一下是不是您没有收到，因为我们这边合约到期的话，都会有发送短信',\n  '【客户】我们这没有嘛，我所以才给你们打的电话，',\n  '【坐席】好，那我这边尽快帮您反馈一下，您看可以吗，',\n  '【客户】反馈那我现在怎么办',\n  '【坐席】现在的话本月那您现在是想要改套餐还是什么，因为资费问题和帐得需要由我们后台工作人员尽快给您回电，也不影响您改套餐也不影响您办理业务，',\n  '【客户】营业厅，那如果我改套餐它现在按我什么收费，',\n  '【坐席】那改套餐本月改下月生效，所以说本月您还是用的198的套餐，您现在只是这不是也不认可，',\n  '【客户】这边我就不认可这198',\n  '【坐席】所以说我这边尽快帮您反馈资费问题，但是如果您下月不想使用198，您可以直接在营业厅改，不影响我们这边给您核减咨询，',\n  '【客户】那是我月改还是下个月改',\n  '【坐席】月改本月改新的套餐下月生效，',\n  '【客户】行吧，明白了，那你帮我反馈，',\n  '【坐席】请您电话保持畅通，我这边尽快帮您反馈一下，',\n  '【客户】，好谢谢',\n  '【坐席】，不客气，感谢来电，请您稍后来电，谢谢您，再见'],\n ['【客户】我想问一下我话费现在欠了多少了，',\n  '【坐席】来电这号码欠费了多少钱是吗，',\n  '【客户】，你看一下，',\n  '【坐席】行，您一下，号码的话，现在欠费，2月份的，165.75，165.75，',\n  '【客户】看他这是什么套餐，我都没用，电话都没用，怎么欠那么多，',\n  '【坐席】它是96块钱的套餐，里面包含了450分钟的通话，还有您办理的有5G升级包的，49块钱，20个G，还有是其他的还有是30块钱500兆的业务，',\n  '【客户】你这样，你把500兆的他30块钱的话，49块业务帮我取消了，我不要706的套餐，',\n  '【坐席】就5G手机的话，就可以享受5G网速的，所以建议您保留现在业务，',\n  '【客户】那你就把30块钱的取消吗，',\n  '【坐席】您是因为什么原因不想用了',\n  '【客户】不是我有，我有四个号码，你收费太贵了，你知道吧，其他的我收费几十块钱的流量费用，',\n  '【坐席】一下，',\n  '【客户】原因，你帮我取消吧，',\n  '【坐席】，如果您不需要30块钱的流量包的话，这边可以给您取消，有修改过后的服务密码吗，六位的',\n  '【客户】，我号码我用了78年了，现在密码给我拿',\n  '【坐席】姓名说一下机主名字',\n  '【客户】我给你，我上次不是跟你说了吗，当时我这这78年，这67年之前买号码的时候，他不是有我名字说的是别人，是一直是我',\n  '【坐席】需要您提供机主姓名，身份证号，身份证的证件地址，我才能给您办理，',\n  '【客户】电话那我现在把我的，用身份证号报给你嘛，',\n  '【坐席】对您说一下号的机主姓名，',\n  '【客户】号的姓名不是我的名，上次它没给我改，我上次不是达10086，',\n  '【坐席】那如果您提供不了这些信息的话，我这边没有办法给您取消的，',\n  '【客户】你不给我取消，下子我就我就不要了，我自动我连连连连连，这钱我都不返了，我看你们怎么我用了78年了，',\n  '【坐席】业务是需要您提供机主信息的，要不然，',\n  '【客户】我现在跟你讲，那我在网上那那50G的花了49块钱的网上面记得我那用号码我能能那能登记，那为什么不能给我取消，你最好把我5G的取消，',\n  '【坐席】您取消业务的话，确实是需要您提供号码机主的信息的，如果您无法提供，',\n  '【客户】那我们提供机主号码信息不还是我自己自己在网上点开的吗，那你不是怎么要求，',\n  '【坐席】什么不认可的话，我可以把您问题给您反馈，后期会有我们工作人员联系您，',\n  '【客户】我，我现在用号码打给你的，又不是假的，一直都用，原来我在网上登记，为什么就登记就不要身份证了就就可以，你可以给我下载，那我现在下掉了你就要我用身份证，那不是不不平整吗，不扯淡吗，',\n  '【坐席】那我给您反馈一下问题，会有工作人员联系您的，',\n  '【客户】那你反馈一下吧，',\n  '【坐席】联系您来电的手机号对吗，',\n  '【客户】是，不是*吗，',\n  '【坐席】行，那您看问题吗，问题我能帮您吗，',\n  '【客户】，你就帮我处理掉我就不要了',\n  '【坐席】我给您反馈问题了，会有工作人员联系您的，',\n  '【客户】营业厅，到发信息告诉我是怎么了，',\n  '【坐席】会有工作人员打电话联系您，',\n  '【客户】好好好',\n  '【坐席】问题吗，',\n  '【客户】没有，您先把这两个取消掉，',\n  '【坐席】，感谢来电，请您稍后按两个一，谢谢，',\n  '【客户】那我就等着你，它是我挂掉，',\n  '【坐席】会有工作人员联系您的，您注意接听电话就可以了，',\n  '【客户】那我就现在挂掉了，',\n  '【坐席】对，那您看问题吗，',\n  '【客户】行行行好，谢谢',\n  '【坐席】不客气，问题吗，',\n  '【客户】没有其他问题没有，',\n  '【坐席】，那感谢来电，请您稍后按两个一，谢谢，',\n  '【客户】好的好的那就这样是吧',\n  '【坐席】对'],\n ['【客户】你帮我查一下，我有业务是返返钱的业务，一放有的1月份的时候给我返了个九十九十九，月好像还能返28，你帮我看一下，',\n  '【坐席】，帮您看一下，',\n  '【客户】，我2月份答电话，但是我忘了好像他让我1月份的时候答电话，',\n  '【坐席】，我帮您看一下，需要您1月份答电话来操作什么吗，',\n  '【客户】他他总共是120块钱返了99，现在好像还有20块钱没返，他说得分两个月返，返了99的，还差20，好像是21的，',\n  '【坐席】这边系统有点卡顿，您',\n  '【客户】，对，*个九号，',\n  '【坐席】您，我正在帮您查看，是之前有120块钱的违约金是吧',\n  '【客户】对对对，就返还，',\n  '【坐席】，一下好吗我这边的话得给您反馈上去，',\n  '【客户】，不着急，你帮我看是不是有，是不是有业务，',\n  '【坐席】，有业务，',\n  '【客户】，不着急，你给我弄一下，',\n  '【坐席】之前的话是给您返了90，客服代表告知给您说的话，是让您月再来电话是吧，',\n  '【客户】对对对对对，',\n  '【坐席】可以的，我把您问题给您反馈一下，稍后会有后台人员给您处理问题的好吗，',\n  '【客户】好的好的，谢谢',\n  '【坐席】问题，我能帮到您吗',\n  '【客户】没有了，谢谢',\n  '【坐席】，好的，感谢您的来电，请稍后帮我按两个一，谢谢，再见']]"
     },
     "execution_count": 28,
     "metadata": {},
     "output_type": "execute_result"
    }
   ],
   "source": [
    "all_conts[:5]"
   ]
  },
  {
   "cell_type": "code",
   "execution_count": 29,
   "metadata": {},
   "outputs": [],
   "source": [
    "def delete_short(x):\n",
    "    return len(x) > 6\n",
    "\n",
    "for i in range(len(all_conts)):\n",
    "    dialogue = all_conts[i]\n",
    "    part_sent = \"\"\n",
    "    for part in dialogue:\n",
    "        sent = part[4:]\n",
    "        sent = sent.replace('。','，')\n",
    "        sent = sent.replace('？','，')\n",
    "        sents = sent.split('，')\n",
    "        sents = filter(delete_short, sents)\n",
    "        join_sen = \"，\".join(sents)\n",
    "        if join_sen != '':\n",
    "            part_sent += part[:4] + join_sen\n",
    "    all_conts[i] = part_sent"
   ]
  },
  {
   "cell_type": "code",
   "execution_count": 30,
   "metadata": {},
   "outputs": [
    {
     "data": {
      "text/plain": "['【客户】我刚收到咱们话费通知的短信了，我看了一下说我上个月消费了二十一块多吧，有五元是我的包月费，剩下有16块多的其他的消费，我没有进行过任何的，我想查查什么费用【坐席】国内通话费0.15元，到达电话打了一分钟流量的话，应该是超出了一部分，用了15块9毛3的流量费【客户】我肯定没有用流量，因为我是退休在家，我家里有WIFI，一星之前我刚激活，根本连买菜都不用，流量是怎么出来的钱，你们这肯定有积分问题【坐席】用了五十五十九兆流量，扣了19块15块9毛7的费用【客户】59兆流量六块钱【坐席】电话那您对流量超出不认可的话可以给您进行上报反馈，后期会有专人给您回电处理【客户】他最后给我回电，我要求这返返费，因为我肯定没消费，比如说电话电话有过吗，你使过我电话吗，电话我也没打过，我家里人也没用，我们每个人都有手续【坐席】现在这边无法给您进行核实，只能看到您使用的超出您是没有使用的话，我这边给您记录上报，后期会有专人给您【客户】你给我上报余额，反正就这15块几吧，我肯定没花点钱，但是我绝对没用过，因为我就没出过门激活【坐席】那我这边给您记录上报，后期会有专人给您回复【客户】他什么时候联系我，还是直接就给我发短信',\n '【客户】先说一下不太好意思，因为今天不是我，不是你们扣费的问题吗，今天今天应该给我反馈回来了，我当时没有就没有借助你这这卡，我可能出现出来【客户】你这今天是我做就做两次【坐席】您能联系到您之前反映过流量问题，但是之前事处理部门有处理方案咱们出于服务角度，可以给您适当的给您减一下11月和12月份的流量费用【坐席】那我再去给您登记报一下，让处理部门尽快联系您【客户】为什么得时间显示秒给我订的不是这这今天又有事，被不住你们的没错【坐席】可能您那忙没您这当时【客户】我去营业厅确认是，有没有确定申请停机，好像是我原先不好意思，我也不知道怎么联系你，只能这么怎么联系【坐席】我再给您报完再处理部门再回想一下【客户】你这这这这给人说【坐席】我去给您催一下【客户】你一点事一点对不对，感觉无人答我电话我都没我都我都没接到，这这有点说不过去了，你说我这刚买完，赶紧赶紧给我回【坐席】那我让处理部门再和您沟通事情好吧【坐席】那报一下那没关系【坐席】好好的感谢来电好再见',\n '【客户】我套餐到期了也没人通知我，我原来是138块6的，现在它我这刚发现了，现在是按198了【坐席】这边帮您查一下，是上月底到期的，就2月底到期的，到时候我们这边都会有短信提示的【坐席】如果您觉得套餐不合适，也可以变更一下其他档位的套餐【客户】但是你月你就按998收的【坐席】如果您是是兑现在本月产生的费用，不认可本月的套餐资费，那我这边尽快帮您反馈一下来电手机号，请问可以作的联系电话吗【客户】我现在在营业厅营业厅，它说按198收，原来一直用的都挺好的，你们应该发短信或者怎么通知我一下才对【客户】我有我不就变更了吗【坐席】您可以查一下是不是您没有收到，因为我们这边合约到期的话，都会有发送短信【客户】我所以才给你们打的电话【坐席】那我这边尽快帮您反馈一下【客户】反馈那我现在怎么办【坐席】现在的话本月那您现在是想要改套餐还是什么，因为资费问题和帐得需要由我们后台工作人员尽快给您回电，也不影响您改套餐也不影响您办理业务【客户】那如果我改套餐它现在按我什么收费【坐席】那改套餐本月改下月生效，所以说本月您还是用的198的套餐，您现在只是这不是也不认可【客户】这边我就不认可这198【坐席】所以说我这边尽快帮您反馈资费问题，但是如果您下月不想使用198，您可以直接在营业厅改，不影响我们这边给您核减咨询【客户】那是我月改还是下个月改【坐席】月改本月改新的套餐下月生效【坐席】请您电话保持畅通，我这边尽快帮您反馈一下',\n '【客户】我想问一下我话费现在欠了多少了【坐席】来电这号码欠费了多少钱是吗【客户】看他这是什么套餐【坐席】它是96块钱的套餐，里面包含了450分钟的通话，还有您办理的有5G升级包的，还有是其他的还有是30块钱500兆的业务【客户】你把500兆的他30块钱的话，49块业务帮我取消了，我不要706的套餐【坐席】就5G手机的话，就可以享受5G网速的，所以建议您保留现在业务【客户】那你就把30块钱的取消吗【坐席】您是因为什么原因不想用了【客户】其他的我收费几十块钱的流量费用【坐席】如果您不需要30块钱的流量包的话，这边可以给您取消，有修改过后的服务密码吗【客户】我号码我用了78年了，现在密码给我拿【坐席】姓名说一下机主名字【客户】我上次不是跟你说了吗，当时我这这78年，这67年之前买号码的时候，他不是有我名字说的是别人【坐席】需要您提供机主姓名，身份证的证件地址，我才能给您办理【客户】电话那我现在把我的，用身份证号报给你嘛【坐席】对您说一下号的机主姓名【客户】号的姓名不是我的名，上次它没给我改，我上次不是达10086【坐席】那如果您提供不了这些信息的话，我这边没有办法给您取消的【客户】下子我就我就不要了，我自动我连连连连连，这钱我都不返了，我看你们怎么我用了78年了【坐席】业务是需要您提供机主信息的【客户】那我在网上那那50G的花了49块钱的网上面记得我那用号码我能能那能登记，那为什么不能给我取消，你最好把我5G的取消【坐席】您取消业务的话，确实是需要您提供号码机主的信息的，如果您无法提供【客户】那我们提供机主号码信息不还是我自己自己在网上点开的吗，那你不是怎么要求【坐席】什么不认可的话，我可以把您问题给您反馈，后期会有我们工作人员联系您【客户】我现在用号码打给你的，原来我在网上登记，为什么就登记就不要身份证了就就可以，你可以给我下载，那我现在下掉了你就要我用身份证，那不是不不平整吗【坐席】那我给您反馈一下问题，会有工作人员联系您的【客户】那你反馈一下吧【坐席】联系您来电的手机号对吗【坐席】问题我能帮您吗【客户】你就帮我处理掉我就不要了【坐席】我给您反馈问题了，会有工作人员联系您的【客户】到发信息告诉我是怎么了【坐席】会有工作人员打电话联系您【客户】您先把这两个取消掉【坐席】请您稍后按两个一【坐席】会有工作人员联系您的，您注意接听电话就可以了【客户】那我就现在挂掉了【客户】没有其他问题没有【坐席】请您稍后按两个一【客户】好的好的那就这样是吧',\n '【客户】我有业务是返返钱的业务，一放有的1月份的时候给我返了个九十九十九，月好像还能返28【客户】我2月份答电话，但是我忘了好像他让我1月份的时候答电话【坐席】需要您1月份答电话来操作什么吗【客户】他他总共是120块钱返了99，现在好像还有20块钱没返，他说得分两个月返【坐席】这边系统有点卡顿【坐席】我正在帮您查看，是之前有120块钱的违约金是吧【坐席】一下好吗我这边的话得给您反馈上去【客户】你帮我看是不是有【坐席】之前的话是给您返了90，客服代表告知给您说的话，是让您月再来电话是吧【坐席】我把您问题给您反馈一下，稍后会有后台人员给您处理问题的好吗【坐席】请稍后帮我按两个一',\n '【客户】我们楼信号特别差【坐席】是上不去网还是打不了电话那麻烦您说一下，您现在所在信号不好的地址【客户】对我家里信号特别差【坐席】它这边的话是直接打不了电话吗【客户】就达不了这得站的窗窗户那达去窗户那儿信号也不强【坐席】我看一下您这边有没有信号问题【客户】经常要往里面打电话都接不通【坐席】它这边的话是才出现的吗【坐席】这边的话帮您看了一下，目前您所在的15号楼的话，并没有看到有基站故障，要不然您看这样行吗，我帮您反映一下您问题，让后台核实之后的话给您回复【坐席】留您来电号码就行【坐席】那您电话保持畅通，我这边的话帮您登记了',\n '【客户】我手机的流量封顶了嘛【坐席】我会帮您反映修改后的服务密码吗【坐席】我给您转到语音台，我这边帮您把注一下好吧',\n '【客户】请帮我查一下我的话费和流量我流量上个月流转五个G怎么现在我怎么流量不够了另外那电话给我欠费了【坐席】结转流量的话有两个G的话是我看您套餐内专享免流免费流量还有三个G这些五个G都用光了套餐里三个G也都用光了还有四个四个G也用光了两个G也用光了都用光了所以才超了流量不够用我给您个推荐个套餐吧二十九块钱十个G流量【客户】它不是现在我已经欠费了那我提醒我欠费了怎么了【坐席】因为流量没有了【客户】流量流流量没有你流量没有及时提醒我另外我本身有结转流量我才使的我的结转流量哪去了【坐席】都用完了五个G【客户】五个G他也没提醒我是用用的结转流量我怎么能知道我的流量有和没有【坐席】在剩余多少的时候它会提示您的【客户】没有我这这是问题另外来讲这我是老用户了出现这问题给我造成损失有没有投诉我要用我得投诉一下【坐席】好您一下我给您反馈丢的人太多丢人多了信息就容易被暴露【坐席】不好意思让您久等了我跟我领导申请了一下针对您月超流量没有提示看能不能给您做减免给您退费超出了流流量费的话四十块二毛三这边就给您申请减免了退费的方案您看您是否同意【客户】同意因为啥我想跟不行我还剩下流量因为你事情造成损失不应该我们在外地有时候都不及时接收对不对电话我不行把给我减免了这两个都给我修【坐席】明白三到五个工作日到账退着不能开发票这笔钱开不出来发票【客户】是那我钱我现在手机停机怎么办【坐席】您一下我先给您先先把退费的情况给您报上去别着急【坐席】不好意思让您久等了事情的话我已经给您报到后台了已经给您申请退费了费用很快就会到账到时候您关注三到五个工作日吧手机号给您做了开机您过五分钟之后重启一下手机就可以了给您临时开了二十四小时【客户】那要是临时开了二十四小时是什么意思那我还得把欠费交什么意思欠费我得交上去【坐席】如果说您方便时【客户】我是超流量了我是包月的【客户】交完了之后他给我退回来【坐席】四十块钱的月租那能直接免了我就不用给您填单子了退费的话它是由审核的不是谁想给您退费就能退的我得重报报完了之后领导同意了我才能给您派单子【客户】拜拜那我现在一点流量没有了一点流量没有了怎么办因为什么订了什么流量包【坐席】便宜点的二十九块钱十个G的【客户】那你给我订吧五【坐席】先充值吧充完值再订【客户】我得充多少我是我是我得充多少【坐席】好的那您一下二十九块钱十个G现在欠费三十四块三毛四加上二十九怎么也得交七十或六十五【客户】给我退回来是不是【坐席】退费的话退四十我只能退您超出的流量费【客户】好的好的好的那我现在充值六十五我开机可以正常使用了是不是【坐席】对我先给您申请流量包吧省的到时候对您说一下机主名字【客户】政府的吧幸福和平的和【坐席】好给您转语音您输入身份证号验证通过没问题身份证地址您大概说一下【客户】黑龙江省哈尔滨市【坐席】大城区好我给您办个二十九块钱十个G立即生效的吗【客户】对对对立即生效一点流量没有了【坐席】好给您办理成功了您记得下月的话如果不想用月底之前必须要取消不然还会连着扣的【坐席】是的月底来电取消已经给您申请成功了咱们再交费吧对不对【客户】重新充值试了好了好了【坐席】好的稍后以短信收到为准在使用及时关注上网功能好祝您愉快再见',\n '【客户】刚才我找寻他买的时候发现我这提示音您注意长，能帮我查一下什么原因吗【坐席】这给您查不出来的【客户】那达我也不知道咋回事，我要到他们漫游地区出差，那么我出差的话找他码，现在它这马我现在返不了，提示说应用异常【坐席】系统异常的还是您那行程异常【坐席】我这给您反馈一下【客户】我我这截图现在是一千兆这样的，可不可以应用服务异常【客户】对我们也不知道什么原因我现在身份证号码就正常的，我头两天还早着吗【坐席】我建议您稍后再试看看是不是系统升级什么的【客户】重置大数据学生卡【坐席】我知道身份证行，应用一直常是吗【客户】对应用服务异常【坐席】应用服务异常大数据形成卡，让后台人员给您查一下原因，您看可以吗联系电话，留来电的号行吗【坐席】那您这保持电话畅通，咱们后台人员会尽快给您回复的【客户】好谢谢非常感谢',\n '【客户】我要我这手机号是冰激凌套餐，怎么我网就几乎上不上什么情况【坐席】您是说手机现在上不了网是吗【坐席】您现在流量已经达到限速了【客户】它为什么现在收我是是常年免流量的【坐席】不是您的流量是免费的，我看到月的话已经达到江苏了，现在您达到100G了，就上网速度会变慢，但是网络还是能用的流量能用【客户】我这为什么限速【坐席】您套餐是40G之后降速，超过100G之后会有二次赠送【客户】我是他那时候长免免流量，我这是濒临套餐吗它不应该，我那时候办的时候说随时全国全国属于使用，你知道吧他为什么你们发不出去了【坐席】明白是每个月40G之后限速降到每秒是三兆的网速，达到100G之后，再降的话网速要慢一些【客户】他那时候也没说这情况，就说免免免费的吗【坐席】套餐一直是这样的【客户】他们我办的时候没跟我这么说，我这流量是200套餐，常年常年用那啥的没给我说的江苏【客户】一直是那样的不能够说一直不可能，你投诉电话投诉你联通公司的投诉电话是哪个【坐席】我这边也可以帮您记录问题，但是确实是一样的【客户】我那办的时候就说一一百九有套餐，我是随时都没给我说下，降低流量不可能没说的话绝对没错，说的话我可能用【坐席】现在是达到限速了，我如果您觉得网速慢的话，我可以通过后台方面给您尝试做个刷新，那您等到下月一号，明天就恢复了套餐【客户】下个月一号才能恢复【坐席】对今天是最后一天嘛，到明天的话就恢复了，您现在是流量达到100G了，所以网速要慢一些，如果您要想提升网速，目前咱们可以办加油包流量包的话有15块钱【客户】我这我现在已经交200块钱的流量了，你现在就就每个月交200块钱了，我再给您加不加多少钱，不可能我那时候一开始办的时候就199套餐，我都用好几年了，一直都没没没见过速度，为什么现在降速，我这一年都没有没见过，数着第一次降速，我以为这是什么什么出什么故障【坐席】套餐的资费的话，您通过手机的APP里边点个人信息，我的套餐里面就能查到您资费上面会有写的，达到多少G江苏都会写的【客户】他也没我就没那啥，你说你哪个号是投诉电话，投诉联通公司电话【坐席】我可以去上报这问题【客户】关键是你这上报不管用【坐席】我这边是上报渠道，通过我这边去投诉，我可以帮您记录，那您等这边电话就行，但我还跟您说一下资费【客户】我这办的我办套餐的时候可是没跟我这么说，我这这好几年了，从来没欠过流量，我这手机号你一查就查出来了【坐席】那您的问题我就给您做过上报吧，咱们这边有专人去处理，您等这边回复就可以了【客户】我等会我还得查查你那没有投诉电话是吗，直接投诉他直接帮我投诉了【客户】你10010投诉不管用【坐席】我那我这边就先去上报一下吧，那我就先给您登记了，那您先转接别人电话']"
     },
     "execution_count": 30,
     "metadata": {},
     "output_type": "execute_result"
    }
   ],
   "source": [
    "all_conts[:10]"
   ]
  },
  {
   "cell_type": "code",
   "execution_count": 31,
   "metadata": {},
   "outputs": [
    {
     "name": "stdout",
     "output_type": "stream",
     "text": [
      "819.8927717246878\n"
     ]
    }
   ],
   "source": [
    "data['content'] = all_conts\n",
    "\n",
    "content_np = np.array(data['content'].astype(str).str.len())\n",
    "content_np.shape\n",
    "content_np = np.sort(content_np)\n",
    "print(content_np.mean()) # 均值减少了快100多"
   ]
  },
  {
   "cell_type": "markdown",
   "metadata": {},
   "source": [
    "### 3. 替换词组"
   ]
  },
  {
   "cell_type": "code",
   "execution_count": 32,
   "metadata": {},
   "outputs": [
    {
     "data": {
      "text/plain": "175    客:我这流量扣的是不是不对，我从昨天到现在都没咋用手机怎么又扣了六个G坐:现在流量没有使用过...\n176    客:您帮我查一下我那号码欠费欠的什么费用坐:来电手机号的话目前83块5毛5，费用它话您可以正...\n177    客:请帮我查一下我最近两个月的消费情况和，是1月份和12月份的坐:您是12月份的话，除了19...\n178    客:我流量月是不是用完了坐:您月还有60个G客:月还有60个G我的网速那么慢呐卡坐:您把手机...\n179    客:帮我看一下我这手机为什么经常接不到电话客:有的电话能接到，有的电话就接不到，但是我并没有...\n180    客:能看到我有多少积分吗，我看我的积分咋没了坐:应该是之前在您身份证名下有欠费的消耗的情况客...\n181    客:我手机电话好长时间没用了，昨天下午刚用了，怎么今天就给我停机了客:这好长时间没用，昨天下...\n182    客:我这现在新城马查不出来坐:验证码查不到是吗，今天一天都查不到吗客:弄一天了也没查出来坐:...\n183    客:你帮我看一下我套餐都有什么套餐坐:您这边帮您看一下，是月租57的沃派校园套餐，包含200...\n184    客:是不是月就到期可以更改套餐了坐:我帮您查一下目前我这帮您看了一下您手机号靓号低消活动的话...\nName: content, dtype: object"
     },
     "execution_count": 32,
     "metadata": {},
     "output_type": "execute_result"
    }
   ],
   "source": [
    "# 词组替换\n",
    "replace_dict = {\n",
    "    \"【坐席】\":\"坐:\",\n",
    "    \"【客户】\":\"客:\"\n",
    "}\n",
    "aa = data['content']\n",
    "for i,j in replace_dict.items():\n",
    "    aa = aa.str.replace(i,j)\n",
    "aa[175:185]"
   ]
  },
  {
   "cell_type": "code",
   "execution_count": 33,
   "metadata": {},
   "outputs": [
    {
     "name": "stdout",
     "output_type": "stream",
     "text": [
      "770.9799362211002\n"
     ]
    }
   ],
   "source": [
    "content_np = np.array(aa.astype(str).str.len())\n",
    "content_np.shape\n",
    "content_np = np.sort(content_np)\n",
    "print(content_np.mean()) # 均值减少了快100多"
   ]
  },
  {
   "cell_type": "code",
   "execution_count": 34,
   "metadata": {},
   "outputs": [],
   "source": [
    "data['content'] = aa"
   ]
  },
  {
   "cell_type": "code",
   "execution_count": 35,
   "metadata": {},
   "outputs": [
    {
     "data": {
      "text/plain": "      id                                            content\n0  25001  客:我刚收到咱们话费通知的短信了，我看了一下说我上个月消费了二十一块多吧，有五元是我的包月费...\n1  25002  客:先说一下不太好意思，因为今天不是我，不是你们扣费的问题吗，今天今天应该给我反馈回来了，我...\n2  25003  客:我套餐到期了也没人通知我，我原来是138块6的，现在它我这刚发现了，现在是按198了坐:...\n3  25004  客:我想问一下我话费现在欠了多少了坐:来电这号码欠费了多少钱是吗客:看他这是什么套餐坐:它是...\n4  25005  客:我有业务是返返钱的业务，一放有的1月份的时候给我返了个九十九十九，月好像还能返28客:我...\n5  25006  客:我们楼信号特别差坐:是上不去网还是打不了电话那麻烦您说一下，您现在所在信号不好的地址客:...\n6  25007  客:我手机的流量封顶了嘛坐:我会帮您反映修改后的服务密码吗坐:我给您转到语音台，我这边帮您把...\n7  25008  客:请帮我查一下我的话费和流量我流量上个月流转五个G怎么现在我怎么流量不够了另外那电话给我欠...\n8  25009  客:刚才我找寻他买的时候发现我这提示音您注意长，能帮我查一下什么原因吗坐:这给您查不出来的客...\n9  25010  客:我要我这手机号是冰激凌套餐，怎么我网就几乎上不上什么情况坐:您是说手机现在上不了网是吗坐...",
      "text/html": "<div>\n<style scoped>\n    .dataframe tbody tr th:only-of-type {\n        vertical-align: middle;\n    }\n\n    .dataframe tbody tr th {\n        vertical-align: top;\n    }\n\n    .dataframe thead th {\n        text-align: right;\n    }\n</style>\n<table border=\"1\" class=\"dataframe\">\n  <thead>\n    <tr style=\"text-align: right;\">\n      <th></th>\n      <th>id</th>\n      <th>content</th>\n    </tr>\n  </thead>\n  <tbody>\n    <tr>\n      <th>0</th>\n      <td>25001</td>\n      <td>客:我刚收到咱们话费通知的短信了，我看了一下说我上个月消费了二十一块多吧，有五元是我的包月费...</td>\n    </tr>\n    <tr>\n      <th>1</th>\n      <td>25002</td>\n      <td>客:先说一下不太好意思，因为今天不是我，不是你们扣费的问题吗，今天今天应该给我反馈回来了，我...</td>\n    </tr>\n    <tr>\n      <th>2</th>\n      <td>25003</td>\n      <td>客:我套餐到期了也没人通知我，我原来是138块6的，现在它我这刚发现了，现在是按198了坐:...</td>\n    </tr>\n    <tr>\n      <th>3</th>\n      <td>25004</td>\n      <td>客:我想问一下我话费现在欠了多少了坐:来电这号码欠费了多少钱是吗客:看他这是什么套餐坐:它是...</td>\n    </tr>\n    <tr>\n      <th>4</th>\n      <td>25005</td>\n      <td>客:我有业务是返返钱的业务，一放有的1月份的时候给我返了个九十九十九，月好像还能返28客:我...</td>\n    </tr>\n    <tr>\n      <th>5</th>\n      <td>25006</td>\n      <td>客:我们楼信号特别差坐:是上不去网还是打不了电话那麻烦您说一下，您现在所在信号不好的地址客:...</td>\n    </tr>\n    <tr>\n      <th>6</th>\n      <td>25007</td>\n      <td>客:我手机的流量封顶了嘛坐:我会帮您反映修改后的服务密码吗坐:我给您转到语音台，我这边帮您把...</td>\n    </tr>\n    <tr>\n      <th>7</th>\n      <td>25008</td>\n      <td>客:请帮我查一下我的话费和流量我流量上个月流转五个G怎么现在我怎么流量不够了另外那电话给我欠...</td>\n    </tr>\n    <tr>\n      <th>8</th>\n      <td>25009</td>\n      <td>客:刚才我找寻他买的时候发现我这提示音您注意长，能帮我查一下什么原因吗坐:这给您查不出来的客...</td>\n    </tr>\n    <tr>\n      <th>9</th>\n      <td>25010</td>\n      <td>客:我要我这手机号是冰激凌套餐，怎么我网就几乎上不上什么情况坐:您是说手机现在上不了网是吗坐...</td>\n    </tr>\n  </tbody>\n</table>\n</div>"
     },
     "execution_count": 35,
     "metadata": {},
     "output_type": "execute_result"
    }
   ],
   "source": [
    "data.head(10)"
   ]
  },
  {
   "cell_type": "code",
   "execution_count": 36,
   "metadata": {},
   "outputs": [
    {
     "name": "stdout",
     "output_type": "stream",
     "text": [
      "客:麻烦你帮我看一下我为什么短信到*以后别原来原来没事，现在怎么老是有一些问题，打了以后别人给我达达到没有任何反应坐:别人给您打了电话之后没有任何反应客:最近老出现这种问题坐:就您这里面联通秘书是吗，我帮您查一下您这边的话之前拨进去，说直接办理了之后的话，它会给您提示您现在的话别人给您打电话，现在是什么提示，显示直接显示无法接通还是什么客:不是连无法接通都不提示了，就直接就干脆就就一点动静都没有坐:直接一点声音都没有坐:是从近期近期开始的吗客:从从从昨天昨天开始的吧坐:那您这边现在显示功能还是有开通的状态，我帮您反馈一下吧让后台具体帮您核实一下坐:联系电话留您来电的可以吗坐:您保持电话畅通，我帮您反馈一下问题还有的吗坐:稍后请帮忙按两个一\n",
      "客:是你们以前卖过给其他用户，之前用户叫朱威，我现在是不停的收到保险公司的营销电话，我就想问一下你们，这是你们能解决吗客:我达达到保险公司，他们公司说对不起，这号码都不是我们公司打的，其实都都是他们公司的，他们就说不是实名制的回头说，他们也管不了所以说像保险公司也关不了，你们管不了这事坐:是无线公司给您答电话吗客:只要是我的我我号的所有的来电，除了你们联通自己公司答给我的以外，保险公司给我答复，我这号都不敢告诉别人，从我买回来到现在我基本上就没打过几个电话，除了答你们客服电话以外，现在已经都都一年了，都都都都应该有一年了吧，我你看我这电话号码答过几个电话出去，我现在都都受不了了，你们能不能把事解决吗要不然的话你们麻烦卖过的号就别拿出来再卖了行吗坐:那像您说的之前别的用户他留的信息坐:那给您没法给您处理，宽带是在其他地方客:让你们把把钱退给我行吗坐:联通公司这边的这些业务的话，我可以帮您反馈，您说办公司给您答电话，确实没法给您处理客:那你重新分分配三连号给我吧，把我的余额全部转过去坐:我因为事情我帮您坐:我帮您把要求给您反馈，会有这边经理给您联系，这就已经这边电话客:你什么什么时候我坐:48小时内给您回电坐:那感谢您的来电，请稍后按一谢谢\n",
      "客:我周日去营业厅办了续费的手续，之前的套餐是到本月底结束，就升级办理成5G的5G的套餐，当天晚上发下午5点多钟发一短信，报告诉我已经办理成功了，但是晚上回去之后，我们家的IPTV看不了了我就晚上达电闸电器歌了，这客服说第二天后后面的服务人员跟我联系，后来客服线路维修的工人跟我联系了，因为之前我办理业务的时候停机了客:我办的时候没有要求停机，他说必须得本人去营业厅再去办理一下，那上班我没时间，后来我就用咱们的APP，我把情况说了一下投诉结果，是昨天还是前天VIPT也没理我我是收一短信告诉我说，收到了我的投诉，联系多方联系联系不上我，我怎么可能短信我也畅通的，电话也是畅通的，我又上登录APP，现在你们有是关于投诉反馈的，怎么点击达不开，怎么点击打不开，但同样的页面我打接，比如说我的套餐或者说别人都能查得到，那为什么就查不到，这我特别生气的地方，我今天一大早又去了营业厅，工作人员态度挺好，但告诉我说什么，当时可能是办业务的工作人员跟我沟通，他就说我需不需要用3568新的付费频道，我说不用他可能已经以为是我不用业务了，所以就给我停了，我平时确实不怎么看，不代表我不用了，如果你要取消业务，是不是应该跟我说清楚，可能是沟通有问题，但是至少现在是因为你们工作失误导致了我现在用不了，那么这两天因为孩子要看诗词大会，我才想起来说要看，那么正是这两天需要看，他告诉我恢复不了，只能是下月月初才能正式恢复，那么我就要退出问题了，那么不能说因为你的工作失误导致我逼的我没到期，我月底我2月28号才到期，我的服务正常应有应该有的，你也不能给我停机，今天停机是不应该明确的告知我是不是，所以现在问题我，那既然是你们工作失误，你不能让我承担，这至少这八九天的，不能收看IPTV的损失对不对坐:对这样吧您的意思说您之前去营业厅办理，当时您跟营业厅的人员说的是不需要观看，三刚才说的频道，但是没有说对3568没有说一直不观看，只是不是经常性的关卡是吧，它的失误误以一直不观看给您停了是吗坐:我是给您反馈一下可以吗客:那既然是你能够能够当天给我停了，那我希望即即便我当天你恢复不了，你今天能帮我恢复，我至少我就按照过去的续约，我到2月28号，不管我是不是新的续约，我到28号才终止你的服务坐:您IPTV的3568得到是吗客:不是3568恢复IPTV的正常，除了3568的，其他的频道正常恢复就可以坐:您现在是其他的频道都看不了了客:现在我一开机告诉我，没有号码使用权客:还还有你们的APP，既然你要是中国联通的APP是正常使用的，那你各各种的服务是不是得跟上你不能说，我投诉你没有反馈说联系不上，我问你没联系我对不对，就告诉我联系不上，也没有我的反馈查询，我登录它干什么坐:手机营业厅APP客:投诉的反馈回复我客:如果问题还解决不了，那我只能找你们总公司好不好坐:我这边的话都会给您反馈的，那稍后帮我按两个一\n",
      "客:我有个问题想咨询一下，是我手机现在每个月月租多少钱坐:给您查询这号码还跟宽带绑定的客:每个月扣166是吧，它不是有个中国联通的客户端嘛客:我用上面用了不少积分，现在手环好像有点质量问题客:不不知道什么原因，反正我1月4号刚兑换的，现在就开不了机了，充电也没有反应坐:您是在手机营业厅里面，现在是用不了了，反正您要用不了，这问题我可以给您反馈一下，让后台人员核实之后跟您联系坐:我给您反馈一下，您省外什么时候兑换的，积分就您来电号码上面号码里面积分是吧坐:那问题的话已经给您反馈了，联系电话什么的，您来电号码可以吗坐:行那我这边已经给您反馈了，后续您关注一下好吧，会有人会尽快跟您联系的坐:您看还有什么能帮您的客:比如说是每个月扣166是吧坐:您宽带的话到1月1月底到期，要不到3月底到期客:如果我要续的话，是需要到营业厅去办理吗坐:您来电话我们这边就可以给您办客:它是好像是不是还有什么还要需要存钱坐:您现在办的是那种零预存的，现在月不是166嘛，到期之后是按照199来收，如果说您要续费人工，还是原资费就跟您现在一样也是需要，不需要您额外交钱，就您到时候每个月往里面存存166就行，您要是没有余额的话，就从您余额里面扣到什么时候不够，您再单独交就可以了客:续费的话只就直接从手机里面扣费就可以是吧坐:对那您看有什么能帮您的坐:请您稍后按两个一\n",
      "客:我电话老是别人打得进电话没有坐:是在所有地方您都接不到电话吗，还是在固定的地方客:这我来了回家之后坐:只有回家之后接听不到，还是在所有地方客:之前能接到的是它在山东能接到，我后来回到老家，回河北之后接不到了坐:我这边重启一下您手机试一下客:格式了还是不行坐:这边的话可以先帮您反映一下您问题，到时候先让后台核实之后给您回复客:我电话老是漏接了，那我做电话我都漏接了坐:但是您这边不让我反映您的问题，咱们这边也解决不了我会将您的问题先记录下来了，稍后会有人员给您回复的客:我电话老是接不起来坐:这边会帮您催的，联系电话您留其他号码吧，别到时候联系不上您坐:1766738客:134对0434坐:那我这边的话帮您登记了，麻烦您注意接听电话，核实之后咱们会尽快联系到您的\n",
      "客:有一某某人副卡是丢了，我这边能注销吗坐:号码您修的话可以进行挂失，挂失之后可以再去营业厅补卡的客:我现在也不打算用了，所以我现在就想去注销，说我这某某人卡下面是有一某某人副卡，原来在另外手机上，我现在也不想登，因为我觉得没有必要，我想把那某某人卡注销坐:那您应该需要去营业厅办理，那您这是亲情卡吗，它是有有亲情关系需要解除的，只能去营业厅办客:对对对就亲情卡吗，我确实用不着了，那我也没有时间去营业厅，您这边能给我处理吧坐:线上的话目前确实办理不了，只能去营业厅办理，就本人可以带身份证原件去联通，自有营业厅就可以客:因为我确实也找不到自由营业厅，您这边人给我处理就给我处理一下，因为我现在因为我这边也是说比较麻烦，现在北京事情很多坐:那您我也只能帮您去记录反映一下，之后的话会有工作人员再联系您的客:那大概什么时候会联系我坐:是24小时之内客:那您就帮我处理一下事情，因为我确实没有时间去营业厅，但是那某某人卡确实是丢了，我现在是也怕别人乱用，所以我就想直接给注销掉坐:那就联系您本机来电号码可以吗就客:联系我号码就行坐:那您保持电话畅通\n",
      "客:你帮我查一下我钱是怎么给我扣的坐:您现在的手机号码的费用是吗，这边给您看了一下，除了基本套餐费是99元之外，里边还订了两个流量包，20个等于是订了5G升级包49块钱的，还订了大流量包，等于赠订了两个客:订两个怎么给我扣坐:现在还欠了2块7毛7，您是什么时候充值的客:为什么还给我扣没了，我套餐都没抄出来坐:您是在1月1月7号的时候交过200坐:那里面等于那不够客:有20G的流量包，我是从微信上充的坐:是每个月都会扣的坐:您一共的费用是客:这边还有不是不对，我一开始是加了流量包，20G的是我套餐是99，一共是140多块钱，我自己从微信上我又加了，那我都花了钱了合着我这充的话费不车关系坐:那我这边给您看了一下，您除了基本套餐费，里边还有两个流量包，另外的话您流量月1月份的流量是超了60，目前产生的费用，一共是208了客:什么时某某人了60块钱坐:月1月份那目前1月份的话基本套餐费99，再加49元的流量包坐:1月份抄的我给您看一下客:我知道1月份1月份哪哪个地方超了我好多，我好多东西都免流量了坐:是11个G多了坐:套餐内的流量都用完了，您只要在用就都是超出流量客:不是我一共我一共我60个G才能有坐:那您后来定了49块钱，20个G是2月1号才生效的客:我用完你告诉我坐:40个G都已经使用完了坐:这边给您看了一下，主要看视频消耗的等于是群坐:对看视频或者是优酷对优酷视频客:优酷我等于是免流量，怎么会怎么会给我扣流量坐:等于免流量不免，加上您套餐内的流量客:我自己开的有包坐:我是查的是手机号客:但我看东西那用的流量不是不牵扯手机坐:但是现在现在是在手，我这给您查的号码的流量，您号码主要看等于消耗的流量比较多客:那你给我转投诉坐:那这边也可以给您记录一下投诉到时候会有专门工作人员给您回复坐:可以直接记录的\n",
      "坐:您说来电这号码登陆不上手机营业厅吗，那您有没有换个其他时间段再试一下，我看您这号码的话是正常的客:我知道号码是正常的，我用密码登陆告诉我说服务器繁忙，请让我向你们反馈问题坐:那您的服务密码是不是输入客:没有短信验证码登陆告诉我是系统繁忙坐:或者是您可以在其他的，朋友或者家人的手机上登录一下手机里面试一下客:你这是个什么什么办法，你们APP有问题坐:手机电视没有问题的是可以正常的就登录的，或者是您换个其他时间段再试一下客:我说的是你们的APP有问题坐:您有没有换个其他，现在再试一下登陆坐:换个其他时间段坐:就您是想办理什么业务客:我想问的是手机APP有问题坐:就如果您要办理变更套餐什么的话，我们这边可以给您办理的，您登录不了数据，那我这边也可以把您问题给您反馈一下，也会有工作人员联系您坐:您来电的手机号码对吗\n",
      "客:我问一下我为什么会有承诺通信费坐:这边看到显示是在11月30，20年11月3号的时候办理的承诺，每个月消费80元的16个G的流量和权益这边的话没有办理过吗客:如果我到了80元会给权益，但是说没有说这是最低消费，就每个月强制扣的80，这是没有共享的客:它只是说你到80块钱坐:感谢您的耐心等待抱歉让您久等了，这边看到这边显示有外呼的记录，关于您情况的话，我这边的话帮您上报反映一下吧，到时候让后台工作人核实情况跟您联系客:您是说就说你再根据以前的记录坐:给您上报进行反映一下，核实一下具体情况，到时候让后台工作人员核实情况跟您联系坐:因为我看了一下，如果这边要取消的话，它这边会产生违约金，因为当时我看是办了一年的合约产生会有违约金，对我这边先帮您上报反映吧，看看后台怎么给您进行处理费用问题客:那你们大概多少多多久会反馈的，因为我上班时间是比较忙的，对可能非常假期坐:一般情况下的话是48小时之内，会有工作人员跟您联系，我这边给您做一下加急坐:不客气您看联系电话，留您来电号码可以吗坐:那我这边马上给您进行反映，到时候让后台工作来核查就行，那您看我能帮您的吗客:有没有能推荐是活动的流量套餐吗坐:比较好用的流量套餐客:其实除了除了需要一点流量的话，因为我们公司会把手机是公众号坐:我给您看一下吧，您目前看到还是您现在套餐的话比较优惠，我看他答电话的话是按照一毛钱一分钟进行计费，还有40个G的腾讯定向流量，这边看的话还订购了50块钱40个G的超级会员的业务坐:现在相相当于加起来的话是80客:那我现在套餐先不换，你看看城通通讯费吗坐:行我这边给您反映，到时候让后台工作人员会尽快跟您联系，那您看我能帮您的吗坐:那感谢您的来电，麻烦您稍后帮我按两个一再见\n",
      "客:是这样我接到短信，去年年底的时候办了业务，每个月月初会给我赠送20块钱的，用于话费缴费我刚才在缴费的时候，我用咱们那沃钱包支付的方式没支付成功我就想换方式去支付，结果显示我那某某人20块钱的券被使用掉了，我想问一下这是为什么，我根本就没充值成功，怎么就使用掉了坐:那您是不是点点进去又退出来了客:点的就退出来它就支付，不成功我就只能换支付方式，那我不退出来我没有办法，那我就想换成支付宝支付结果就就显示坐:这充值充值那交了客:你们搞了什么业务吧，是是圣诞还是什么，说每个月连返几个月每个月都会返20块钱话费，您只需要充八十六二十块钱是用券抵这类活动坐:您是在哪看到活动是当时客:你们给我发的短信，让我交交多少钱坐:是充500返电子卷吗，是一次性给您六某某人，一某某人的话是充50返50客:不是充50返50，它是充一百返20客:活动名称你等会我看一下，双11话费充值活动坐:您是在哪看到活动，是我们这边直接给您发的短信是吗，可以什么代码发的客:那代码那东西我怎么懂坐:以什么号码发给您的坐:*给您发的是吗10016给您发的是吗客:对告诉我有这某某人，这让我去充值券坐:您是什么时候收到的短信客:您说哪个短信就行坐:0016的刚刚是吗坐:咱们这边您10016代码收到什么样的电子券客:等会这边显本经联通尊敬的用户，您本月有一某某人20元充值满减券，可用充值一百立减20，请点击链接激活使用，请忽略就这么内容，下午4:08发的坐:尊敬的用户好面是什么客:您本月还有一某某人20元充值满减券，可用充值一百立减20坐:您本月有一某某人，本月还有一某某人充一百返20的电子券费用是吧客:请点击链接激活使用，我一点链接直接就会唤起我的联通的APP坐:您之前充您充值的时候它是，因为账户里面没有钱客:我再给再给你描述一下我咋用的步骤，唤起了我的联通APP，比如说你充一百，实质是你只需要支付80我就点了点了之后，我点的是沃钱包的支付，我绑了一某某人工行卡，那某某人工行卡是准贷记卡，它不让它不支持这种卡走，我想用支付宝支付，但是这某某人券就没有了，我这不说的很清楚吗，你就把我问题还有该什么，那短信的内容我也都给你念了，我参加活动我也告诉你了，问题你如果解决不了的话就往上反馈，这某某人卡得还给我就这么个事坐:这边给您上报了，48小时给您回复，那您看还有什么能帮到您坐:稍后请您稍后按两个一\n"
     ]
    }
   ],
   "source": [
    "for sen in data['content'][30:40]:\n",
    "    print(sen)"
   ]
  },
  {
   "cell_type": "markdown",
   "metadata": {},
   "source": [
    "### 4. 满足1024限制"
   ]
  },
  {
   "cell_type": "code",
   "execution_count": 37,
   "metadata": {},
   "outputs": [],
   "source": [
    "aa = data['content']\n",
    "for i in range(len(aa)):\n",
    "    sen = aa[i]\n",
    "    if (len(sen)) > 1024:\n",
    "        aa[i] = sen[:511] + '<..>' + sen[-512:]"
   ]
  },
  {
   "cell_type": "code",
   "execution_count": 38,
   "metadata": {},
   "outputs": [],
   "source": [
    "data['content'] = aa"
   ]
  },
  {
   "cell_type": "code",
   "execution_count": 39,
   "outputs": [
    {
     "data": {
      "text/plain": "      id                                            content\n0  25001  客:我刚收到咱们话费通知的短信了，我看了一下说我上个月消费了二十一块多吧，有五元是我的包月费...\n1  25002  客:先说一下不太好意思，因为今天不是我，不是你们扣费的问题吗，今天今天应该给我反馈回来了，我...\n2  25003  客:我套餐到期了也没人通知我，我原来是138块6的，现在它我这刚发现了，现在是按198了坐:...\n3  25004  客:我想问一下我话费现在欠了多少了坐:来电这号码欠费了多少钱是吗客:看他这是什么套餐坐:它是...\n4  25005  客:我有业务是返返钱的业务，一放有的1月份的时候给我返了个九十九十九，月好像还能返28客:我...",
      "text/html": "<div>\n<style scoped>\n    .dataframe tbody tr th:only-of-type {\n        vertical-align: middle;\n    }\n\n    .dataframe tbody tr th {\n        vertical-align: top;\n    }\n\n    .dataframe thead th {\n        text-align: right;\n    }\n</style>\n<table border=\"1\" class=\"dataframe\">\n  <thead>\n    <tr style=\"text-align: right;\">\n      <th></th>\n      <th>id</th>\n      <th>content</th>\n    </tr>\n  </thead>\n  <tbody>\n    <tr>\n      <th>0</th>\n      <td>25001</td>\n      <td>客:我刚收到咱们话费通知的短信了，我看了一下说我上个月消费了二十一块多吧，有五元是我的包月费...</td>\n    </tr>\n    <tr>\n      <th>1</th>\n      <td>25002</td>\n      <td>客:先说一下不太好意思，因为今天不是我，不是你们扣费的问题吗，今天今天应该给我反馈回来了，我...</td>\n    </tr>\n    <tr>\n      <th>2</th>\n      <td>25003</td>\n      <td>客:我套餐到期了也没人通知我，我原来是138块6的，现在它我这刚发现了，现在是按198了坐:...</td>\n    </tr>\n    <tr>\n      <th>3</th>\n      <td>25004</td>\n      <td>客:我想问一下我话费现在欠了多少了坐:来电这号码欠费了多少钱是吗客:看他这是什么套餐坐:它是...</td>\n    </tr>\n    <tr>\n      <th>4</th>\n      <td>25005</td>\n      <td>客:我有业务是返返钱的业务，一放有的1月份的时候给我返了个九十九十九，月好像还能返28客:我...</td>\n    </tr>\n  </tbody>\n</table>\n</div>"
     },
     "execution_count": 39,
     "metadata": {},
     "output_type": "execute_result"
    }
   ],
   "source": [
    "data.head()"
   ],
   "metadata": {
    "collapsed": false
   }
  },
  {
   "cell_type": "code",
   "execution_count": 40,
   "outputs": [],
   "source": [
    "content_np = np.array(data['content'].astype(str).str.len())\n",
    "content_np.shape\n",
    "content_np = np.sort(content_np)"
   ],
   "metadata": {
    "collapsed": false
   }
  },
  {
   "cell_type": "code",
   "execution_count": 41,
   "outputs": [
    {
     "data": {
      "text/plain": "[<matplotlib.lines.Line2D at 0x23aca2b46d0>]"
     },
     "execution_count": 41,
     "metadata": {},
     "output_type": "execute_result"
    },
    {
     "data": {
      "text/plain": "<Figure size 640x480 with 1 Axes>",
      "image/png": "[encoded data removed]"
     },
     "metadata": {},
     "output_type": "display_data"
    }
   ],
   "source": [
    "plt.plot(content_np[0:25000])"
   ],
   "metadata": {
    "collapsed": false
   }
  },
  {
   "cell_type": "markdown",
   "metadata": {},
   "source": [
    "## 构造训练集和测试集"
   ]
  },
  {
   "cell_type": "code",
   "execution_count": 86,
   "metadata": {},
   "outputs": [],
   "source": [
    "# 构造训练集和测试集\n",
    "#通过文本切分的方式，按9：1 的方式来随机切分\n",
    "df=sklearn.utils.shuffle(data) #随机打乱\n",
    "train_data = df.sample(frac=0.9, random_state=0, axis=0)\n",
    "dev_data = df[~df.index.isin(train_data.index)]\n",
    "\n",
    "# #将训练数据写入到文件中\n",
    "train_data.to_csv('train_data.csv',  index=False,encoding='utf-8',sep ='|',header =['id','content','abstract'])\n",
    "# #将测试数据写入文件中\n",
    "dev_data.to_csv('dev_data.csv',  index=False,encoding='utf-8',sep ='|',header =['id','content','abstract'])"
   ]
  },
  {
   "cell_type": "code",
   "execution_count": 64,
   "outputs": [],
   "source": [
    "data.to_csv('data_test.csv',  index=False,encoding='utf-8',sep ='|',header =['id','content'])"
   ],
   "metadata": {
    "collapsed": false
   }
  },
  {
   "cell_type": "code",
   "execution_count": 87,
   "metadata": {},
   "outputs": [
    {
     "name": "stderr",
     "output_type": "stream",
     "text": [
      "D:\\Program\\Anaconda\\envs\\paddle\\lib\\site-packages\\_distutils_hack\\__init__.py:33: UserWarning: Setuptools is replacing distutils.\n",
      "  warnings.warn(\"Setuptools is replacing distutils.\")\n"
     ]
    },
    {
     "name": "stdout",
     "output_type": "stream",
     "text": [
      "22501\n",
      "2500\n"
     ]
    }
   ],
   "source": [
    "from paddlenlp.datasets import load_dataset\n",
    "\n",
    "def read(data_path):\n",
    "    with open(data_path, 'r', encoding='utf-8') as f:\n",
    "        # 跳过列名\n",
    "        next(f)\n",
    "        for line in f:\n",
    "            content, abstract = line.strip('\\t').split(\"|\")[1].strip(),line.strip('\\t').split(\"|\")[2].strip()\n",
    "            content = line.strip('\\t').split(\"|\")[1].strip()\n",
    "            abstract = line.strip('\\t').split(\"|\")[2].strip()\n",
    "            \n",
    "            yield {'content': content, 'abstract': abstract}\n",
    "\n",
    "# data_path为read()方法的参数\n",
    "train_dataset  = load_dataset(read, data_path='train_data.csv',lazy=False, split=\"train\")\n",
    "dev_dataset  = load_dataset(read, data_path='dev_data.csv',lazy=False, split=\"dev\")\n",
    "print(len(train_dataset))\n",
    "print(len(dev_dataset))"
   ]
  },
  {
   "cell_type": "code",
   "execution_count": 42,
   "metadata": {},
   "outputs": [
    {
     "name": "stderr",
     "output_type": "stream",
     "text": [
      "D:\\Program\\Anaconda\\envs\\paddle\\lib\\site-packages\\_distutils_hack\\__init__.py:33: UserWarning: Setuptools is replacing distutils.\n",
      "  warnings.warn(\"Setuptools is replacing distutils.\")\n",
      "\u001B[32m[2023-05-24 23:46:08,947] [    INFO]\u001B[0m - Already cached C:\\Users\\cyberloafing\\.paddlenlp\\models\\IDEA-CCNL/Randeng-Pegasus-523M-Summary-Chinese\\vocab.txt\u001B[0m\n",
      "\u001B[32m[2023-05-24 23:46:08,949] [    INFO]\u001B[0m - Already cached C:\\Users\\cyberloafing\\.paddlenlp\\models\\IDEA-CCNL/Randeng-Pegasus-523M-Summary-Chinese\\added_tokens.json\u001B[0m\n",
      "\u001B[32m[2023-05-24 23:46:08,950] [    INFO]\u001B[0m - Already cached C:\\Users\\cyberloafing\\.paddlenlp\\models\\IDEA-CCNL/Randeng-Pegasus-523M-Summary-Chinese\\special_tokens_map.json\u001B[0m\n",
      "\u001B[32m[2023-05-24 23:46:08,951] [    INFO]\u001B[0m - Already cached C:\\Users\\cyberloafing\\.paddlenlp\\models\\IDEA-CCNL/Randeng-Pegasus-523M-Summary-Chinese\\tokenizer_config.json\u001B[0m\n",
      "\u001B[32m[2023-05-24 23:46:08,983] [    INFO]\u001B[0m - Already cached C:\\Users\\cyberloafing\\.paddlenlp\\models\\IDEA-CCNL/Randeng-Pegasus-523M-Summary-Chinese\\model_state.pdparams\u001B[0m\n",
      "\u001B[32m[2023-05-24 23:46:08,985] [    INFO]\u001B[0m - Already cached C:\\Users\\cyberloafing\\.paddlenlp\\models\\IDEA-CCNL/Randeng-Pegasus-523M-Summary-Chinese\\model_config.json\u001B[0m\n"
     ]
    }
   ],
   "source": [
    "from paddlenlp.transformers import PegasusForConditionalGeneration, PegasusChineseTokenizer\n",
    "from paddlenlp.transformers import LinearDecayWithWarmup\n",
    "from paddle.io import BatchSampler, DistributedBatchSampler, DataLoader\n",
    "from paddlenlp.data import DataCollatorForSeq2Seq\n",
    "\n",
    "#创建Tokenizer，用于分词，将token映射成id。\n",
    "1# 初始化分词器\n",
    "tokenizer = PegasusChineseTokenizer.from_pretrained('IDEA-CCNL/Randeng-Pegasus-523M-Summary-Chinese')\n",
    "# 初始化模型，'IDEA-CCNL/Randeng-Pegasus-238M-Summary-Chinese/'IDEA-CCNL/Randeng-Pegasus-538M-Summary-Chinese\n",
    "model = PegasusForConditionalGeneration.from_pretrained('IDEA-CCNL/Randeng-Pegasus-523M-Summary-Chinese')\n",
    "# 组装 Batch 数据 & Padding\n",
    "batchify_fn = DataCollatorForSeq2Seq(tokenizer=tokenizer, model=model)"
   ]
  },
  {
   "cell_type": "code",
   "execution_count": null,
   "metadata": {},
   "outputs": [],
   "source": []
  },
  {
   "cell_type": "markdown",
   "metadata": {},
   "source": [
    "# 训练"
   ]
  },
  {
   "cell_type": "code",
   "execution_count": 45,
   "metadata": {},
   "outputs": [],
   "source": [
    "#安装需要的相关库\n",
    "import os\n",
    "import json\n",
    "import argparse\n",
    "import random\n",
    "import time\n",
    "import paddle\n",
    "import paddlenlp\n",
    "import distutils.util\n",
    "from pprint import pprint\n",
    "from functools import partial\n",
    "from tqdm import tqdm\n",
    "import numpy as np\n",
    "import math\n",
    "from datasets import load_dataset\n",
    "import contextlib\n",
    "from rouge import Rouge\n",
    "from visualdl import LogWriter\n",
    "\n",
    "\n",
    "import pandas as pd \n",
    "from paddlenlp.datasets import MapDataset\n",
    "import paddle.nn as nn\n",
    "from paddlenlp.utils.log import logger\n",
    "from paddlenlp.metrics import BLEU\n",
    "from paddlenlp.data import Tuple, Pad"
   ]
  },
  {
   "cell_type": "code",
   "execution_count": 51,
   "metadata": {},
   "outputs": [],
   "source": [
    "#定义convert_example，将content和title文本映射成int类型的id，同时构造labels。\n",
    "def convert_example(example, text_column, summary_column, tokenizer,\n",
    "                    max_source_length, max_target_length):\n",
    "    \"\"\"\n",
    "    构造模型的输入.\n",
    "    \"\"\"\n",
    "    inputs = example[text_column]\n",
    "    targets = example[summary_column]\n",
    "    # 分词\n",
    "    model_inputs = tokenizer(inputs,\n",
    "                             max_length=max_source_length,\n",
    "                             padding=False,\n",
    "                             truncation=True,\n",
    "                             return_attention_mask=True)\n",
    "    labels = tokenizer(targets,\n",
    "                       max_length=max_target_length,\n",
    "                       padding=False,\n",
    "                       truncation=True)\n",
    "    # 得到labels，后续通过DataCollatorForSeq2Seq进行移位\n",
    "    model_inputs[\"labels\"] = labels[\"input_ids\"]\n",
    "    return model_inputs"
   ]
  },
  {
   "cell_type": "code",
   "execution_count": 50,
   "metadata": {},
   "outputs": [],
   "source": [
    "#由于预训练模型限制，这里把文本最大长度设置为1024\n",
    "# 文本的最大长度\n",
    "max_source_length = 1024\n",
    "# 摘要的最大长度\n",
    "max_target_length = 256\n",
    "# 摘要的最小长度\n",
    "min_target_length = 0"
   ]
  },
  {
   "cell_type": "code",
   "execution_count": 52,
   "metadata": {},
   "outputs": [
    {
     "ename": "NameError",
     "evalue": "name 'train_dataset' is not defined",
     "output_type": "error",
     "traceback": [
      "\u001B[1;31m---------------------------------------------------------------------------\u001B[0m",
      "\u001B[1;31mNameError\u001B[0m                                 Traceback (most recent call last)",
      "Cell \u001B[1;32mIn[52], line 11\u001B[0m\n\u001B[0;32m      3\u001B[0m trans_func \u001B[38;5;241m=\u001B[39m partial(convert_example,\n\u001B[0;32m      4\u001B[0m                      text_column\u001B[38;5;241m=\u001B[39m\u001B[38;5;124m'\u001B[39m\u001B[38;5;124mcontent\u001B[39m\u001B[38;5;124m'\u001B[39m,\n\u001B[0;32m      5\u001B[0m                      summary_column\u001B[38;5;241m=\u001B[39m\u001B[38;5;124m'\u001B[39m\u001B[38;5;124mabstract\u001B[39m\u001B[38;5;124m'\u001B[39m,\n\u001B[0;32m      6\u001B[0m                      tokenizer\u001B[38;5;241m=\u001B[39mtokenizer,\n\u001B[0;32m      7\u001B[0m                      max_source_length\u001B[38;5;241m=\u001B[39mmax_source_length,\n\u001B[0;32m      8\u001B[0m                      max_target_length\u001B[38;5;241m=\u001B[39mmax_target_length)\n\u001B[0;32m     10\u001B[0m \u001B[38;5;66;03m# train_dataset和dev_dataset分别转换\u001B[39;00m\n\u001B[1;32m---> 11\u001B[0m train_dataset \u001B[38;5;241m=\u001B[39m \u001B[43mtrain_dataset\u001B[49m\u001B[38;5;241m.\u001B[39mmap(trans_func,\n\u001B[0;32m     12\u001B[0m                                   batched\u001B[38;5;241m=\u001B[39m\u001B[38;5;28;01mFalse\u001B[39;00m,\n\u001B[0;32m     13\u001B[0m                                   lazy \u001B[38;5;241m=\u001B[39m\u001B[38;5;28;01mFalse\u001B[39;00m)\n\u001B[0;32m     15\u001B[0m dev_dataset \u001B[38;5;241m=\u001B[39m dev_dataset\u001B[38;5;241m.\u001B[39mmap(trans_func,\n\u001B[0;32m     16\u001B[0m                               batched\u001B[38;5;241m=\u001B[39m\u001B[38;5;28;01mFalse\u001B[39;00m,\n\u001B[0;32m     17\u001B[0m                             lazy \u001B[38;5;241m=\u001B[39m\u001B[38;5;28;01mFalse\u001B[39;00m)\n\u001B[0;32m     18\u001B[0m \u001B[38;5;66;03m# 输出训练集的前 2 条样本\u001B[39;00m\n\u001B[0;32m     19\u001B[0m \u001B[38;5;66;03m# for idx, example in enumerate(train_dataset):\u001B[39;00m\n\u001B[0;32m     20\u001B[0m \u001B[38;5;66;03m#     if idx < 2:\u001B[39;00m\n\u001B[0;32m     21\u001B[0m \u001B[38;5;66;03m#         print(example) \u001B[39;00m\n",
      "\u001B[1;31mNameError\u001B[0m: name 'train_dataset' is not defined"
     ]
    }
   ],
   "source": [
    "#使用partial函数指定默认参数，使用map函数转换数据。map函数把原来的文本根据词汇表的编号转换成了相应的id，为了便于理解，这里把训练集合的部分样本展示出来。\n",
    "# 定义转换器\n",
    "trans_func = partial(convert_example,\n",
    "                     text_column='content',\n",
    "                     summary_column='abstract',\n",
    "                     tokenizer=tokenizer,\n",
    "                     max_source_length=max_source_length,\n",
    "                     max_target_length=max_target_length)\n",
    "                     \n",
    "# train_dataset和dev_dataset分别转换\n",
    "train_dataset = train_dataset.map(trans_func,\n",
    "                                  batched=False,\n",
    "                                  lazy =False)\n",
    "\n",
    "dev_dataset = dev_dataset.map(trans_func,\n",
    "                              batched=False,\n",
    "                            lazy =False)\n",
    "# 输出训练集的前 2 条样本\n",
    "# for idx, example in enumerate(train_dataset):\n",
    "#     if idx < 2:\n",
    "#         print(example)"
   ]
  },
  {
   "cell_type": "code",
   "execution_count": 94,
   "metadata": {},
   "outputs": [],
   "source": [
    "train_data_loader  = paddle.io.DataLoader(\n",
    "    dataset=train_dataset,\n",
    "    batch_size=8,\n",
    "    return_list=True,\n",
    "    collate_fn=batchify_fn)\n",
    "dev_batch_sampler  = BatchSampler(\n",
    "    dataset=dev_dataset,\n",
    "    batch_size=8,\n",
    "    shuffle=False)\n",
    "\n",
    "# 构造测试Dataloader\n",
    "dev_data_loader = DataLoader(dataset=dev_dataset,\n",
    "                             batch_sampler=dev_batch_sampler,\n",
    "                             num_workers=0,\n",
    "                             collate_fn=batchify_fn,\n",
    "                             return_list=True)"
   ]
  },
  {
   "cell_type": "markdown",
   "metadata": {},
   "source": [
    "## 训练配置"
   ]
  },
  {
   "cell_type": "code",
   "execution_count": 53,
   "metadata": {},
   "outputs": [
    {
     "ename": "NameError",
     "evalue": "name 'train_data_loader' is not defined",
     "output_type": "error",
     "traceback": [
      "\u001B[1;31m---------------------------------------------------------------------------\u001B[0m",
      "\u001B[1;31mNameError\u001B[0m                                 Traceback (most recent call last)",
      "Cell \u001B[1;32mIn[53], line 8\u001B[0m\n\u001B[0;32m      6\u001B[0m num_epochs \u001B[38;5;241m=\u001B[39m\u001B[38;5;241m30\u001B[39m\n\u001B[0;32m      7\u001B[0m \u001B[38;5;66;03m# 训练总步数\u001B[39;00m\n\u001B[1;32m----> 8\u001B[0m num_training_steps \u001B[38;5;241m=\u001B[39m \u001B[38;5;28mlen\u001B[39m(\u001B[43mtrain_data_loader\u001B[49m) \u001B[38;5;241m*\u001B[39m num_epochs\n\u001B[0;32m      9\u001B[0m \u001B[38;5;66;03m# AdamW优化器参数epsilon\u001B[39;00m\n\u001B[0;32m     10\u001B[0m adam_epsilon \u001B[38;5;241m=\u001B[39m \u001B[38;5;241m1e-6\u001B[39m\n",
      "\u001B[1;31mNameError\u001B[0m: name 'train_data_loader' is not defined"
     ]
    }
   ],
   "source": [
    "# 学习率预热比例\n",
    "warmup = 0.02\n",
    "# 学习率\n",
    "learning_rate = 5e-5\n",
    "# 训练轮次\n",
    "num_epochs =30\n",
    "# 训练总步数\n",
    "num_training_steps = len(train_data_loader) * num_epochs\n",
    "# AdamW优化器参数epsilon\n",
    "adam_epsilon = 1e-6\n",
    "# AdamW优化器参数weight_decay\n",
    "weight_decay=0.01\n",
    "# 训练中，每100个log_steps打印一次日志\n",
    "log_steps = 100\n",
    "# 训练中，每隔eval_steps进行一次模型评估\n",
    "eval_steps = 10000\n",
    "\n",
    "# 训练模型保存路径\n",
    "output_dir = 'checkpoints'\n",
    "# 解码beam size\n",
    "num_beams = 4\n",
    "\n",
    "log_writer = LogWriter('visualdl_log_dir')\n",
    "lr_scheduler = LinearDecayWithWarmup(learning_rate, num_training_steps, warmup)\n",
    "\n",
    "# LayerNorm参数不参与weight_decay\n",
    "decay_params = [\n",
    "    p.name for n, p in model.named_parameters()\n",
    "    if not any(nd in n for nd in [\"bias\", \"norm\"])\n",
    "]\n",
    "\n",
    "# 优化器AdamW\n",
    "optimizer = paddle.optimizer.AdamW(\n",
    "    learning_rate=lr_scheduler,\n",
    "    beta1=0.9,\n",
    "    beta2=0.999,\n",
    "    epsilon=adam_epsilon,\n",
    "    parameters=model.parameters(),\n",
    "    weight_decay=weight_decay,\n",
    "    apply_decay_param_fun=lambda x: x in decay_params)"
   ]
  },
  {
   "cell_type": "code",
   "execution_count": 96,
   "metadata": {},
   "outputs": [],
   "source": [
    "# 计算训练评估参数Rouge-1，Rouge-2，Rouge-L\n",
    "def compute_metrics(preds, targets):\n",
    "    assert len(preds) == len(targets), (\n",
    "        'The length of pred_responses should be equal to the length of '\n",
    "        'target_responses. But received {} and {}.'.format(\n",
    "            len(preds), len(targets)))\n",
    "    rouge = Rouge()\n",
    "    \n",
    "    scores = []\n",
    "    for pred, target in zip(preds, targets):\n",
    "        try:\n",
    "            score = rouge.get_scores(' '.join(pred), ' '.join(target))\n",
    "            scores.append([\n",
    "                score[0]['rouge-1']['f'], score[0]['rouge-2']['f'],\n",
    "                score[0]['rouge-l']['f']\n",
    "            ])\n",
    "        except ValueError:\n",
    "            scores.append([0, 0, 0])\n",
    "    rouge1 = np.mean([i[0] for i in scores])\n",
    "    rouge2 = np.mean([i[1] for i in scores])\n",
    "    rougel = np.mean([i[2] for i in scores])\n",
    "    \n",
    "    print('\\n' + '*' * 15)\n",
    "    print('The auto evaluation result is:')\n",
    "    print('rouge-1:', round(rouge1*100, 2))\n",
    "    print('rouge-2:', round(rouge2*100, 2))\n",
    "    print('rouge-L:', round(rougel*100, 2))\n",
    "   \n",
    "    return rouge1, rouge2, rougel"
   ]
  },
  {
   "cell_type": "code",
   "execution_count": 97,
   "metadata": {},
   "outputs": [],
   "source": [
    "# 模型评估函数\n",
    "@paddle.no_grad()\n",
    "def evaluate(model, data_loader, tokenizer, min_target_length,\n",
    "             max_target_length):\n",
    "    model.eval()\n",
    "    all_preds = []\n",
    "    all_labels = []\n",
    "    model = model._layers if isinstance(model, paddle.DataParallel) else model\n",
    "    for batch in tqdm(data_loader, total=len(data_loader), desc=\"Eval step\"):\n",
    "        labels = batch.pop('labels').numpy()\n",
    "        # 模型生成\n",
    "        preds = model.generate(input_ids=batch['input_ids'],\n",
    "                               attention_mask=batch['attention_mask'],\n",
    "                               min_length=min_target_length,\n",
    "                               max_length=max_target_length,\n",
    "                               diversity_rate='beam_search',\n",
    "                               num_beams=num_beams,\n",
    "                               use_cache=True)[0]\n",
    "        # tokenizer将id转为string\n",
    "        all_preds.extend(\n",
    "            tokenizer.batch_decode(preds.numpy(),\n",
    "                                   skip_special_tokens=True,\n",
    "                                   clean_up_tokenization_spaces=False))\n",
    "        labels = np.where(labels != -100, labels, tokenizer.pad_token_id)\n",
    "        all_labels.extend(\n",
    "            tokenizer.batch_decode(labels,\n",
    "                                   skip_special_tokens=True,\n",
    "                                   clean_up_tokenization_spaces=False))\n",
    "    rouge1, rouge2, rougel= compute_metrics(all_preds, all_labels)\n",
    "    model.train()\n",
    "    return rouge1, rouge2, rougel"
   ]
  },
  {
   "cell_type": "markdown",
   "metadata": {},
   "source": [
    "## 定义训练"
   ]
  },
  {
   "cell_type": "code",
   "execution_count": 98,
   "metadata": {},
   "outputs": [],
   "source": [
    "def train(model, train_data_loader):\n",
    "    eval_steps = 10000\n",
    "    global_step = 0\n",
    "    best_rougel = 0\n",
    "    tic_train = time.time()\n",
    "    for epoch in range(num_epochs):\n",
    "        for step, batch in enumerate(train_data_loader):\n",
    "            global_step += 1\n",
    "            # 模型前向训练，计算loss\n",
    "            lm_logits, _, loss = model(**batch)\n",
    "            loss.backward()\n",
    "            optimizer.step()\n",
    "            lr_scheduler.step()\n",
    "            optimizer.clear_grad()\n",
    "            if global_step % log_steps == 0:\n",
    "                logger.info(\n",
    "                    \"global step %d/%d, epoch: %d, batch: %d, rank_id: %s, loss: %f, lr: %.10f, speed: %.4f step/s\"\n",
    "                    % (global_step, num_training_steps, epoch, step,\n",
    "                        paddle.distributed.get_rank(), loss, optimizer.get_lr(),\n",
    "                        log_steps / (time.time() - tic_train)))\n",
    "                log_writer.add_scalar(\"train_loss\", loss.numpy(), global_step)\n",
    "                tic_train = time.time()\n",
    "            if global_step > 60000:\n",
    "                eval_steps = 3000\n",
    "            if global_step % eval_steps == 0 or global_step == num_training_steps:\n",
    "                tic_eval = time.time()\n",
    "                rouge1, rouge2, rougel = evaluate(model, dev_data_loader, tokenizer,\n",
    "                            min_target_length, max_target_length)\n",
    "                logger.info(\"eval done total : %s s\" % (time.time() - tic_eval))\n",
    "                log_writer.add_scalar(\"eval_rouge1\", rouge1, global_step)\n",
    "                log_writer.add_scalar(\"eval_rouge2\", rouge2, global_step)\n",
    "                log_writer.add_scalar(\"eval_rougel\", rougel, global_step)\n",
    "                if best_rougel < rougel:\n",
    "                    best_rougel = rougel\n",
    "                    if paddle.distributed.get_rank() == 0:\n",
    "                        if not os.path.exists(output_dir):\n",
    "                            os.makedirs(output_dir)\n",
    "                        # Need better way to get inner model of DataParallel\n",
    "                        model_to_save = model._layers if isinstance(\n",
    "                            model, paddle.DataParallel) else model\n",
    "                        model_to_save.save_pretrained(output_dir)\n",
    "                        tokenizer.save_pretrained(output_dir)"
   ]
  },
  {
   "cell_type": "code",
   "execution_count": null,
   "metadata": {
    "pycharm": {
     "is_executing": true
    }
   },
   "outputs": [],
   "source": [
    "# 调用模型训练\n",
    "train(model, train_data_loader)"
   ]
  },
  {
   "cell_type": "code",
   "execution_count": 48,
   "metadata": {},
   "outputs": [],
   "source": [
    "def infer(text, model, tokenizer):\n",
    "    tokenized = tokenizer(text,\n",
    "                          truncation=True,\n",
    "                          max_length=max_source_length,\n",
    "                          return_tensors='pd')\n",
    "    preds, _ = model.generate(input_ids=tokenized['input_ids'],\n",
    "                              max_length=130,\n",
    "                              min_length=min_target_length,\n",
    "                              decode_strategy='beam_search',\n",
    "                              num_beams=num_beams)\n",
    "    #print(tokenizer.decode(preds[0], skip_special_tokens=True, clean_up_tokenization_spaces=False))\n",
    "    return(tokenizer.decode(preds[0], skip_special_tokens=True, clean_up_tokenization_spaces=False))\n",
    "model.eval()\n",
    "validation_data = data\n",
    "text=validation_data.iat[0,1]"
   ]
  },
  {
   "cell_type": "code",
   "execution_count": 55,
   "outputs": [
    {
     "data": {
      "text/plain": "'客:我刚收到咱们话费通知的短信了，我看了一下说我上个月消费了二十一块多吧，有五元是我的包月费，剩下有16块多的其他的消费，我没有进行过任何的，我想查查什么费用坐:国内通话费0.15元，到达电话打了一分钟流量的话，应该是超出了一部分，用了15块9毛3的流量费客:我肯定没有用流量，因为我是退休在家，我家里有WIFI，一星之前我刚激活，根本连买菜都不用，流量是怎么出来的钱，你们这肯定有积分问题坐:用了五十五十九兆流量，扣了19块15块9毛7的费用客:59兆流量六块钱坐:电话那您对流量超出不认可的话可以给您进行上报反馈，后期会有专人给您回电处理客:他最后给我回电，我要求这返返费，因为我肯定没消费，比如说电话电话有过吗，你使过我电话吗，电话我也没打过，我家里人也没用，我们每个人都有手续坐:现在这边无法给您进行核实，只能看到您使用的超出您是没有使用的话，我这边给您记录上报，后期会有专人给您客:你给我上报余额，反正就这15块几吧，我肯定没花点钱，但是我绝对没用过，因为我就没出过门激活坐:那我这边给您记录上报，后期会有专人给您回复客:他什么时候联系我，还是直接就给我发短信'"
     },
     "execution_count": 55,
     "metadata": {},
     "output_type": "execute_result"
    }
   ],
   "source": [
    "text"
   ],
   "metadata": {
    "collapsed": false
   }
  },
  {
   "cell_type": "code",
   "execution_count": 60,
   "outputs": [
    {
     "data": {
      "text/plain": "'一星之前我家里有wifi'"
     },
     "execution_count": 60,
     "metadata": {},
     "output_type": "execute_result"
    }
   ],
   "source": [
    "num_beams = 4\n",
    "#构造文件读取函数\n",
    "def read_file(filename,num=2):\n",
    "    lines = []\n",
    "    with open(filename, 'r', encoding='utf-8') as f:\n",
    "        next(f)\n",
    "        if num==3:\n",
    "            for line in f:\n",
    "                lines.append({\"id\":line.split(\"|\")[0].strip(),\"content\":line.split(\"|\")[1].strip(),\"abstract\":line.split(\"|\")[2].strip()})\n",
    "        else:\n",
    "            for line in f:\n",
    "                lines.append({\"id\":line.split(\"|\")[0].strip(),\"content\":line.split(\"|\")[1].strip()})\n",
    "    return lines\n",
    "infer(text, model, tokenizer)"
   ],
   "metadata": {
    "collapsed": false
   }
  },
  {
   "cell_type": "code",
   "execution_count": 65,
   "outputs": [],
   "source": [
    "validation_file = \"data_test.csv\""
   ],
   "metadata": {
    "collapsed": false
   }
  },
  {
   "cell_type": "code",
   "execution_count": 66,
   "outputs": [],
   "source": [
    "validation_lines=read_file(validation_file)"
   ],
   "metadata": {
    "collapsed": false
   }
  },
  {
   "cell_type": "code",
   "execution_count": 68,
   "outputs": [
    {
     "data": {
      "text/plain": "{'id': '25001',\n 'content': '客:我刚收到咱们话费通知的短信了，我看了一下说我上个月消费了二十一块多吧，有五元是我的包月费，剩下有16块多的其他的消费，我没有进行过任何的，我想查查什么费用坐:国内通话费0.15元，到达电话打了一分钟流量的话，应该是超出了一部分，用了15块9毛3的流量费客:我肯定没有用流量，因为我是退休在家，我家里有WIFI，一星之前我刚激活，根本连买菜都不用，流量是怎么出来的钱，你们这肯定有积分问题坐:用了五十五十九兆流量，扣了19块15块9毛7的费用客:59兆流量六块钱坐:电话那您对流量超出不认可的话可以给您进行上报反馈，后期会有专人给您回电处理客:他最后给我回电，我要求这返返费，因为我肯定没消费，比如说电话电话有过吗，你使过我电话吗，电话我也没打过，我家里人也没用，我们每个人都有手续坐:现在这边无法给您进行核实，只能看到您使用的超出您是没有使用的话，我这边给您记录上报，后期会有专人给您客:你给我上报余额，反正就这15块几吧，我肯定没花点钱，但是我绝对没用过，因为我就没出过门激活坐:那我这边给您记录上报，后期会有专人给您回复客:他什么时候联系我，还是直接就给我发短信'}"
     },
     "execution_count": 68,
     "metadata": {},
     "output_type": "execute_result"
    }
   ],
   "source": [
    "validation_lines[0]"
   ],
   "metadata": {
    "collapsed": false
   }
  },
  {
   "cell_type": "code",
   "execution_count": 69,
   "outputs": [
    {
     "name": "stdout",
     "output_type": "stream",
     "text": [
      "数据生成进行中，当前进行ID： 25001\n",
      "数据生成进行中，当前进行ID： 25002\n",
      "数据生成进行中，当前进行ID： 25003\n",
      "数据生成进行中，当前进行ID： 25004\n",
      "数据生成进行中，当前进行ID： 25005\n",
      "数据生成进行中，当前进行ID： 25006\n",
      "数据生成进行中，当前进行ID： 25100\n",
      "数据生成进行中，当前进行ID： 25200\n",
      "数据生成进行中，当前进行ID： 25300\n",
      "数据生成进行中，当前进行ID： 25400\n",
      "数据生成进行中，当前进行ID： 25500\n",
      "数据生成进行中，当前进行ID： 25600\n",
      "数据生成进行中，当前进行ID： 25700\n",
      "数据生成进行中，当前进行ID： 25800\n",
      "数据生成进行中，当前进行ID： 25900\n",
      "数据生成进行中，当前进行ID： 26000\n",
      "数据生成进行中，当前进行ID： 26100\n",
      "数据生成进行中，当前进行ID： 26200\n",
      "数据生成进行中，当前进行ID： 26300\n",
      "数据生成进行中，当前进行ID： 26400\n",
      "数据生成进行中，当前进行ID： 26500\n",
      "数据生成进行中，当前进行ID： 26600\n",
      "数据生成进行中，当前进行ID： 26700\n",
      "数据生成进行中，当前进行ID： 26800\n",
      "数据生成进行中，当前进行ID： 26900\n",
      "数据生成进行中，当前进行ID： 27000\n",
      "数据生成进行中，当前进行ID： 27100\n",
      "数据生成进行中，当前进行ID： 27200\n",
      "数据生成进行中，当前进行ID： 27300\n",
      "数据生成进行中，当前进行ID： 27400\n",
      "数据生成进行中，当前进行ID： 27500\n",
      "数据生成进行中，当前进行ID： 27600\n",
      "数据生成进行中，当前进行ID： 27700\n",
      "数据生成进行中，当前进行ID： 27800\n",
      "数据生成进行中，当前进行ID： 27900\n",
      "数据生成进行中，当前进行ID： 28000\n",
      "数据生成进行中，当前进行ID： 28100\n",
      "数据生成进行中，当前进行ID： 28200\n",
      "数据生成进行中，当前进行ID： 28300\n",
      "数据生成进行中，当前进行ID： 28400\n",
      "数据生成进行中，当前进行ID： 28500\n",
      "数据生成进行中，当前进行ID： 28600\n",
      "数据生成进行中，当前进行ID： 28700\n",
      "数据生成进行中，当前进行ID： 28800\n",
      "数据生成进行中，当前进行ID： 28900\n",
      "数据生成进行中，当前进行ID： 29000\n",
      "数据生成进行中，当前进行ID： 29100\n",
      "数据生成进行中，当前进行ID： 29200\n",
      "数据生成进行中，当前进行ID： 29300\n",
      "数据生成进行中，当前进行ID： 29400\n",
      "数据生成进行中，当前进行ID： 29500\n",
      "数据生成进行中，当前进行ID： 29600\n",
      "数据生成进行中，当前进行ID： 29700\n",
      "数据生成进行中，当前进行ID： 29800\n",
      "数据生成进行中，当前进行ID： 29900\n",
      "数据生成进行中，当前进行ID： 30000\n",
      "数据生成进行中，当前进行ID： 30100\n",
      "数据生成进行中，当前进行ID： 30200\n",
      "数据生成进行中，当前进行ID： 30300\n",
      "数据生成进行中，当前进行ID： 30400\n",
      "数据生成进行中，当前进行ID： 30500\n",
      "数据生成进行中，当前进行ID： 30600\n",
      "数据生成进行中，当前进行ID： 30700\n",
      "数据生成进行中，当前进行ID： 30800\n",
      "数据生成进行中，当前进行ID： 30900\n",
      "数据生成进行中，当前进行ID： 31000\n",
      "数据生成进行中，当前进行ID： 31100\n",
      "数据生成进行中，当前进行ID： 31200\n",
      "数据生成进行中，当前进行ID： 31300\n",
      "数据生成进行中，当前进行ID： 31400\n",
      "数据生成进行中，当前进行ID： 31500\n",
      "数据生成进行中，当前进行ID： 31600\n",
      "数据生成进行中，当前进行ID： 31700\n",
      "数据生成进行中，当前进行ID： 31800\n",
      "数据生成进行中，当前进行ID： 31900\n",
      "数据生成进行中，当前进行ID： 32000\n",
      "数据生成进行中，当前进行ID： 32100\n",
      "数据生成进行中，当前进行ID： 32200\n",
      "数据生成进行中，当前进行ID： 32300\n",
      "数据生成进行中，当前进行ID： 32400\n",
      "数据生成进行中，当前进行ID： 32500\n"
     ]
    }
   ],
   "source": [
    "result_data=pd.DataFrame()\n",
    "idx = 0\n",
    "for line in validation_lines:\n",
    "    idx +=1\n",
    "    validation_id=line['id']\n",
    "    content=line['content']\n",
    "    ret=infer(content,model, tokenizer)\n",
    "    result={\"id\":validation_id,\"ret\":ret}\n",
    "    result_data=result_data._append(result,ignore_index=True)\n",
    "    if idx % 100 == 0 or idx in [1,2,3,4,5,6]:\n",
    "        print(\"数据生成进行中，当前进行ID：\",validation_id)\n",
    "result_data.to_csv('result.csv',  index=False,encoding='utf-8',sep ='|',header =['id','ret'])"
   ],
   "metadata": {
    "collapsed": false
   }
  },
  {
   "cell_type": "code",
   "execution_count": null,
   "outputs": [],
   "source": [],
   "metadata": {
    "collapsed": false
   }
  }
 ],
 "metadata": {
  "kernelspec": {
   "name": "paddle",
   "language": "python",
   "display_name": "paddle"
  },
  "language_info": {
   "codemirror_mode": {
    "name": "ipython",
    "version": 3
   },
   "file_extension": ".py",
   "mimetype": "text/x-python",
   "name": "python",
   "nbconvert_exporter": "python",
   "pygments_lexer": "ipython3",
   "version": "3.8.16"
  }
 },
 "nbformat": 4,
 "nbformat_minor": 2
}
