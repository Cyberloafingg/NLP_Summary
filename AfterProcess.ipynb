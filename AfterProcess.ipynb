{
 "cells": [
  {
   "cell_type": "code",
   "execution_count": 1,
   "metadata": {
    "collapsed": true
   },
   "outputs": [],
   "source": [
    "import pandas as pd"
   ]
  },
  {
   "cell_type": "code",
   "execution_count": 4,
   "outputs": [],
   "source": [
    "result = pd.read_csv('/proceed/train_data_all.csv',encoding='utf-8',sep='|')"
   ],
   "metadata": {
    "collapsed": false
   }
  },
  {
   "cell_type": "code",
   "execution_count": 5,
   "outputs": [
    {
     "data": {
      "text/plain": "      id                                                ret\n0  25001  用户来电对01月产生的15.93元的流量费有疑义，我方经系统查询安上网日志向用户解释，用户不...\n1  25002  * * * * * * * * 客户对202011-202012月产生的11.12元的流量费...\n2  25003  用户来电反映套餐到期没有通知，我方经系统查询告知用户套餐7 折合约到期在2 月底到期，用户强...\n3  25004  用户来电反映自己在网厅办理的49元20g的5g升级包，用户称自己没有办理过，已向用户正常解释...\n4  25005  用户来电反映自己办理的承诺通信费60元档得12gb 流量与权益（立即生效合约12个月）业务，...",
      "text/html": "<div>\n<style scoped>\n    .dataframe tbody tr th:only-of-type {\n        vertical-align: middle;\n    }\n\n    .dataframe tbody tr th {\n        vertical-align: top;\n    }\n\n    .dataframe thead th {\n        text-align: right;\n    }\n</style>\n<table border=\"1\" class=\"dataframe\">\n  <thead>\n    <tr style=\"text-align: right;\">\n      <th></th>\n      <th>id</th>\n      <th>ret</th>\n    </tr>\n  </thead>\n  <tbody>\n    <tr>\n      <th>0</th>\n      <td>25001</td>\n      <td>用户来电对01月产生的15.93元的流量费有疑义，我方经系统查询安上网日志向用户解释，用户不...</td>\n    </tr>\n    <tr>\n      <th>1</th>\n      <td>25002</td>\n      <td>* * * * * * * * 客户对202011-202012月产生的11.12元的流量费...</td>\n    </tr>\n    <tr>\n      <th>2</th>\n      <td>25003</td>\n      <td>用户来电反映套餐到期没有通知，我方经系统查询告知用户套餐7 折合约到期在2 月底到期，用户强...</td>\n    </tr>\n    <tr>\n      <th>3</th>\n      <td>25004</td>\n      <td>用户来电反映自己在网厅办理的49元20g的5g升级包，用户称自己没有办理过，已向用户正常解释...</td>\n    </tr>\n    <tr>\n      <th>4</th>\n      <td>25005</td>\n      <td>用户来电反映自己办理的承诺通信费60元档得12gb 流量与权益（立即生效合约12个月）业务，...</td>\n    </tr>\n  </tbody>\n</table>\n</div>"
     },
     "execution_count": 5,
     "metadata": {},
     "output_type": "execute_result"
    }
   ],
   "source": [
    "result.head()"
   ],
   "metadata": {
    "collapsed": false
   }
  },
  {
   "cell_type": "code",
   "execution_count": 11,
   "outputs": [],
   "source": [
    "import rouge\n",
    "def compute_metrics(rg,preds, targets):\n",
    "    \"\"\"\n",
    "    计算rouge指标\n",
    "    :param rg:实例化的rouge对象\n",
    "    :param preds: 文本1\n",
    "    :param targets: 文本2\n",
    "    :return: 输出为rouge1,rouge2,rougel的加权均值\n",
    "    \"\"\"\n",
    "    score = rg.get_scores(' '.join(preds), ' '.join(targets))\n",
    "    rouge1 = score[0]['rouge-1']['f']\n",
    "    rouge2 = score[0]['rouge-2']['f']\n",
    "    rougel = score[0]['rouge-l']['f']\n",
    "    # print(round(rouge1*100, 2),round(rouge2*100, 2),round(rougel*100, 2))\n",
    "    score = round((rouge1 * 0.2 + rouge2 * 0.4 + rougel * 0.4) * 100, 5)\n",
    "    return score"
   ],
   "metadata": {
    "collapsed": false
   }
  },
  {
   "cell_type": "code",
   "execution_count": 12,
   "outputs": [
    {
     "data": {
      "text/plain": "0.8"
     },
     "execution_count": 12,
     "metadata": {},
     "output_type": "execute_result"
    }
   ],
   "source": [
    "text1 = \"今天天气不错\"\n",
    "text2 = \"今天天气不好\"\n",
    "compute_metrics(rouge.Rouge(),text1,text2)"
   ],
   "metadata": {
    "collapsed": false
   }
  },
  {
   "cell_type": "code",
   "execution_count": null,
   "outputs": [],
   "source": [],
   "metadata": {
    "collapsed": false
   }
  }
 ],
 "metadata": {
  "kernelspec": {
   "display_name": "paddle",
   "language": "python",
   "name": "paddle"
  },
  "language_info": {
   "codemirror_mode": {
    "name": "ipython",
    "version": 2
   },
   "file_extension": ".py",
   "mimetype": "text/x-python",
   "name": "python",
   "nbconvert_exporter": "python",
   "pygments_lexer": "ipython2",
   "version": "2.7.6"
  }
 },
 "nbformat": 4,
 "nbformat_minor": 0
}
