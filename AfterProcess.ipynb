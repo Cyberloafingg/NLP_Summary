{
 "cells": [
  {
   "cell_type": "code",
   "execution_count": 64,
   "metadata": {},
   "outputs": [],
   "source": [
    "import pandas as pd"
   ]
  },
  {
   "cell_type": "code",
   "execution_count": 65,
   "metadata": {},
   "outputs": [],
   "source": [
    "result = pd.read_csv('result_after.csv',encoding='utf-8',sep='|')"
   ]
  },
  {
   "cell_type": "code",
   "execution_count": 66,
   "metadata": {},
   "outputs": [
    {
     "data": {
      "text/html": [
       "<div>\n",
       "<style scoped>\n",
       "    .dataframe tbody tr th:only-of-type {\n",
       "        vertical-align: middle;\n",
       "    }\n",
       "\n",
       "    .dataframe tbody tr th {\n",
       "        vertical-align: top;\n",
       "    }\n",
       "\n",
       "    .dataframe thead th {\n",
       "        text-align: right;\n",
       "    }\n",
       "</style>\n",
       "<table border=\"1\" class=\"dataframe\">\n",
       "  <thead>\n",
       "    <tr style=\"text-align: right;\">\n",
       "      <th></th>\n",
       "      <th>id</th>\n",
       "      <th>ret</th>\n",
       "    </tr>\n",
       "  </thead>\n",
       "  <tbody>\n",
       "    <tr>\n",
       "      <th>0</th>\n",
       "      <td>25001</td>\n",
       "      <td>用户来电对01月产生的15.93元的流量费有疑义，我方经系统查询安上网日志向用户解释，用户不...</td>\n",
       "    </tr>\n",
       "    <tr>\n",
       "      <th>1</th>\n",
       "      <td>25002</td>\n",
       "      <td>* * * * * * * * 客户对202011-202012月产生的11.12元的流量费...</td>\n",
       "    </tr>\n",
       "    <tr>\n",
       "      <th>2</th>\n",
       "      <td>25003</td>\n",
       "      <td>用户来电反映套餐到期没有通知，我方经系统查询告知用户套餐7 折合约到期在2 月底到期，用户强...</td>\n",
       "    </tr>\n",
       "    <tr>\n",
       "      <th>3</th>\n",
       "      <td>25004</td>\n",
       "      <td>用户来电反映自己在网厅办理的49元20g的5g升级包，用户称自己没有办理过，已向用户正常解释...</td>\n",
       "    </tr>\n",
       "    <tr>\n",
       "      <th>4</th>\n",
       "      <td>25005</td>\n",
       "      <td>用户来电反映自己办理的承诺通信费60元档得12gb 流量与权益（立即生效合约12个月）业务，...</td>\n",
       "    </tr>\n",
       "  </tbody>\n",
       "</table>\n",
       "</div>"
      ],
      "text/plain": [
       "      id                                                ret\n",
       "0  25001  用户来电对01月产生的15.93元的流量费有疑义，我方经系统查询安上网日志向用户解释，用户不...\n",
       "1  25002  * * * * * * * * 客户对202011-202012月产生的11.12元的流量费...\n",
       "2  25003  用户来电反映套餐到期没有通知，我方经系统查询告知用户套餐7 折合约到期在2 月底到期，用户强...\n",
       "3  25004  用户来电反映自己在网厅办理的49元20g的5g升级包，用户称自己没有办理过，已向用户正常解释...\n",
       "4  25005  用户来电反映自己办理的承诺通信费60元档得12gb 流量与权益（立即生效合约12个月）业务，..."
      ]
     },
     "execution_count": 66,
     "metadata": {},
     "output_type": "execute_result"
    }
   ],
   "source": [
    "result.head()"
   ]
  },
  {
   "cell_type": "code",
   "execution_count": 67,
   "metadata": {},
   "outputs": [],
   "source": [
    "import rouge\n",
    "def compute_metrics(rg,preds, targets):\n",
    "    \"\"\"\n",
    "    计算rouge指标\n",
    "    :param rg:实例化的rouge对象\n",
    "    :param preds: 文本1\n",
    "    :param targets: 文本2\n",
    "    :return: 输出为rouge1,rouge2,rougel的加权均值\n",
    "    \"\"\"\n",
    "    score = rg.get_scores(' '.join(preds), ' '.join(targets))\n",
    "    rouge1 = score[0]['rouge-1']['f']\n",
    "    rouge2 = score[0]['rouge-2']['f']\n",
    "    rougel = score[0]['rouge-l']['f']\n",
    "    # print(round(rouge1*100, 2),round(rouge2*100, 2),round(rougel*100, 2))\n",
    "    score = round((rouge1 * 0.2 + rouge2 * 0.4 + rougel * 0.4) , 5)\n",
    "    return score"
   ]
  },
  {
   "cell_type": "code",
   "execution_count": 68,
   "metadata": {},
   "outputs": [
    {
     "data": {
      "text/plain": [
       "0.8"
      ]
     },
     "execution_count": 68,
     "metadata": {},
     "output_type": "execute_result"
    }
   ],
   "source": [
    "text1 = \"今天天气不错\"\n",
    "text2 = \"今天天气不好\"\n",
    "compute_metrics(rouge.Rouge(),text1,text2)"
   ]
  },
  {
   "cell_type": "code",
   "execution_count": 69,
   "metadata": {},
   "outputs": [
    {
     "name": "stdout",
     "output_type": "stream",
     "text": [
      "用户来电对01月产生的15.93元的流量费有疑义，我方经系统查询安上网日志向用户解释，用户不认可，我方按快速处理向用户核减费用，用户不认可要求核实原因，请处理，谢谢。\n",
      "['用户来电对01月产生的15.93元的流量费有疑义', '我方经系统查询安上网日志向用户解释', '用户不认可', '我方按快速处理向用户核减费用', '用户不认可要求核实原因', '请处理', '谢谢', '']\n",
      "* * * * * * * * 客户对202011-202012月产生的11.12元的流量费有质疑，自称没有使用，按上网记录解释无效，强烈要求核实处理，请核实处理，谢谢！联系电话：* * * * * * * *\n",
      "['* * * * * * * * 客户对202011-202012月产生的11.12元的流量费有质疑', '自称没有使用', '按上网记录解释无效', '强烈要求核实处理', '请核实处理', '谢谢', '联系电话：* * * * * * * *']\n",
      "用户来电对01月产生的15.93元的流量费有疑义\n",
      "['用户来电对01月产生的15.93元的流量费有疑义', '我方经系统查询安上网日志向用户解释', '用户不认可', '我方按快速处理向用户核减费用', '用户不认可要求核实原因', '请处理', '谢谢', '']\n",
      "* * * * * * * * 客户对202011-202012月产生的11.12元的流量费有质疑\n",
      "['* * * * * * * * 客户对202011-202012月产生的11.12元的流量费有质疑', '自称没有使用', '按上网记录解释无效', '强烈要求核实处理', '请核实处理', '谢谢', '联系电话：* * * * * * * *']\n"
     ]
    },
    {
     "data": {
      "text/plain": [
       "0.60357"
      ]
     },
     "execution_count": 69,
     "metadata": {},
     "output_type": "execute_result"
    }
   ],
   "source": [
    "import re\n",
    "\n",
    "pattern = r',|;|\\?|!|=|，|。|、|；|！|…'\n",
    "\n",
    "# 这块下面都是在实验\n",
    "ab=result['ret']\n",
    "ab0=ab[0]\n",
    "ab1=ab[1]\n",
    "result_list01 = re.split(pattern, ab0)\n",
    "result_list02 = re.split(pattern, ab1)\n",
    "\n",
    "print(ab[0])\n",
    "print(result_list01)\n",
    "print(ab[1])\n",
    "print(result_list02)\n",
    "\n",
    "can01=[result_list01[0]]\n",
    "for i in result_list01:\n",
    "    judge=0\n",
    "    if i!=\"\":\n",
    "        for j in can01:\n",
    "            if compute_metrics(rouge.Rouge(),i,j)>0.75:\n",
    "                print(j)\n",
    "                judge=1\n",
    "                break\n",
    "    if judge==0:\n",
    "        can01.append(i)    \n",
    "print(can01)\n",
    "\n",
    "can02=[result_list02[0]]\n",
    "for i in result_list02:\n",
    "    judge=0\n",
    "    if i!=\"\":\n",
    "        for j in can02:\n",
    "            if compute_metrics(rouge.Rouge(),i,j)>0.75:\n",
    "                print(j)\n",
    "                judge=1\n",
    "                break\n",
    "    if judge==0:\n",
    "        can02.append(i)\n",
    "print(can02)\n",
    "\n",
    "compute_metrics(rouge.Rouge(),result_list01[2],result_list01[4])"
   ]
  },
  {
   "cell_type": "code",
   "execution_count": null,
   "metadata": {
    "pycharm": {
     "is_executing": true
    }
   },
   "outputs": [],
   "source": [
    "for si in range(len(ab)):\n",
    "    abx = ab[si]\n",
    "    # print(\"原句：\"+abx)\n",
    "    sen_list = re.split(pattern, abx)\n",
    "    # print(sen_list)\n",
    "    canx = [sen_list[0]]\n",
    "    for i in sen_list:\n",
    "        judge = 0\n",
    "        if i!=\"\":\n",
    "            for j in canx:\n",
    "                if compute_metrics(rouge.Rouge(),i,j) > 0.75:\n",
    "                    judge = 1\n",
    "                    break\n",
    "            if judge == 0:\n",
    "                canx.append(i)\n",
    "    # print(canx)\n",
    "    res=\"\"\n",
    "    for s in range(len(canx)):\n",
    "        if s!=len(canx)-1:\n",
    "            res=res+canx[s]+\"，\"\n",
    "        else:\n",
    "            res=res+canx[s]+\"。\"\n",
    "    # print(\"去冗：\"+res)\n",
    "    ab[si] = res\n",
    "\n",
    "result['ret'] = ab"
   ]
  },
  {
   "cell_type": "code",
   "execution_count": 63,
   "metadata": {},
   "outputs": [],
   "source": [
    "result.to_csv('result.csv',  index=False,encoding='utf-8',sep ='|',header =['id','ret'])"
   ]
  },
  {
   "cell_type": "code",
   "execution_count": null,
   "metadata": {},
   "outputs": [],
   "source": []
  }
 ],
 "metadata": {
  "kernelspec": {
   "display_name": "Python 3 (ipykernel)",
   "language": "python",
   "name": "python3"
  },
  "language_info": {
   "codemirror_mode": {
    "name": "ipython",
    "version": 3
   },
   "file_extension": ".py",
   "mimetype": "text/x-python",
   "name": "python",
   "nbconvert_exporter": "python",
   "pygments_lexer": "ipython3",
   "version": "3.8.16"
  }
 },
 "nbformat": 4,
 "nbformat_minor": 1
}
